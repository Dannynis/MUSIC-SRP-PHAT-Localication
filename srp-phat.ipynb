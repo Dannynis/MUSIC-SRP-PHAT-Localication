{
 "cells": [
  {
   "cell_type": "code",
   "execution_count": 1,
   "metadata": {},
   "outputs": [],
   "source": [
    "import numpy as np\n",
    "import librosa\n",
    "from IPython.display import Audio\n",
    "import matplotlib.pyplot as plt\n",
    "import plotly.express as px\n",
    "import plotly.graph_objects as go"
   ]
  },
  {
   "cell_type": "code",
   "execution_count": 2,
   "metadata": {},
   "outputs": [],
   "source": [
    "\n",
    "def gcc_phat(sig, refsig, fs=1, interp=16):\n",
    "    '''\n",
    "    This function computes the offset between the signal sig and the reference signal refsig\n",
    "    using the Generalized Cross Correlation - Phase Transform (GCC-PHAT) method.\n",
    "    '''\n",
    "    # make sure the length for the FFT is larger or equal than len(sig) + len(refsig)\n",
    "    n = sig.shape[0] + refsig.shape[0]\n",
    "\n",
    "    # Generalized Cross Correlation Phase Transform\n",
    "    SIG = np.fft.rfft(sig, n=n)\n",
    "    REFSIG = np.fft.rfft(refsig, n=n)\n",
    "    R = SIG * np.conj(REFSIG)\n",
    "\n",
    "    cc = np.fft.irfft(R / (np.abs(R) + 1e-10), n=interp * n)  \n",
    "    \n",
    "\n",
    "    max_shift = int(interp * n / 2)\n",
    "    # print(np.argmax(np.abs(cc)))\n",
    "\n",
    "    cc = np.concatenate((cc[-max_shift:], cc[:max_shift+1]))\n",
    "\n",
    "    # print(np.argmax(np.abs(cc)))\n",
    "    # # find max cross correlation index\n",
    "    \n",
    "    # shift = np.argmax(np.abs(cc)) - max_shift\n",
    "\n",
    "    # tau = shift / float(interp * fs)\n",
    "    return  cc#,tau\n"
   ]
  },
  {
   "cell_type": "code",
   "execution_count": 3,
   "metadata": {},
   "outputs": [],
   "source": [
    "# (np.argmax(np.abs(cc)) - int(sig_len * 16)) / (16000 * 16)"
   ]
  },
  {
   "cell_type": "code",
   "execution_count": 4,
   "metadata": {},
   "outputs": [],
   "source": [
    "# np.linspace(-sig_len/ fs, sig_len/ fs, 16 * sig_len * 2 +1).astype(np.float32)[np.argmax(np.abs(cc))]"
   ]
  },
  {
   "cell_type": "code",
   "execution_count": 5,
   "metadata": {},
   "outputs": [],
   "source": [
    "# np.argmax(np.abs(cc))"
   ]
  },
  {
   "cell_type": "code",
   "execution_count": 6,
   "metadata": {},
   "outputs": [],
   "source": [
    "# fs = 16000  # Sampling frequency (Hz)\n",
    "# f = 10  # Frequency of sine wave (Hz)\n",
    "# seconds = 1  # Duration of the signal (s)\n",
    "# t = np.arange(0, seconds, 1/fs)\n",
    "\n",
    "# # Generate Sine Waves\n",
    "# sig1 = wav[0]#np.concatenate([np.zeros(1000),np.sin(2 * np.pi * f * t)*3, np.zeros(1000)])  # First sine wave\n",
    "# delay_time = 0.02 # 1/4 second delay\n",
    "# delay_samples = int(delay_time * fs)  # Convert delay to samples\n",
    "# print(delay_samples / fs)\n",
    "# sig2 = np.roll(sig1, delay_samples)  # Second sine wave with delay\n",
    "# sig_len = sig1.shape[0]\n",
    "\n",
    "# delay_axs = np.linspace(-sig_len/ fs, sig_len/ fs,16*sig_len * 2 +1).astype(np.float32)\n",
    "\n",
    "# # Apply GCC-PHAT\n",
    "# cc = gcc_phat(sig1, sig2, fs)\n",
    "\n",
    "# delay_axs[np.argmax(np.abs(cc))]\n",
    "# # (np.argmax(np.abs(cc )) - sig1.shape[0])  / fs\n",
    "# # # Plot the Cross-Correlation\n",
    "# # plt.figure(figsize=(10, 5))\n",
    "# # plt.plot(tau_axis, cc)\n",
    "# # plt.axvline(x=estimated_delay, color='r', linestyle='--', label=f'Estimated Delay = {estimated_delay:.4f} s')\n",
    "# # plt.xlabel(\"Time Shift (s)\")\n",
    "# # plt.ylabel(\"Cross-Correlation\")\n",
    "# # plt.title(\"GCC-PHAT Cross-Correlation\")\n",
    "# # plt.legend()\n",
    "# # plt.grid()\n",
    "# # plt.show()\n",
    "\n",
    "# # # Print the Estimated Delay\n",
    "# # print(f\"Estimated Delay: {estimated_delay:.4f} seconds\")\n",
    "# # print(f\"Expected Delay: {delay_time} seconds\")"
   ]
  },
  {
   "cell_type": "code",
   "execution_count": 7,
   "metadata": {},
   "outputs": [],
   "source": [
    "import itertools\n",
    "def srp_phat(signals, mic_positions, grid, fs, interp = 16):\n",
    "    \"\"\"Perform SRP-PHAT localization.\"\"\"\n",
    "    num_mics = len(mic_positions)\n",
    "    srp_map = np.zeros(grid.shape[0], dtype=np.float32)\n",
    "\n",
    "    sig_len = signals.shape[1]\n",
    "\n",
    "    delay_axs = np.linspace(-sig_len/ fs, sig_len/ fs, interp*sig_len * 2 +1).astype(np.float32) # mapping between index and delay in seconds\n",
    "\n",
    "    n_channels = signals.shape[0]\n",
    "    # taus = np.zeros((n_channels, n_channels))\n",
    "    gccs = {}\n",
    "    for (i, j) in itertools.combinations(range(num_mics), 2):\n",
    "        if i == j:\n",
    "            continue\n",
    "        cc = gcc_phat(signals[i], signals[j], fs=fs, interp=interp)\n",
    "        # print(i,j,tau)\n",
    "        gccs[(i,j)] = cc\n",
    "\n",
    "\n",
    "    for idx,candidate in enumerate(grid):\n",
    "        power = 0\n",
    "        for (i, j) in itertools.combinations(range(num_mics), 2):\n",
    "            if i == j:\n",
    "                continue\n",
    "            dist_i = np.linalg.norm(candidate - mic_positions[i])\n",
    "            dist_j = np.linalg.norm(candidate - mic_positions[j])\n",
    "            tau = (dist_i - dist_j) / 343.0  # Speed of sound (m/s)\n",
    "            \n",
    "            gcc = gccs[(i,j)]\n",
    "            \n",
    "            closest_idx = np.argmin(np.abs(delay_axs - tau))\n",
    "            power += gcc[closest_idx]\n",
    "\n",
    "        srp_map[idx] = power\n",
    "\n",
    "    return srp_map"
   ]
  },
  {
   "cell_type": "code",
   "execution_count": 8,
   "metadata": {},
   "outputs": [],
   "source": [
    "d = 0.2\n",
    "fs = 16000\n",
    "\n",
    "mic_pos = np.array([\n",
    "          [2.6 - d / 2, 3, 1.5], [2.6 + d / 2, 3, 1.5], [2.6, 3-d/2, 1.5], [2.6 , 3+d/2, 1.5]\n",
    "\n",
    "      ])\n",
    "room_dim = [5.2,6.2,3.5]\n"
   ]
  },
  {
   "cell_type": "code",
   "execution_count": 9,
   "metadata": {},
   "outputs": [],
   "source": [
    "from scipy.signal import fftconvolve\n",
    "import rir_generator as rir\n",
    "\n",
    "\n",
    "\n",
    "def rnd_speaker_pos():\n",
    "  x = np.random.uniform(low=1, high=4, size=(1,))[0]\n",
    "  y = np.random.uniform(low=1, high=5, size=(1,))[0]\n",
    "  speaker_pos =  [x, y, 1.5]\n",
    "  return speaker_pos\n",
    "\n",
    "def gen_rir(t60,pos):\n",
    "\n",
    "  h = rir.generate(\n",
    "      c=340,                  # Sound velocity (m/s)\n",
    "      fs=fs,                  # Sample frequency (samples/s)\n",
    "      r=mic_pos,\n",
    "\n",
    "      s=pos,          # Source position [x y z] (m)\n",
    "      L=room_dim,            # Room dimensions [x y z] (m)\n",
    "      reverberation_time=t60, # Reverberation time (s)\n",
    "      nsample=int(t60 * fs),           # Number of output samples\n",
    "  )\n",
    "      # [1.617, 2.45, 1.7]\n",
    "  return h\n",
    "\n",
    "def add_white_noise(signal, snr_db=10):\n",
    "    if len(signal.shape) == 1 :\n",
    "      signal = signal.reshape(1,-1)\n",
    "    signal_power = np.mean(signal**2,axis=1, keepdims=True)\n",
    "    noise_power = signal_power / (10**(snr_db / 10))\n",
    "    noise = np.sqrt(noise_power) * np.random.normal(0, 1, signal.shape) # spectral and spatial white noise - uncorollated sensors\n",
    "    noisy_signal = signal + noise\n",
    "    return noisy_signal, noise\n",
    "\n",
    "\n",
    "def convolve_rir(signal, rirs):\n",
    "     rirs = rirs.T\n",
    "     return np.stack([np.convolve(signal, rir, mode='full') for rir in rirs])\n"
   ]
  },
  {
   "cell_type": "code",
   "execution_count": 86,
   "metadata": {},
   "outputs": [],
   "source": [
    "def plot_map(srp_map, grid, mic_pos, room_dim, best_pos, speaker_pos, title):\n",
    "\n",
    "    fig = px.imshow(srp_map, x=np.linspace(0, room_dim[0], 20), y=np.linspace(0, room_dim[1], 20))\n",
    "    #  add the microphones\n",
    "    fig.add_trace(go.Scatter(x=mic_pos[:, 0], y=mic_pos[:, 1], mode='markers', marker=dict(size=10, color='red')))\n",
    "    # add the estimated source position\n",
    "    fig.add_trace(go.Scatter(x=[grid[best_pos][0]], y=[grid[best_pos][1]], mode='markers', marker=dict(size=10, color='blue')))\n",
    "    fig.add_trace(go.Scatter(x=[speaker_pos[0]], y=[speaker_pos[1]], mode='markers', marker=dict(size=10, color='green')))\n",
    "    fig.update_layout(title=title,\n",
    "                    xaxis_title='X (m)',\n",
    "                    yaxis_title='Y (m)')\n",
    "    # add names to traces\n",
    "    fig.data[1].name = 'Microphones'\n",
    "    fig.data[2].name = 'Estimated Source Position'\n",
    "    fig.data[3].name = 'True Source Position'\n",
    "    # place colorbar to the left\n",
    "    fig.update_layout(coloraxis_colorbar=dict(\n",
    "        title='Likehood',\n",
    "        tickvals=[srp_map.min(), srp_map.max()],\n",
    "        ticktext=['Low', 'High'],\n",
    "        orientation = 'h',\n",
    "        \n",
    "    ))\n",
    "    \n",
    "    fig.show()"
   ]
  },
  {
   "cell_type": "code",
   "execution_count": 84,
   "metadata": {},
   "outputs": [],
   "source": [
    "wav, sr = librosa.load('12.wav', sr=None, mono=False)\n",
    "speaker_pos = rnd_speaker_pos()\n",
    "imp03_main = gen_rir(0.3,speaker_pos)\n",
    "\n",
    "main_speaker_room = convolve_rir(wav, imp03_main)\n",
    "\n",
    "main_speaker_room_noisy_white, white_noise = add_white_noise(main_speaker_room, snr_db=15)\n",
    "\n",
    "grid = np.array([[x, y, 1.5] for x in np.linspace(0, room_dim[0], 20) for y in np.linspace(0, room_dim[1], 20)])\n",
    "\n",
    "srp = srp_phat(main_speaker_room_noisy_white, mic_pos, grid, sr, interp=1)\n",
    "best_pos = srp.argmax()"
   ]
  },
  {
   "cell_type": "code",
   "execution_count": 87,
   "metadata": {},
   "outputs": [
    {
     "name": "stdout",
     "output_type": "stream",
     "text": [
      "Estimated Source Position: [2.73684211 4.24210526 1.5       ]\n",
      "True Source Position: [2.8465315381203204, 4.813087288677984, 1.5]\n"
     ]
    },
    {
     "data": {
      "application/vnd.plotly.v1+json": {
       "config": {
        "plotlyServerURL": "https://plot.ly"
       },
       "data": [
        {
         "coloraxis": "coloraxis",
         "hovertemplate": "x: %{x}<br>y: %{y}<br>color: %{z}<extra></extra>",
         "name": "0",
         "type": "heatmap",
         "x": [
          0,
          0.2736842105263158,
          0.5473684210526316,
          0.8210526315789475,
          1.0947368421052632,
          1.368421052631579,
          1.642105263157895,
          1.9157894736842107,
          2.1894736842105265,
          2.463157894736842,
          2.736842105263158,
          3.0105263157894737,
          3.28421052631579,
          3.5578947368421057,
          3.8315789473684214,
          4.105263157894737,
          4.378947368421053,
          4.652631578947369,
          4.926315789473684,
          5.2
         ],
         "xaxis": "x",
         "y": [
          0,
          0.3263157894736842,
          0.6526315789473685,
          0.9789473684210527,
          1.305263157894737,
          1.6315789473684212,
          1.9578947368421054,
          2.2842105263157895,
          2.610526315789474,
          2.936842105263158,
          3.2631578947368425,
          3.5894736842105264,
          3.9157894736842107,
          4.242105263157895,
          4.568421052631579,
          4.894736842105264,
          5.221052631578948,
          5.5473684210526315,
          5.873684210526316,
          6.2
         ],
         "yaxis": "y",
         "z": [
          [
           0.014813577,
           -0.0036024102,
           -0.0072710644,
           -0.024759732,
           -0.048193708,
           -0.017031213,
           -0.0020447867,
           0.0033233478,
           0.05166504,
           0.12796128,
           0.12673664,
           0.19253732,
           0.1379259,
           0.069635496,
           0.03776799,
           0.02861586,
           0.015777916,
           0.006852906,
           0.005891447,
           -0.018055836
          ],
          [
           0.012046667,
           0.014813577,
           -0.0036024102,
           -0.015199133,
           -0.024759732,
           -0.048193708,
           -0.0020447867,
           0.0050060134,
           0.05166504,
           0.12796128,
           0.12673664,
           0.19253732,
           0.14640711,
           0.069635496,
           0.02861586,
           0.015777916,
           0.015299305,
           0.005891447,
           -0.018055836,
           -0.018904898
          ],
          [
           0.00704153,
           0.012046667,
           0.014813577,
           -0.0036024102,
           -0.015199133,
           -0.048193708,
           -0.017031213,
           -0.0020447867,
           0.03406777,
           0.05166504,
           0.19253732,
           0.15012313,
           0.069635496,
           0.03776799,
           0.02861586,
           0.015299305,
           0.005891447,
           -0.018055836,
           -0.018904898,
           -0.023910036
          ],
          [
           0.049030554,
           0.00704153,
           0.012046667,
           0.014813577,
           0.0056026042,
           -0.024759732,
           -0.048193708,
           -0.0020447867,
           0.022056643,
           0.05166504,
           0.19253732,
           0.13864575,
           0.069635496,
           0.02861586,
           0.015777916,
           0.022306947,
           -0.018055836,
           -0.018904898,
           -0.023910036,
           -0.009810483
          ],
          [
           0.061637346,
           0.052432332,
           0.049030554,
           0.00704153,
           0.014813577,
           -0.0072710644,
           -0.024759732,
           -0.003528282,
           0.0033233478,
           0.05166504,
           0.19253732,
           0.1379259,
           0.060385454,
           0.015777916,
           0.006852906,
           -0.018055836,
           -0.023910036,
           -0.009810483,
           0.01814691,
           0.03456241
          ],
          [
           0.12305646,
           0.11713552,
           0.052432332,
           0.049030554,
           0.00704153,
           0.014813577,
           -0.0072710644,
           -0.048193708,
           -0.0020447867,
           0.05166504,
           0.19253732,
           0.069635496,
           0.02861586,
           0.006852906,
           -0.018055836,
           -0.023910036,
           -0.009810483,
           0.01814691,
           0.090489715,
           0.096410654
          ],
          [
           0.23828983,
           0.13613342,
           0.12305646,
           0.11713552,
           0.052432332,
           0.049030554,
           0.014813577,
           -0.0072710644,
           -0.003528282,
           0.05166504,
           0.19253732,
           0.060385454,
           0.006852906,
           -0.018055836,
           -0.009810483,
           0.01814691,
           0.090489715,
           0.096410654,
           0.10108014,
           0.15550831
          ],
          [
           0.24310076,
           0.23828983,
           0.23828983,
           0.20096107,
           0.12305646,
           0.11713552,
           0.041102484,
           0.014813577,
           -0.024759732,
           0.0074085803,
           0.1405859,
           0.015777916,
           -0.018055836,
           -0.0013640841,
           0.090489715,
           0.096410654,
           0.14022502,
           0.15550831,
           0.15550831,
           0.16031924
          ],
          [
           0.32175016,
           0.34105527,
           0.33697006,
           0.28236982,
           0.24310076,
           0.23828983,
           0.20096107,
           0.11713552,
           0.00704153,
           0.0005569503,
           0.06304546,
           -0.023910036,
           0.090489715,
           0.14022502,
           0.15550831,
           0.16031924,
           0.21579213,
           0.23630169,
           0.23896168,
           0.21965657
          ],
          [
           0.2726588,
           0.2726588,
           0.2726588,
           0.2726588,
           0.2726588,
           0.2726588,
           0.27033082,
           0.27033082,
           0.2630647,
           0.19069022,
           0.13061744,
           0.19648702,
           0.2575193,
           0.2575193,
           0.25984728,
           0.25984728,
           0.25984728,
           0.25984728,
           0.25984728,
           0.25984728
          ],
          [
           0.27130178,
           0.27130178,
           0.27130178,
           0.27130178,
           0.22797357,
           0.23645478,
           0.16195689,
           0.17094466,
           0.10773381,
           0.15753049,
           0.36189902,
           0.22100857,
           0.29762936,
           0.31065193,
           0.34363303,
           0.34195036,
           0.364731,
           0.364731,
           0.364731,
           0.364731
          ],
          [
           0.16001675,
           0.16195689,
           0.1663941,
           0.1663941,
           0.1663941,
           0.13839953,
           0.12814039,
           0.05248438,
           0.12503716,
           0.40709955,
           0.79352033,
           0.2935629,
           0.14174561,
           0.27970517,
           0.28125823,
           0.31508914,
           0.31508914,
           0.31508914,
           0.31065193,
           0.3253
          ],
          [
           0.1663941,
           0.1663941,
           0.15147649,
           0.13839953,
           0.13080965,
           0.1003212,
           0.044326212,
           0.09001682,
           0.27888063,
           0.4686923,
           0.86319244,
           0.5472402,
           0.26112294,
           0.15117067,
           0.20674796,
           0.27366838,
           0.28125823,
           0.28592774,
           0.31508914,
           0.31508914
          ],
          [
           0.13839953,
           0.13839953,
           0.13080965,
           0.109924465,
           0.06827349,
           0.052743774,
           0.09001682,
           0.1895782,
           0.31988943,
           0.5451304,
           0.88152546,
           0.6230463,
           0.43589228,
           0.26112294,
           0.15958825,
           0.13275468,
           0.22453237,
           0.27366838,
           0.28125823,
           0.28125823
          ],
          [
           0.13080965,
           0.109924465,
           0.06827349,
           0.044326212,
           0.055510685,
           0.06961024,
           0.19516008,
           0.27888063,
           0.32694024,
           0.5451304,
           0.88152546,
           0.6998179,
           0.5472402,
           0.38848576,
           0.20242633,
           0.1604373,
           0.15117067,
           0.13275468,
           0.22453237,
           0.27366838
          ],
          [
           0.109924465,
           0.06827349,
           0.044326212,
           0.055510685,
           0.06961024,
           0.15708487,
           0.1895782,
           0.31988943,
           0.40709955,
           0.5451304,
           0.88152546,
           0.79352033,
           0.6230463,
           0.43589228,
           0.36755615,
           0.20242633,
           0.1604373,
           0.15117067,
           0.13275468,
           0.22453237
          ],
          [
           0.06827349,
           0.044326212,
           0.055510685,
           0.06961024,
           0.12503716,
           0.21301217,
           0.27888063,
           0.31988943,
           0.45109504,
           0.5451304,
           0.88152546,
           0.82077825,
           0.6230463,
           0.5472402,
           0.42305434,
           0.2935629,
           0.20242633,
           0.1604373,
           0.15117067,
           0.13275468
          ],
          [
           0.052743774,
           0.055510685,
           0.06961024,
           0.12503716,
           0.21301217,
           0.1895782,
           0.31988943,
           0.32694024,
           0.5451304,
           0.5451304,
           0.88152546,
           0.88152546,
           0.6998179,
           0.6230463,
           0.43589228,
           0.42305434,
           0.2935629,
           0.20242633,
           0.1604373,
           0.15958825
          ],
          [
           0.055510685,
           0.06961024,
           0.12503716,
           0.19516008,
           0.1895782,
           0.27888063,
           0.31988943,
           0.34744978,
           0.5451304,
           0.6922049,
           0.781487,
           0.88152546,
           0.75441813,
           0.6230463,
           0.5472402,
           0.43589228,
           0.38848576,
           0.2935629,
           0.20242633,
           0.1604373
          ],
          [
           0.06961024,
           0.12503716,
           0.15708487,
           0.21301217,
           0.1895782,
           0.31988943,
           0.31988943,
           0.45109504,
           0.5451304,
           0.6922049,
           0.781487,
           0.88152546,
           0.82077825,
           0.6230463,
           0.6230463,
           0.43589228,
           0.42305434,
           0.36755615,
           0.2935629,
           0.20242633
          ]
         ]
        },
        {
         "marker": {
          "color": "red",
          "size": 10
         },
         "mode": "markers",
         "name": "Microphones",
         "type": "scatter",
         "x": [
          2.5,
          2.7,
          2.6,
          2.6
         ],
         "y": [
          3,
          3,
          2.9,
          3.1
         ]
        },
        {
         "marker": {
          "color": "blue",
          "size": 10
         },
         "mode": "markers",
         "name": "Estimated Source Position",
         "type": "scatter",
         "x": [
          2.736842105263158
         ],
         "y": [
          4.242105263157895
         ]
        },
        {
         "marker": {
          "color": "green",
          "size": 10
         },
         "mode": "markers",
         "name": "True Source Position",
         "type": "scatter",
         "x": [
          2.8465315381203204
         ],
         "y": [
          4.813087288677984
         ]
        }
       ],
       "layout": {
        "coloraxis": {
         "colorbar": {
          "orientation": "h",
          "ticktext": [
           "Low",
           "High"
          ],
          "tickvals": [
           -0.048193708062171936,
           0.881525456905365
          ],
          "title": {
           "text": "Likehood"
          }
         },
         "colorscale": [
          [
           0,
           "#0d0887"
          ],
          [
           0.1111111111111111,
           "#46039f"
          ],
          [
           0.2222222222222222,
           "#7201a8"
          ],
          [
           0.3333333333333333,
           "#9c179e"
          ],
          [
           0.4444444444444444,
           "#bd3786"
          ],
          [
           0.5555555555555556,
           "#d8576b"
          ],
          [
           0.6666666666666666,
           "#ed7953"
          ],
          [
           0.7777777777777778,
           "#fb9f3a"
          ],
          [
           0.8888888888888888,
           "#fdca26"
          ],
          [
           1,
           "#f0f921"
          ]
         ]
        },
        "margin": {
         "t": 60
        },
        "template": {
         "data": {
          "bar": [
           {
            "error_x": {
             "color": "#2a3f5f"
            },
            "error_y": {
             "color": "#2a3f5f"
            },
            "marker": {
             "line": {
              "color": "#E5ECF6",
              "width": 0.5
             },
             "pattern": {
              "fillmode": "overlay",
              "size": 10,
              "solidity": 0.2
             }
            },
            "type": "bar"
           }
          ],
          "barpolar": [
           {
            "marker": {
             "line": {
              "color": "#E5ECF6",
              "width": 0.5
             },
             "pattern": {
              "fillmode": "overlay",
              "size": 10,
              "solidity": 0.2
             }
            },
            "type": "barpolar"
           }
          ],
          "carpet": [
           {
            "aaxis": {
             "endlinecolor": "#2a3f5f",
             "gridcolor": "white",
             "linecolor": "white",
             "minorgridcolor": "white",
             "startlinecolor": "#2a3f5f"
            },
            "baxis": {
             "endlinecolor": "#2a3f5f",
             "gridcolor": "white",
             "linecolor": "white",
             "minorgridcolor": "white",
             "startlinecolor": "#2a3f5f"
            },
            "type": "carpet"
           }
          ],
          "choropleth": [
           {
            "colorbar": {
             "outlinewidth": 0,
             "ticks": ""
            },
            "type": "choropleth"
           }
          ],
          "contour": [
           {
            "colorbar": {
             "outlinewidth": 0,
             "ticks": ""
            },
            "colorscale": [
             [
              0,
              "#0d0887"
             ],
             [
              0.1111111111111111,
              "#46039f"
             ],
             [
              0.2222222222222222,
              "#7201a8"
             ],
             [
              0.3333333333333333,
              "#9c179e"
             ],
             [
              0.4444444444444444,
              "#bd3786"
             ],
             [
              0.5555555555555556,
              "#d8576b"
             ],
             [
              0.6666666666666666,
              "#ed7953"
             ],
             [
              0.7777777777777778,
              "#fb9f3a"
             ],
             [
              0.8888888888888888,
              "#fdca26"
             ],
             [
              1,
              "#f0f921"
             ]
            ],
            "type": "contour"
           }
          ],
          "contourcarpet": [
           {
            "colorbar": {
             "outlinewidth": 0,
             "ticks": ""
            },
            "type": "contourcarpet"
           }
          ],
          "heatmap": [
           {
            "colorbar": {
             "outlinewidth": 0,
             "ticks": ""
            },
            "colorscale": [
             [
              0,
              "#0d0887"
             ],
             [
              0.1111111111111111,
              "#46039f"
             ],
             [
              0.2222222222222222,
              "#7201a8"
             ],
             [
              0.3333333333333333,
              "#9c179e"
             ],
             [
              0.4444444444444444,
              "#bd3786"
             ],
             [
              0.5555555555555556,
              "#d8576b"
             ],
             [
              0.6666666666666666,
              "#ed7953"
             ],
             [
              0.7777777777777778,
              "#fb9f3a"
             ],
             [
              0.8888888888888888,
              "#fdca26"
             ],
             [
              1,
              "#f0f921"
             ]
            ],
            "type": "heatmap"
           }
          ],
          "heatmapgl": [
           {
            "colorbar": {
             "outlinewidth": 0,
             "ticks": ""
            },
            "colorscale": [
             [
              0,
              "#0d0887"
             ],
             [
              0.1111111111111111,
              "#46039f"
             ],
             [
              0.2222222222222222,
              "#7201a8"
             ],
             [
              0.3333333333333333,
              "#9c179e"
             ],
             [
              0.4444444444444444,
              "#bd3786"
             ],
             [
              0.5555555555555556,
              "#d8576b"
             ],
             [
              0.6666666666666666,
              "#ed7953"
             ],
             [
              0.7777777777777778,
              "#fb9f3a"
             ],
             [
              0.8888888888888888,
              "#fdca26"
             ],
             [
              1,
              "#f0f921"
             ]
            ],
            "type": "heatmapgl"
           }
          ],
          "histogram": [
           {
            "marker": {
             "pattern": {
              "fillmode": "overlay",
              "size": 10,
              "solidity": 0.2
             }
            },
            "type": "histogram"
           }
          ],
          "histogram2d": [
           {
            "colorbar": {
             "outlinewidth": 0,
             "ticks": ""
            },
            "colorscale": [
             [
              0,
              "#0d0887"
             ],
             [
              0.1111111111111111,
              "#46039f"
             ],
             [
              0.2222222222222222,
              "#7201a8"
             ],
             [
              0.3333333333333333,
              "#9c179e"
             ],
             [
              0.4444444444444444,
              "#bd3786"
             ],
             [
              0.5555555555555556,
              "#d8576b"
             ],
             [
              0.6666666666666666,
              "#ed7953"
             ],
             [
              0.7777777777777778,
              "#fb9f3a"
             ],
             [
              0.8888888888888888,
              "#fdca26"
             ],
             [
              1,
              "#f0f921"
             ]
            ],
            "type": "histogram2d"
           }
          ],
          "histogram2dcontour": [
           {
            "colorbar": {
             "outlinewidth": 0,
             "ticks": ""
            },
            "colorscale": [
             [
              0,
              "#0d0887"
             ],
             [
              0.1111111111111111,
              "#46039f"
             ],
             [
              0.2222222222222222,
              "#7201a8"
             ],
             [
              0.3333333333333333,
              "#9c179e"
             ],
             [
              0.4444444444444444,
              "#bd3786"
             ],
             [
              0.5555555555555556,
              "#d8576b"
             ],
             [
              0.6666666666666666,
              "#ed7953"
             ],
             [
              0.7777777777777778,
              "#fb9f3a"
             ],
             [
              0.8888888888888888,
              "#fdca26"
             ],
             [
              1,
              "#f0f921"
             ]
            ],
            "type": "histogram2dcontour"
           }
          ],
          "mesh3d": [
           {
            "colorbar": {
             "outlinewidth": 0,
             "ticks": ""
            },
            "type": "mesh3d"
           }
          ],
          "parcoords": [
           {
            "line": {
             "colorbar": {
              "outlinewidth": 0,
              "ticks": ""
             }
            },
            "type": "parcoords"
           }
          ],
          "pie": [
           {
            "automargin": true,
            "type": "pie"
           }
          ],
          "scatter": [
           {
            "fillpattern": {
             "fillmode": "overlay",
             "size": 10,
             "solidity": 0.2
            },
            "type": "scatter"
           }
          ],
          "scatter3d": [
           {
            "line": {
             "colorbar": {
              "outlinewidth": 0,
              "ticks": ""
             }
            },
            "marker": {
             "colorbar": {
              "outlinewidth": 0,
              "ticks": ""
             }
            },
            "type": "scatter3d"
           }
          ],
          "scattercarpet": [
           {
            "marker": {
             "colorbar": {
              "outlinewidth": 0,
              "ticks": ""
             }
            },
            "type": "scattercarpet"
           }
          ],
          "scattergeo": [
           {
            "marker": {
             "colorbar": {
              "outlinewidth": 0,
              "ticks": ""
             }
            },
            "type": "scattergeo"
           }
          ],
          "scattergl": [
           {
            "marker": {
             "colorbar": {
              "outlinewidth": 0,
              "ticks": ""
             }
            },
            "type": "scattergl"
           }
          ],
          "scattermapbox": [
           {
            "marker": {
             "colorbar": {
              "outlinewidth": 0,
              "ticks": ""
             }
            },
            "type": "scattermapbox"
           }
          ],
          "scatterpolar": [
           {
            "marker": {
             "colorbar": {
              "outlinewidth": 0,
              "ticks": ""
             }
            },
            "type": "scatterpolar"
           }
          ],
          "scatterpolargl": [
           {
            "marker": {
             "colorbar": {
              "outlinewidth": 0,
              "ticks": ""
             }
            },
            "type": "scatterpolargl"
           }
          ],
          "scatterternary": [
           {
            "marker": {
             "colorbar": {
              "outlinewidth": 0,
              "ticks": ""
             }
            },
            "type": "scatterternary"
           }
          ],
          "surface": [
           {
            "colorbar": {
             "outlinewidth": 0,
             "ticks": ""
            },
            "colorscale": [
             [
              0,
              "#0d0887"
             ],
             [
              0.1111111111111111,
              "#46039f"
             ],
             [
              0.2222222222222222,
              "#7201a8"
             ],
             [
              0.3333333333333333,
              "#9c179e"
             ],
             [
              0.4444444444444444,
              "#bd3786"
             ],
             [
              0.5555555555555556,
              "#d8576b"
             ],
             [
              0.6666666666666666,
              "#ed7953"
             ],
             [
              0.7777777777777778,
              "#fb9f3a"
             ],
             [
              0.8888888888888888,
              "#fdca26"
             ],
             [
              1,
              "#f0f921"
             ]
            ],
            "type": "surface"
           }
          ],
          "table": [
           {
            "cells": {
             "fill": {
              "color": "#EBF0F8"
             },
             "line": {
              "color": "white"
             }
            },
            "header": {
             "fill": {
              "color": "#C8D4E3"
             },
             "line": {
              "color": "white"
             }
            },
            "type": "table"
           }
          ]
         },
         "layout": {
          "annotationdefaults": {
           "arrowcolor": "#2a3f5f",
           "arrowhead": 0,
           "arrowwidth": 1
          },
          "autotypenumbers": "strict",
          "coloraxis": {
           "colorbar": {
            "outlinewidth": 0,
            "ticks": ""
           }
          },
          "colorscale": {
           "diverging": [
            [
             0,
             "#8e0152"
            ],
            [
             0.1,
             "#c51b7d"
            ],
            [
             0.2,
             "#de77ae"
            ],
            [
             0.3,
             "#f1b6da"
            ],
            [
             0.4,
             "#fde0ef"
            ],
            [
             0.5,
             "#f7f7f7"
            ],
            [
             0.6,
             "#e6f5d0"
            ],
            [
             0.7,
             "#b8e186"
            ],
            [
             0.8,
             "#7fbc41"
            ],
            [
             0.9,
             "#4d9221"
            ],
            [
             1,
             "#276419"
            ]
           ],
           "sequential": [
            [
             0,
             "#0d0887"
            ],
            [
             0.1111111111111111,
             "#46039f"
            ],
            [
             0.2222222222222222,
             "#7201a8"
            ],
            [
             0.3333333333333333,
             "#9c179e"
            ],
            [
             0.4444444444444444,
             "#bd3786"
            ],
            [
             0.5555555555555556,
             "#d8576b"
            ],
            [
             0.6666666666666666,
             "#ed7953"
            ],
            [
             0.7777777777777778,
             "#fb9f3a"
            ],
            [
             0.8888888888888888,
             "#fdca26"
            ],
            [
             1,
             "#f0f921"
            ]
           ],
           "sequentialminus": [
            [
             0,
             "#0d0887"
            ],
            [
             0.1111111111111111,
             "#46039f"
            ],
            [
             0.2222222222222222,
             "#7201a8"
            ],
            [
             0.3333333333333333,
             "#9c179e"
            ],
            [
             0.4444444444444444,
             "#bd3786"
            ],
            [
             0.5555555555555556,
             "#d8576b"
            ],
            [
             0.6666666666666666,
             "#ed7953"
            ],
            [
             0.7777777777777778,
             "#fb9f3a"
            ],
            [
             0.8888888888888888,
             "#fdca26"
            ],
            [
             1,
             "#f0f921"
            ]
           ]
          },
          "colorway": [
           "#636efa",
           "#EF553B",
           "#00cc96",
           "#ab63fa",
           "#FFA15A",
           "#19d3f3",
           "#FF6692",
           "#B6E880",
           "#FF97FF",
           "#FECB52"
          ],
          "font": {
           "color": "#2a3f5f"
          },
          "geo": {
           "bgcolor": "white",
           "lakecolor": "white",
           "landcolor": "#E5ECF6",
           "showlakes": true,
           "showland": true,
           "subunitcolor": "white"
          },
          "hoverlabel": {
           "align": "left"
          },
          "hovermode": "closest",
          "mapbox": {
           "style": "light"
          },
          "paper_bgcolor": "white",
          "plot_bgcolor": "#E5ECF6",
          "polar": {
           "angularaxis": {
            "gridcolor": "white",
            "linecolor": "white",
            "ticks": ""
           },
           "bgcolor": "#E5ECF6",
           "radialaxis": {
            "gridcolor": "white",
            "linecolor": "white",
            "ticks": ""
           }
          },
          "scene": {
           "xaxis": {
            "backgroundcolor": "#E5ECF6",
            "gridcolor": "white",
            "gridwidth": 2,
            "linecolor": "white",
            "showbackground": true,
            "ticks": "",
            "zerolinecolor": "white"
           },
           "yaxis": {
            "backgroundcolor": "#E5ECF6",
            "gridcolor": "white",
            "gridwidth": 2,
            "linecolor": "white",
            "showbackground": true,
            "ticks": "",
            "zerolinecolor": "white"
           },
           "zaxis": {
            "backgroundcolor": "#E5ECF6",
            "gridcolor": "white",
            "gridwidth": 2,
            "linecolor": "white",
            "showbackground": true,
            "ticks": "",
            "zerolinecolor": "white"
           }
          },
          "shapedefaults": {
           "line": {
            "color": "#2a3f5f"
           }
          },
          "ternary": {
           "aaxis": {
            "gridcolor": "white",
            "linecolor": "white",
            "ticks": ""
           },
           "baxis": {
            "gridcolor": "white",
            "linecolor": "white",
            "ticks": ""
           },
           "bgcolor": "#E5ECF6",
           "caxis": {
            "gridcolor": "white",
            "linecolor": "white",
            "ticks": ""
           }
          },
          "title": {
           "x": 0.05
          },
          "xaxis": {
           "automargin": true,
           "gridcolor": "white",
           "linecolor": "white",
           "ticks": "",
           "title": {
            "standoff": 15
           },
           "zerolinecolor": "white",
           "zerolinewidth": 2
          },
          "yaxis": {
           "automargin": true,
           "gridcolor": "white",
           "linecolor": "white",
           "ticks": "",
           "title": {
            "standoff": 15
           },
           "zerolinecolor": "white",
           "zerolinewidth": 2
          }
         }
        },
        "title": {
         "text": "SRP-PHAT Map"
        },
        "xaxis": {
         "anchor": "y",
         "constrain": "domain",
         "domain": [
          0,
          1
         ],
         "scaleanchor": "y",
         "title": {
          "text": "X (m)"
         }
        },
        "yaxis": {
         "anchor": "x",
         "autorange": "reversed",
         "constrain": "domain",
         "domain": [
          0,
          1
         ],
         "title": {
          "text": "Y (m)"
         }
        }
       }
      }
     },
     "metadata": {},
     "output_type": "display_data"
    }
   ],
   "source": [
    "srp = srp_phat(main_speaker_room_noisy_white, mic_pos, grid, sr, interp=1)\n",
    "best_pos = srp.argmax()\n",
    "print(f\"Estimated Source Position: {grid[best_pos]}\")\n",
    "print(f\"True Source Position: {speaker_pos}\")\n",
    "srp_map = srp\n",
    "srp_map = srp_map.reshape(20, 20)\n",
    "\n",
    "plot_map(srp_map.T, grid, mic_pos, room_dim, best_pos, speaker_pos, title='SRP-PHAT Map')\n"
   ]
  },
  {
   "cell_type": "code",
   "execution_count": 88,
   "metadata": {},
   "outputs": [
    {
     "name": "stdout",
     "output_type": "stream",
     "text": [
      "Estimated Source Position: [3.01052632 6.2        1.5       ]\n",
      "True Source Position: [2.8465315381203204, 4.813087288677984, 1.5]\n"
     ]
    },
    {
     "data": {
      "application/vnd.plotly.v1+json": {
       "config": {
        "plotlyServerURL": "https://plot.ly"
       },
       "data": [
        {
         "coloraxis": "coloraxis",
         "hovertemplate": "x: %{x}<br>y: %{y}<br>color: %{z}<extra></extra>",
         "name": "0",
         "type": "heatmap",
         "x": [
          0,
          0.2736842105263158,
          0.5473684210526316,
          0.8210526315789475,
          1.0947368421052632,
          1.368421052631579,
          1.642105263157895,
          1.9157894736842107,
          2.1894736842105265,
          2.463157894736842,
          2.736842105263158,
          3.0105263157894737,
          3.28421052631579,
          3.5578947368421057,
          3.8315789473684214,
          4.105263157894737,
          4.378947368421053,
          4.652631578947369,
          4.926315789473684,
          5.2
         ],
         "xaxis": "x",
         "y": [
          0,
          0.3263157894736842,
          0.6526315789473685,
          0.9789473684210527,
          1.305263157894737,
          1.6315789473684212,
          1.9578947368421054,
          2.2842105263157895,
          2.610526315789474,
          2.936842105263158,
          3.2631578947368425,
          3.5894736842105264,
          3.9157894736842107,
          4.242105263157895,
          4.568421052631579,
          4.894736842105264,
          5.221052631578948,
          5.5473684210526315,
          5.873684210526316,
          6.2
         ],
         "yaxis": "y",
         "z": [
          [
           0.8545048563512561,
           0.8500737587231219,
           0.8322046300039831,
           0.8096039278948789,
           0.8042357180459465,
           0.8270720494544632,
           0.8477208961896202,
           0.8337561693944071,
           0.8197245554122894,
           0.8445945107593673,
           0.8835817553994625,
           0.8955468618705483,
           0.8820111744929378,
           0.8629192093531892,
           0.8429516849077568,
           0.8343492304074697,
           0.8412532245841976,
           0.8497972705683825,
           0.8493561120632895,
           0.842013791154677
          ],
          [
           0.8488466534000803,
           0.8544602031719171,
           0.8490769270518885,
           0.8273274455302694,
           0.8049098606675823,
           0.8120914059310257,
           0.8424453674051783,
           0.8405170851434717,
           0.8194504809040989,
           0.8424919183995002,
           0.8857163235714468,
           0.894169597775051,
           0.8761703471611666,
           0.8537447859971165,
           0.8357748304362076,
           0.8377883591490524,
           0.8485382959515629,
           0.8497463886898706,
           0.8417084733782804,
           0.8346329627440585
          ],
          [
           0.8424748703857358,
           0.8475561563061873,
           0.8543826798858141,
           0.8476451632447851,
           0.8210189792989794,
           0.8032115322757514,
           0.8284103892964642,
           0.8464187914260253,
           0.821010131560478,
           0.8398482162193064,
           0.8882037455980697,
           0.8911980157830082,
           0.8683499003775658,
           0.8428508151864431,
           0.8345255207572778,
           0.8463170293585529,
           0.8501540442826183,
           0.8413202902263118,
           0.8340706549926791,
           0.8366214710866811
          ],
          [
           0.8470071109448417,
           0.842396076251774,
           0.8459481685340544,
           0.854246021967876,
           0.8454842049252022,
           0.8132850785747391,
           0.8097645058356144,
           0.8459097726296256,
           0.825802439805681,
           0.8364540518767464,
           0.8910445740259606,
           0.8858955519719343,
           0.8574244200818525,
           0.8341724447150204,
           0.8426032950623393,
           0.8505194813119926,
           0.8408111630306213,
           0.8337508396637424,
           0.8397728712623203,
           0.8522766750919821
          ],
          [
           0.8539019309796695,
           0.8506839411693501,
           0.8437375963886315,
           0.8440735936969336,
           0.8539956313990056,
           0.8420160828501813,
           0.8057907726966398,
           0.830716887170924,
           0.835122201739191,
           0.8320177814899833,
           0.8940690084116089,
           0.8773872588267266,
           0.8427284375356072,
           0.8371021050775478,
           0.8506612072717962,
           0.8401166317586028,
           0.834111686415649,
           0.8452046956954298,
           0.8594448731863047,
           0.8671354347265158
          ],
          [
           0.8491869835579267,
           0.8519624088548369,
           0.8535689382569467,
           0.8474018092415991,
           0.8423669125347042,
           0.8535056125416322,
           0.8360305490288031,
           0.8067761859195786,
           0.8455992929507868,
           0.82623256696382,
           0.89651316007231,
           0.864216255047212,
           0.8323618316619782,
           0.8500127224769329,
           0.8391207445831983,
           0.8362310070495083,
           0.8536902955051017,
           0.8662086606390345,
           0.8696077207505203,
           0.871232298008707
          ],
          [
           0.8603674576306287,
           0.8526982234939979,
           0.8489138381336828,
           0.8515847553554496,
           0.8524603974425691,
           0.8425330607821069,
           0.8524422337277856,
           0.8250691208528231,
           0.8354530039691924,
           0.8194621338499796,
           0.8955623670900765,
           0.8426807302809262,
           0.8466855018392685,
           0.8376059296286056,
           0.8426832732590572,
           0.864095916443056,
           0.8698727274918929,
           0.8725247148134837,
           0.8775063843726905,
           0.8819051520145827
          ],
          [
           0.8940058788708227,
           0.8841820404588124,
           0.8731050520149962,
           0.860727581374858,
           0.8501711235144176,
           0.850859520399893,
           0.8484671223222157,
           0.8497454918304674,
           0.8092056960092984,
           0.81762412473835,
           0.8821268728755051,
           0.8352234095323863,
           0.8352419367148497,
           0.8576387012283601,
           0.8704545807962252,
           0.8758426545907865,
           0.8830732671882415,
           0.8859264609933031,
           0.886109708426553,
           0.8861371604439456
          ],
          [
           0.9278035079389717,
           0.9263033540526572,
           0.9223700734480644,
           0.914713904783889,
           0.9022764145473058,
           0.8849610476250505,
           0.8620349614255557,
           0.8490459996464351,
           0.8420239709870375,
           0.8416591617723912,
           0.8436587331036864,
           0.8344168843646691,
           0.8725566131288593,
           0.8861553059192819,
           0.8896704032225221,
           0.8892385046218682,
           0.8900269558864609,
           0.8905926435591126,
           0.8902472624778204,
           0.8891404645241596
          ],
          [
           0.9063804963163172,
           0.9065402579443528,
           0.9067874326611136,
           0.9071846826112087,
           0.9078559634938892,
           0.9090668784550698,
           0.9114355023856239,
           0.9164109753913154,
           0.9246393029831149,
           0.8877586370211885,
           0.8803391569261081,
           0.885234282182379,
           0.8722206354047571,
           0.8674149906801443,
           0.865772444765892,
           0.8652255334503608,
           0.8650921296024702,
           0.8651244145575866,
           0.8652233119296594,
           0.8653463841787271
          ],
          [
           0.8952701429504707,
           0.8932642487745437,
           0.8904462143160704,
           0.8864904974234777,
           0.8811763218726841,
           0.8749573962314794,
           0.8690941667531006,
           0.8593296558195893,
           0.8523727514608622,
           0.8476632232828204,
           0.8644175094573685,
           0.8408855273483871,
           0.8750598067925381,
           0.895870085101648,
           0.8903242138377598,
           0.8843944830139332,
           0.8805591241308941,
           0.877981200996223,
           0.876100640296137,
           0.8746510819778132
          ],
          [
           0.8743406850804896,
           0.8713740442869592,
           0.868226540424326,
           0.8637692897986424,
           0.8570947391254782,
           0.8525879309783261,
           0.8515244727954655,
           0.8384502650642851,
           0.8359335325762478,
           0.8948655031500696,
           0.9603426226080626,
           0.8358507924725133,
           0.8391568018608403,
           0.836554645487704,
           0.851732682539161,
           0.8784627308429074,
           0.8941378961877349,
           0.8974715023339599,
           0.8950306739760819,
           0.8912094970126401
          ],
          [
           0.8612638666900946,
           0.8565226569658317,
           0.8526164238072904,
           0.8518231149084786,
           0.8510446150534191,
           0.8431623518456394,
           0.8366630084645754,
           0.8341379168636243,
           0.8640241981411775,
           0.9040675552990033,
           0.992304600060662,
           0.8815522757754714,
           0.8295261735218662,
           0.8345413061871872,
           0.8384428730287029,
           0.8360670988357884,
           0.8449222508371057,
           0.8621783042121128,
           0.8793770338707952,
           0.8910723143258175
          ],
          [
           0.8514308600962014,
           0.851515901071707,
           0.8507716390140335,
           0.8458212929231816,
           0.839621870094986,
           0.8356057126733077,
           0.8335504312255242,
           0.8485990806932646,
           0.8861516670216886,
           0.9159821809187902,
           0.9998671263654849,
           0.9265184917880421,
           0.8562317030567728,
           0.8271662104000636,
           0.83106856473594,
           0.8394905579214309,
           0.8367226773274679,
           0.8359789681353793,
           0.8420767753017712,
           0.8537114136029414
          ],
          [
           0.8505985586506711,
           0.8471966061163296,
           0.8420172805697194,
           0.8382240903825339,
           0.8349049392710214,
           0.8333089874086294,
           0.8430193708529967,
           0.86685560591598,
           0.8897008372559704,
           0.9253110807741666,
           0.9998316927356334,
           0.9559922387190313,
           0.8851583980191416,
           0.8461641441854086,
           0.8260524730237367,
           0.828913943917856,
           0.8383003143932384,
           0.8387067543568888,
           0.835874349126648,
           0.8359725490069477
          ],
          [
           0.8438577091634791,
           0.840000647964657,
           0.8373911477137773,
           0.8344409553432536,
           0.8331930412036582,
           0.8400092002781502,
           0.8544217933249232,
           0.8821865606645146,
           0.8901022113092618,
           0.9321670777660691,
           0.9977734882367614,
           0.9747375801656353,
           0.914160429802297,
           0.8653831514881857,
           0.840292137430335,
           0.825438706814803,
           0.8275585502858795,
           0.8363806992467328,
           0.8394532203334208,
           0.8375289285843143
          ],
          [
           0.8388855998405884,
           0.8367557510416063,
           0.8341259748150351,
           0.8331313076406108,
           0.8381294511808675,
           0.8482822971465037,
           0.8680590078989262,
           0.8885908492175181,
           0.8923824350277896,
           0.9372689398649408,
           0.9953423041379722,
           0.9865492521593053,
           0.9371550689121946,
           0.8868105363683986,
           0.8553065836888305,
           0.8364160874693701,
           0.8250629615695588,
           0.8266684318511824,
           0.8344789749835999,
           0.8390958770195057
          ],
          [
           0.8362358595226661,
           0.8339052453105603,
           0.8330960577481815,
           0.8368840171946315,
           0.8447549905901588,
           0.857951285405521,
           0.8797098688713862,
           0.8897297479581145,
           0.8961946828583042,
           0.9411637896243975,
           0.9930249351600273,
           0.9937136637817303,
           0.9543454486817694,
           0.9081054193578244,
           0.8707833700458152,
           0.849080236041238,
           0.8337284667793029,
           0.8248149918651367,
           0.826058207326225,
           0.8328272409309146
          ],
          [
           0.8337457438816874,
           0.8330749502424611,
           0.8360254384255056,
           0.8423981237819176,
           0.8518894712589643,
           0.8687266437375167,
           0.8865228102857321,
           0.8895582558297256,
           0.9006361258584694,
           0.9442143059694947,
           0.9909485886934785,
           0.9978322514726299,
           0.9672571761576492,
           0.9264783782977424,
           0.8877595435971097,
           0.8612143458203764,
           0.8446733370109554,
           0.8318016142601943,
           0.8246419144635113,
           0.8256238384323862
          ],
          [
           0.8330619140908931,
           0.8354138425277281,
           0.8406847516373518,
           0.848110077291517,
           0.8602940589533341,
           0.8780962089852055,
           0.889281058572741,
           0.8898204818243699,
           0.9051350337977628,
           0.9466586591928176,
           0.9891256000530534,
           1,
           0.9769896377115671,
           0.941457976886287,
           0.9045556965820961,
           0.874348361238714,
           0.8549476112352967,
           0.8413338373383792,
           0.8303809069470258,
           0.8245157645751624
          ]
         ]
        },
        {
         "marker": {
          "color": "red",
          "size": 10
         },
         "mode": "markers",
         "name": "Microphones",
         "type": "scatter",
         "x": [
          2.5,
          2.7,
          2.6,
          2.6
         ],
         "y": [
          3,
          3,
          2.9,
          3.1
         ]
        },
        {
         "marker": {
          "color": "blue",
          "size": 10
         },
         "mode": "markers",
         "name": "Estimated Source Position",
         "type": "scatter",
         "x": [
          3.0105263157894737
         ],
         "y": [
          6.2
         ]
        },
        {
         "marker": {
          "color": "green",
          "size": 10
         },
         "mode": "markers",
         "name": "True Source Position",
         "type": "scatter",
         "x": [
          2.8465315381203204
         ],
         "y": [
          4.813087288677984
         ]
        }
       ],
       "layout": {
        "coloraxis": {
         "colorbar": {
          "orientation": "h",
          "ticktext": [
           "Low",
           "High"
          ],
          "tickvals": [
           0.8032115322757514,
           1
          ],
          "title": {
           "text": "Likehood"
          }
         },
         "colorscale": [
          [
           0,
           "#0d0887"
          ],
          [
           0.1111111111111111,
           "#46039f"
          ],
          [
           0.2222222222222222,
           "#7201a8"
          ],
          [
           0.3333333333333333,
           "#9c179e"
          ],
          [
           0.4444444444444444,
           "#bd3786"
          ],
          [
           0.5555555555555556,
           "#d8576b"
          ],
          [
           0.6666666666666666,
           "#ed7953"
          ],
          [
           0.7777777777777778,
           "#fb9f3a"
          ],
          [
           0.8888888888888888,
           "#fdca26"
          ],
          [
           1,
           "#f0f921"
          ]
         ]
        },
        "margin": {
         "t": 60
        },
        "template": {
         "data": {
          "bar": [
           {
            "error_x": {
             "color": "#2a3f5f"
            },
            "error_y": {
             "color": "#2a3f5f"
            },
            "marker": {
             "line": {
              "color": "#E5ECF6",
              "width": 0.5
             },
             "pattern": {
              "fillmode": "overlay",
              "size": 10,
              "solidity": 0.2
             }
            },
            "type": "bar"
           }
          ],
          "barpolar": [
           {
            "marker": {
             "line": {
              "color": "#E5ECF6",
              "width": 0.5
             },
             "pattern": {
              "fillmode": "overlay",
              "size": 10,
              "solidity": 0.2
             }
            },
            "type": "barpolar"
           }
          ],
          "carpet": [
           {
            "aaxis": {
             "endlinecolor": "#2a3f5f",
             "gridcolor": "white",
             "linecolor": "white",
             "minorgridcolor": "white",
             "startlinecolor": "#2a3f5f"
            },
            "baxis": {
             "endlinecolor": "#2a3f5f",
             "gridcolor": "white",
             "linecolor": "white",
             "minorgridcolor": "white",
             "startlinecolor": "#2a3f5f"
            },
            "type": "carpet"
           }
          ],
          "choropleth": [
           {
            "colorbar": {
             "outlinewidth": 0,
             "ticks": ""
            },
            "type": "choropleth"
           }
          ],
          "contour": [
           {
            "colorbar": {
             "outlinewidth": 0,
             "ticks": ""
            },
            "colorscale": [
             [
              0,
              "#0d0887"
             ],
             [
              0.1111111111111111,
              "#46039f"
             ],
             [
              0.2222222222222222,
              "#7201a8"
             ],
             [
              0.3333333333333333,
              "#9c179e"
             ],
             [
              0.4444444444444444,
              "#bd3786"
             ],
             [
              0.5555555555555556,
              "#d8576b"
             ],
             [
              0.6666666666666666,
              "#ed7953"
             ],
             [
              0.7777777777777778,
              "#fb9f3a"
             ],
             [
              0.8888888888888888,
              "#fdca26"
             ],
             [
              1,
              "#f0f921"
             ]
            ],
            "type": "contour"
           }
          ],
          "contourcarpet": [
           {
            "colorbar": {
             "outlinewidth": 0,
             "ticks": ""
            },
            "type": "contourcarpet"
           }
          ],
          "heatmap": [
           {
            "colorbar": {
             "outlinewidth": 0,
             "ticks": ""
            },
            "colorscale": [
             [
              0,
              "#0d0887"
             ],
             [
              0.1111111111111111,
              "#46039f"
             ],
             [
              0.2222222222222222,
              "#7201a8"
             ],
             [
              0.3333333333333333,
              "#9c179e"
             ],
             [
              0.4444444444444444,
              "#bd3786"
             ],
             [
              0.5555555555555556,
              "#d8576b"
             ],
             [
              0.6666666666666666,
              "#ed7953"
             ],
             [
              0.7777777777777778,
              "#fb9f3a"
             ],
             [
              0.8888888888888888,
              "#fdca26"
             ],
             [
              1,
              "#f0f921"
             ]
            ],
            "type": "heatmap"
           }
          ],
          "heatmapgl": [
           {
            "colorbar": {
             "outlinewidth": 0,
             "ticks": ""
            },
            "colorscale": [
             [
              0,
              "#0d0887"
             ],
             [
              0.1111111111111111,
              "#46039f"
             ],
             [
              0.2222222222222222,
              "#7201a8"
             ],
             [
              0.3333333333333333,
              "#9c179e"
             ],
             [
              0.4444444444444444,
              "#bd3786"
             ],
             [
              0.5555555555555556,
              "#d8576b"
             ],
             [
              0.6666666666666666,
              "#ed7953"
             ],
             [
              0.7777777777777778,
              "#fb9f3a"
             ],
             [
              0.8888888888888888,
              "#fdca26"
             ],
             [
              1,
              "#f0f921"
             ]
            ],
            "type": "heatmapgl"
           }
          ],
          "histogram": [
           {
            "marker": {
             "pattern": {
              "fillmode": "overlay",
              "size": 10,
              "solidity": 0.2
             }
            },
            "type": "histogram"
           }
          ],
          "histogram2d": [
           {
            "colorbar": {
             "outlinewidth": 0,
             "ticks": ""
            },
            "colorscale": [
             [
              0,
              "#0d0887"
             ],
             [
              0.1111111111111111,
              "#46039f"
             ],
             [
              0.2222222222222222,
              "#7201a8"
             ],
             [
              0.3333333333333333,
              "#9c179e"
             ],
             [
              0.4444444444444444,
              "#bd3786"
             ],
             [
              0.5555555555555556,
              "#d8576b"
             ],
             [
              0.6666666666666666,
              "#ed7953"
             ],
             [
              0.7777777777777778,
              "#fb9f3a"
             ],
             [
              0.8888888888888888,
              "#fdca26"
             ],
             [
              1,
              "#f0f921"
             ]
            ],
            "type": "histogram2d"
           }
          ],
          "histogram2dcontour": [
           {
            "colorbar": {
             "outlinewidth": 0,
             "ticks": ""
            },
            "colorscale": [
             [
              0,
              "#0d0887"
             ],
             [
              0.1111111111111111,
              "#46039f"
             ],
             [
              0.2222222222222222,
              "#7201a8"
             ],
             [
              0.3333333333333333,
              "#9c179e"
             ],
             [
              0.4444444444444444,
              "#bd3786"
             ],
             [
              0.5555555555555556,
              "#d8576b"
             ],
             [
              0.6666666666666666,
              "#ed7953"
             ],
             [
              0.7777777777777778,
              "#fb9f3a"
             ],
             [
              0.8888888888888888,
              "#fdca26"
             ],
             [
              1,
              "#f0f921"
             ]
            ],
            "type": "histogram2dcontour"
           }
          ],
          "mesh3d": [
           {
            "colorbar": {
             "outlinewidth": 0,
             "ticks": ""
            },
            "type": "mesh3d"
           }
          ],
          "parcoords": [
           {
            "line": {
             "colorbar": {
              "outlinewidth": 0,
              "ticks": ""
             }
            },
            "type": "parcoords"
           }
          ],
          "pie": [
           {
            "automargin": true,
            "type": "pie"
           }
          ],
          "scatter": [
           {
            "fillpattern": {
             "fillmode": "overlay",
             "size": 10,
             "solidity": 0.2
            },
            "type": "scatter"
           }
          ],
          "scatter3d": [
           {
            "line": {
             "colorbar": {
              "outlinewidth": 0,
              "ticks": ""
             }
            },
            "marker": {
             "colorbar": {
              "outlinewidth": 0,
              "ticks": ""
             }
            },
            "type": "scatter3d"
           }
          ],
          "scattercarpet": [
           {
            "marker": {
             "colorbar": {
              "outlinewidth": 0,
              "ticks": ""
             }
            },
            "type": "scattercarpet"
           }
          ],
          "scattergeo": [
           {
            "marker": {
             "colorbar": {
              "outlinewidth": 0,
              "ticks": ""
             }
            },
            "type": "scattergeo"
           }
          ],
          "scattergl": [
           {
            "marker": {
             "colorbar": {
              "outlinewidth": 0,
              "ticks": ""
             }
            },
            "type": "scattergl"
           }
          ],
          "scattermapbox": [
           {
            "marker": {
             "colorbar": {
              "outlinewidth": 0,
              "ticks": ""
             }
            },
            "type": "scattermapbox"
           }
          ],
          "scatterpolar": [
           {
            "marker": {
             "colorbar": {
              "outlinewidth": 0,
              "ticks": ""
             }
            },
            "type": "scatterpolar"
           }
          ],
          "scatterpolargl": [
           {
            "marker": {
             "colorbar": {
              "outlinewidth": 0,
              "ticks": ""
             }
            },
            "type": "scatterpolargl"
           }
          ],
          "scatterternary": [
           {
            "marker": {
             "colorbar": {
              "outlinewidth": 0,
              "ticks": ""
             }
            },
            "type": "scatterternary"
           }
          ],
          "surface": [
           {
            "colorbar": {
             "outlinewidth": 0,
             "ticks": ""
            },
            "colorscale": [
             [
              0,
              "#0d0887"
             ],
             [
              0.1111111111111111,
              "#46039f"
             ],
             [
              0.2222222222222222,
              "#7201a8"
             ],
             [
              0.3333333333333333,
              "#9c179e"
             ],
             [
              0.4444444444444444,
              "#bd3786"
             ],
             [
              0.5555555555555556,
              "#d8576b"
             ],
             [
              0.6666666666666666,
              "#ed7953"
             ],
             [
              0.7777777777777778,
              "#fb9f3a"
             ],
             [
              0.8888888888888888,
              "#fdca26"
             ],
             [
              1,
              "#f0f921"
             ]
            ],
            "type": "surface"
           }
          ],
          "table": [
           {
            "cells": {
             "fill": {
              "color": "#EBF0F8"
             },
             "line": {
              "color": "white"
             }
            },
            "header": {
             "fill": {
              "color": "#C8D4E3"
             },
             "line": {
              "color": "white"
             }
            },
            "type": "table"
           }
          ]
         },
         "layout": {
          "annotationdefaults": {
           "arrowcolor": "#2a3f5f",
           "arrowhead": 0,
           "arrowwidth": 1
          },
          "autotypenumbers": "strict",
          "coloraxis": {
           "colorbar": {
            "outlinewidth": 0,
            "ticks": ""
           }
          },
          "colorscale": {
           "diverging": [
            [
             0,
             "#8e0152"
            ],
            [
             0.1,
             "#c51b7d"
            ],
            [
             0.2,
             "#de77ae"
            ],
            [
             0.3,
             "#f1b6da"
            ],
            [
             0.4,
             "#fde0ef"
            ],
            [
             0.5,
             "#f7f7f7"
            ],
            [
             0.6,
             "#e6f5d0"
            ],
            [
             0.7,
             "#b8e186"
            ],
            [
             0.8,
             "#7fbc41"
            ],
            [
             0.9,
             "#4d9221"
            ],
            [
             1,
             "#276419"
            ]
           ],
           "sequential": [
            [
             0,
             "#0d0887"
            ],
            [
             0.1111111111111111,
             "#46039f"
            ],
            [
             0.2222222222222222,
             "#7201a8"
            ],
            [
             0.3333333333333333,
             "#9c179e"
            ],
            [
             0.4444444444444444,
             "#bd3786"
            ],
            [
             0.5555555555555556,
             "#d8576b"
            ],
            [
             0.6666666666666666,
             "#ed7953"
            ],
            [
             0.7777777777777778,
             "#fb9f3a"
            ],
            [
             0.8888888888888888,
             "#fdca26"
            ],
            [
             1,
             "#f0f921"
            ]
           ],
           "sequentialminus": [
            [
             0,
             "#0d0887"
            ],
            [
             0.1111111111111111,
             "#46039f"
            ],
            [
             0.2222222222222222,
             "#7201a8"
            ],
            [
             0.3333333333333333,
             "#9c179e"
            ],
            [
             0.4444444444444444,
             "#bd3786"
            ],
            [
             0.5555555555555556,
             "#d8576b"
            ],
            [
             0.6666666666666666,
             "#ed7953"
            ],
            [
             0.7777777777777778,
             "#fb9f3a"
            ],
            [
             0.8888888888888888,
             "#fdca26"
            ],
            [
             1,
             "#f0f921"
            ]
           ]
          },
          "colorway": [
           "#636efa",
           "#EF553B",
           "#00cc96",
           "#ab63fa",
           "#FFA15A",
           "#19d3f3",
           "#FF6692",
           "#B6E880",
           "#FF97FF",
           "#FECB52"
          ],
          "font": {
           "color": "#2a3f5f"
          },
          "geo": {
           "bgcolor": "white",
           "lakecolor": "white",
           "landcolor": "#E5ECF6",
           "showlakes": true,
           "showland": true,
           "subunitcolor": "white"
          },
          "hoverlabel": {
           "align": "left"
          },
          "hovermode": "closest",
          "mapbox": {
           "style": "light"
          },
          "paper_bgcolor": "white",
          "plot_bgcolor": "#E5ECF6",
          "polar": {
           "angularaxis": {
            "gridcolor": "white",
            "linecolor": "white",
            "ticks": ""
           },
           "bgcolor": "#E5ECF6",
           "radialaxis": {
            "gridcolor": "white",
            "linecolor": "white",
            "ticks": ""
           }
          },
          "scene": {
           "xaxis": {
            "backgroundcolor": "#E5ECF6",
            "gridcolor": "white",
            "gridwidth": 2,
            "linecolor": "white",
            "showbackground": true,
            "ticks": "",
            "zerolinecolor": "white"
           },
           "yaxis": {
            "backgroundcolor": "#E5ECF6",
            "gridcolor": "white",
            "gridwidth": 2,
            "linecolor": "white",
            "showbackground": true,
            "ticks": "",
            "zerolinecolor": "white"
           },
           "zaxis": {
            "backgroundcolor": "#E5ECF6",
            "gridcolor": "white",
            "gridwidth": 2,
            "linecolor": "white",
            "showbackground": true,
            "ticks": "",
            "zerolinecolor": "white"
           }
          },
          "shapedefaults": {
           "line": {
            "color": "#2a3f5f"
           }
          },
          "ternary": {
           "aaxis": {
            "gridcolor": "white",
            "linecolor": "white",
            "ticks": ""
           },
           "baxis": {
            "gridcolor": "white",
            "linecolor": "white",
            "ticks": ""
           },
           "bgcolor": "#E5ECF6",
           "caxis": {
            "gridcolor": "white",
            "linecolor": "white",
            "ticks": ""
           }
          },
          "title": {
           "x": 0.05
          },
          "xaxis": {
           "automargin": true,
           "gridcolor": "white",
           "linecolor": "white",
           "ticks": "",
           "title": {
            "standoff": 15
           },
           "zerolinecolor": "white",
           "zerolinewidth": 2
          },
          "yaxis": {
           "automargin": true,
           "gridcolor": "white",
           "linecolor": "white",
           "ticks": "",
           "title": {
            "standoff": 15
           },
           "zerolinecolor": "white",
           "zerolinewidth": 2
          }
         }
        },
        "title": {
         "text": "MUSIC Map"
        },
        "xaxis": {
         "anchor": "y",
         "constrain": "domain",
         "domain": [
          0,
          1
         ],
         "scaleanchor": "y",
         "title": {
          "text": "X (m)"
         }
        },
        "yaxis": {
         "anchor": "x",
         "autorange": "reversed",
         "constrain": "domain",
         "domain": [
          0,
          1
         ],
         "title": {
          "text": "Y (m)"
         }
        }
       }
      }
     },
     "metadata": {},
     "output_type": "display_data"
    }
   ],
   "source": [
    "def MUSIC(signals, mic_positions, grid, fs):\n",
    "    dists_from_mics = np.linalg.norm(grid[:, None] - mic_positions, axis=2)\n",
    "    tau = dists_from_mics / 343.0\n",
    "\n",
    "    nfft = 512\n",
    "    hoplength = 256\n",
    "    stft_signals = librosa.stft(signals, n_fft=nfft, hop_length=hoplength)\n",
    "\n",
    "\n",
    "    stft_sig = stft_signals\n",
    "    H = stft_sig.transpose(1,0,2)  @ stft_sig.transpose(1,2,0).conj() / stft_sig.shape[2]\n",
    "    val,vec = np.linalg.eigh(H)\n",
    "    noise_space = vec[:,:,1:]\n",
    "    omega_f =  fs * np.arange(nfft // 2 + 1) / nfft\n",
    "    steering_vec = np.exp(-1j * 2 * np.pi * omega_f * tau[:, :, None])\n",
    "    Pmu = []\n",
    "    for f in range(nfft // 2 + 1):\n",
    "        Pmu_f = (np.abs(steering_vec[:,:,f].conj() @ noise_space[f])**2).sum(-1)\n",
    "        Pmu.append(Pmu_f)\n",
    "    Pmu = np.array(Pmu)\n",
    "    spec = Pmu.mean(0)\n",
    "    return spec\n",
    "\n",
    "spec = MUSIC(main_speaker_room_noisy_white, mic_pos, grid, sr)\n",
    "\n",
    "spec = spec / spec.max()\n",
    "\n",
    "music_map = spec.reshape(20, 20)\n",
    "\n",
    "best_pos = spec.argmax()\n",
    "\n",
    "print(f\"Estimated Source Position: {grid[best_pos]}\")\n",
    "print(f\"True Source Position: {speaker_pos}\")\n",
    "\n",
    "plot_map(music_map.T, grid, mic_pos, room_dim, best_pos, speaker_pos, title='MUSIC Map')\n",
    "\n"
   ]
  },
  {
   "cell_type": "code",
   "execution_count": null,
   "metadata": {},
   "outputs": [],
   "source": [
    "."
   ]
  }
 ],
 "metadata": {
  "kernelspec": {
   "display_name": "base",
   "language": "python",
   "name": "python3"
  },
  "language_info": {
   "codemirror_mode": {
    "name": "ipython",
    "version": 3
   },
   "file_extension": ".py",
   "mimetype": "text/x-python",
   "name": "python",
   "nbconvert_exporter": "python",
   "pygments_lexer": "ipython3",
   "version": "3.10.9"
  }
 },
 "nbformat": 4,
 "nbformat_minor": 2
}
