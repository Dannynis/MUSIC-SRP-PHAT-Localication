{
 "cells": [
  {
   "cell_type": "code",
   "execution_count": 1,
   "metadata": {},
   "outputs": [],
   "source": [
    "import numpy as np\n",
    "import librosa\n",
    "from IPython.display import Audio\n",
    "import matplotlib.pyplot as plt\n",
    "import plotly.express as px\n",
    "import plotly.graph_objects as go"
   ]
  },
  {
   "cell_type": "code",
   "execution_count": 2,
   "metadata": {},
   "outputs": [],
   "source": [
    "\n",
    "def gcc_phat(sig, refsig, fs=1, interp=16):\n",
    "    '''\n",
    "    This function computes the offset between the signal sig and the reference signal refsig\n",
    "    using the Generalized Cross Correlation - Phase Transform (GCC-PHAT) method.\n",
    "    '''\n",
    "    # make sure the length for the FFT is larger or equal than len(sig) + len(refsig)\n",
    "    n = sig.shape[0] + refsig.shape[0]\n",
    "\n",
    "    # Generalized Cross Correlation Phase Transform\n",
    "    SIG = np.fft.rfft(sig, n=n)\n",
    "    REFSIG = np.fft.rfft(refsig, n=n)\n",
    "    R = SIG * np.conj(REFSIG)\n",
    "\n",
    "    cc = np.fft.irfft(R / (np.abs(R) + 1e-10), n=interp * n)  \n",
    "    \n",
    "\n",
    "    max_shift = int(interp * n / 2)\n",
    "    # print(np.argmax(np.abs(cc)))\n",
    "\n",
    "    cc = np.concatenate((cc[-max_shift:], cc[:max_shift+1]))\n",
    "\n",
    "    # print(np.argmax(np.abs(cc)))\n",
    "    # # find max cross correlation index\n",
    "    \n",
    "    # shift = np.argmax(np.abs(cc)) - max_shift\n",
    "\n",
    "    # tau = shift / float(interp * fs)\n",
    "    return  cc#,tau\n"
   ]
  },
  {
   "cell_type": "code",
   "execution_count": 3,
   "metadata": {},
   "outputs": [],
   "source": [
    "# (np.argmax(np.abs(cc)) - int(sig_len * 16)) / (16000 * 16)"
   ]
  },
  {
   "cell_type": "code",
   "execution_count": 4,
   "metadata": {},
   "outputs": [],
   "source": [
    "# np.linspace(-sig_len/ fs, sig_len/ fs, 16 * sig_len * 2 +1).astype(np.float32)[np.argmax(np.abs(cc))]"
   ]
  },
  {
   "cell_type": "code",
   "execution_count": 5,
   "metadata": {},
   "outputs": [],
   "source": [
    "# np.argmax(np.abs(cc))"
   ]
  },
  {
   "cell_type": "code",
   "execution_count": 6,
   "metadata": {},
   "outputs": [],
   "source": [
    "# fs = 16000  # Sampling frequency (Hz)\n",
    "# f = 10  # Frequency of sine wave (Hz)\n",
    "# seconds = 1  # Duration of the signal (s)\n",
    "# t = np.arange(0, seconds, 1/fs)\n",
    "\n",
    "# # Generate Sine Waves\n",
    "# sig1 = wav[0]#np.concatenate([np.zeros(1000),np.sin(2 * np.pi * f * t)*3, np.zeros(1000)])  # First sine wave\n",
    "# delay_time = 0.02 # 1/4 second delay\n",
    "# delay_samples = int(delay_time * fs)  # Convert delay to samples\n",
    "# print(delay_samples / fs)\n",
    "# sig2 = np.roll(sig1, delay_samples)  # Second sine wave with delay\n",
    "# sig_len = sig1.shape[0]\n",
    "\n",
    "# delay_axs = np.linspace(-sig_len/ fs, sig_len/ fs,16*sig_len * 2 +1).astype(np.float32)\n",
    "\n",
    "# # Apply GCC-PHAT\n",
    "# cc = gcc_phat(sig1, sig2, fs)\n",
    "\n",
    "# delay_axs[np.argmax(np.abs(cc))]\n",
    "# # (np.argmax(np.abs(cc )) - sig1.shape[0])  / fs\n",
    "# # # Plot the Cross-Correlation\n",
    "# # plt.figure(figsize=(10, 5))\n",
    "# # plt.plot(tau_axis, cc)\n",
    "# # plt.axvline(x=estimated_delay, color='r', linestyle='--', label=f'Estimated Delay = {estimated_delay:.4f} s')\n",
    "# # plt.xlabel(\"Time Shift (s)\")\n",
    "# # plt.ylabel(\"Cross-Correlation\")\n",
    "# # plt.title(\"GCC-PHAT Cross-Correlation\")\n",
    "# # plt.legend()\n",
    "# # plt.grid()\n",
    "# # plt.show()\n",
    "\n",
    "# # # Print the Estimated Delay\n",
    "# # print(f\"Estimated Delay: {estimated_delay:.4f} seconds\")\n",
    "# # print(f\"Expected Delay: {delay_time} seconds\")"
   ]
  },
  {
   "cell_type": "code",
   "execution_count": 7,
   "metadata": {},
   "outputs": [],
   "source": [
    "import itertools\n",
    "def srp_phat(signals, mic_positions, grid, fs, interp = 16):\n",
    "    \"\"\"Perform SRP-PHAT localization.\"\"\"\n",
    "    num_mics = len(mic_positions)\n",
    "    srp_map = np.zeros(grid.shape[0], dtype=np.float32)\n",
    "\n",
    "    sig_len = signals.shape[1]\n",
    "\n",
    "    delay_axs = np.linspace(-sig_len/ fs, sig_len/ fs, interp*sig_len * 2 +1).astype(np.float32) # mapping between index and delay in seconds\n",
    "\n",
    "    n_channels = signals.shape[0]\n",
    "    # taus = np.zeros((n_channels, n_channels))\n",
    "    gccs = {}\n",
    "    for (i, j) in itertools.combinations(range(num_mics), 2):\n",
    "        if i == j:\n",
    "            continue\n",
    "        cc = gcc_phat(signals[i], signals[j], fs=fs, interp=interp)\n",
    "        # print(i,j,tau)\n",
    "        gccs[(i,j)] = cc\n",
    "\n",
    "\n",
    "    for idx,candidate in enumerate(grid):\n",
    "        power = 0\n",
    "        for (i, j) in itertools.combinations(range(num_mics), 2):\n",
    "            if i == j:\n",
    "                continue\n",
    "            dist_i = np.linalg.norm(candidate - mic_positions[i])\n",
    "            dist_j = np.linalg.norm(candidate - mic_positions[j])\n",
    "            tau = (dist_i - dist_j) / 343.0  # Speed of sound (m/s)\n",
    "            \n",
    "            gcc = gccs[(i,j)]\n",
    "            \n",
    "            closest_idx = np.argmin(np.abs(delay_axs - tau))\n",
    "            power += gcc[closest_idx]\n",
    "\n",
    "        srp_map[idx] = power\n",
    "\n",
    "    return srp_map"
   ]
  },
  {
   "cell_type": "code",
   "execution_count": 8,
   "metadata": {},
   "outputs": [],
   "source": [
    "d = 0.2\n",
    "fs = 16000\n",
    "\n",
    "mic_pos = np.array([\n",
    "          [2.6 - d / 2, 3, 1.5], [2.6 + d / 2, 3, 1.5], [2.6, 3-d/2, 1.5], [2.6 , 3+d/2, 1.5]\n",
    "\n",
    "      ])\n",
    "room_dim = [5.2,6.2,3.5]\n"
   ]
  },
  {
   "cell_type": "code",
   "execution_count": 9,
   "metadata": {},
   "outputs": [],
   "source": [
    "from scipy.signal import fftconvolve\n",
    "import rir_generator as rir\n",
    "\n",
    "\n",
    "\n",
    "def rnd_speaker_pos():\n",
    "  x = np.random.uniform(low=1, high=4, size=(1,))[0]\n",
    "  y = np.random.uniform(low=1, high=5, size=(1,))[0]\n",
    "  speaker_pos =  [x, y, 1.5]\n",
    "  return speaker_pos\n",
    "\n",
    "def gen_rir(t60,pos):\n",
    "\n",
    "  h = rir.generate(\n",
    "      c=340,                  # Sound velocity (m/s)\n",
    "      fs=fs,                  # Sample frequency (samples/s)\n",
    "      r=mic_pos,\n",
    "\n",
    "      s=pos,          # Source position [x y z] (m)\n",
    "      L=room_dim,            # Room dimensions [x y z] (m)\n",
    "      reverberation_time=t60, # Reverberation time (s)\n",
    "      nsample=int(t60 * fs),           # Number of output samples\n",
    "  )\n",
    "      # [1.617, 2.45, 1.7]\n",
    "  return h\n",
    "\n",
    "def add_white_noise(signal, snr_db=10):\n",
    "    if len(signal.shape) == 1 :\n",
    "      signal = signal.reshape(1,-1)\n",
    "    signal_power = np.mean(signal**2,axis=1, keepdims=True)\n",
    "    noise_power = signal_power / (10**(snr_db / 10))\n",
    "    noise = np.sqrt(noise_power) * np.random.normal(0, 1, signal.shape) # spectral and spatial white noise - uncorollated sensors\n",
    "    noisy_signal = signal + noise\n",
    "    return noisy_signal, noise\n",
    "\n",
    "\n",
    "def convolve_rir(signal, rirs):\n",
    "     rirs = rirs.T\n",
    "     return np.stack([np.convolve(signal, rir, mode='full') for rir in rirs])\n"
   ]
  },
  {
   "cell_type": "code",
   "execution_count": 79,
   "metadata": {},
   "outputs": [],
   "source": [
    "def plot_map(srp_map, grid, mic_pos, room_dim, best_pos, speaker_pos, title):\n",
    "\n",
    "    fig = px.imshow(srp_map, x=np.linspace(0, room_dim[0], 20), y=np.linspace(0, room_dim[1], 20))\n",
    "    #  add the microphones\n",
    "    fig.add_trace(go.Scatter(x=mic_pos[:, 0], y=mic_pos[:, 1], mode='markers', marker=dict(size=10, color='red')))\n",
    "    # add the estimated source position\n",
    "    fig.add_trace(go.Scatter(x=[grid[best_pos][0]], y=[grid[best_pos][1]], mode='markers', marker=dict(size=10, color='blue')))\n",
    "    fig.add_trace(go.Scatter(x=[speaker_pos[0]], y=[speaker_pos[1]], mode='markers', marker=dict(size=10, color='green')))\n",
    "    fig.update_layout(title=title,\n",
    "                    xaxis_title='X (m)',\n",
    "                    yaxis_title='Y (m)')\n",
    "    # add names to traces\n",
    "    fig.data[1].name = 'Microphones'\n",
    "    fig.data[2].name = 'Estimated Source Position'\n",
    "    fig.data[3].name = 'True Source Position'\n",
    "    # disable the colorbar\n",
    "    fig.update_layout(coloraxis_showscale=False)\n",
    "    \n",
    "    fig.show()"
   ]
  },
  {
   "cell_type": "code",
   "execution_count": 80,
   "metadata": {},
   "outputs": [],
   "source": [
    "wav, sr = librosa.load('12.wav', sr=None, mono=False)\n",
    "speaker_pos = rnd_speaker_pos()\n",
    "imp03_main = gen_rir(0.3,speaker_pos)\n",
    "\n",
    "main_speaker_room = convolve_rir(wav, imp03_main)\n",
    "\n",
    "main_speaker_room_noisy_white, white_noise = add_white_noise(main_speaker_room, snr_db=15)\n",
    "\n",
    "grid = np.array([[x, y, 1.5] for x in np.linspace(0, room_dim[0], 20) for y in np.linspace(0, room_dim[1], 20)])\n",
    "\n",
    "srp = srp_phat(main_speaker_room_noisy_white, mic_pos, grid, sr, interp=1)\n",
    "best_pos = srp.argmax()"
   ]
  },
  {
   "cell_type": "code",
   "execution_count": 81,
   "metadata": {},
   "outputs": [
    {
     "name": "stdout",
     "output_type": "stream",
     "text": [
      "Estimated Source Position: [1.64210526 0.         1.5       ]\n",
      "True Source Position: [1.8844943585313416, 1.014233217934565, 1.5]\n"
     ]
    },
    {
     "data": {
      "application/vnd.plotly.v1+json": {
       "config": {
        "plotlyServerURL": "https://plot.ly"
       },
       "data": [
        {
         "coloraxis": "coloraxis",
         "hovertemplate": "x: %{x}<br>y: %{y}<br>color: %{z}<extra></extra>",
         "name": "0",
         "type": "heatmap",
         "x": [
          0,
          0.2736842105263158,
          0.5473684210526316,
          0.8210526315789475,
          1.0947368421052632,
          1.368421052631579,
          1.642105263157895,
          1.9157894736842107,
          2.1894736842105265,
          2.463157894736842,
          2.736842105263158,
          3.0105263157894737,
          3.28421052631579,
          3.5578947368421057,
          3.8315789473684214,
          4.105263157894737,
          4.378947368421053,
          4.652631578947369,
          4.926315789473684,
          5.2
         ],
         "xaxis": "x",
         "y": [
          0,
          0.3263157894736842,
          0.6526315789473685,
          0.9789473684210527,
          1.305263157894737,
          1.6315789473684212,
          1.9578947368421054,
          2.2842105263157895,
          2.610526315789474,
          2.936842105263158,
          3.2631578947368425,
          3.5894736842105264,
          3.9157894736842107,
          4.242105263157895,
          4.568421052631579,
          4.894736842105264,
          5.221052631578948,
          5.5473684210526315,
          5.873684210526316,
          6.2
         ],
         "yaxis": "y",
         "z": [
          [
           0.33288088,
           0.41331574,
           0.5314945,
           0.6635875,
           0.7165967,
           0.77591836,
           0.8108817,
           0.740132,
           0.60985285,
           0.5027658,
           0.41038862,
           0.34064546,
           0.28351185,
           0.29004574,
           0.27974972,
           0.24136883,
           0.239121,
           0.1443212,
           0.07046195,
           0.064848244
          ],
          [
           0.339615,
           0.33288088,
           0.41331574,
           0.5732413,
           0.6635875,
           0.7165967,
           0.8108817,
           0.8086165,
           0.60985285,
           0.5027658,
           0.41038862,
           0.34064546,
           0.28036273,
           0.29004574,
           0.24136883,
           0.239121,
           0.17188942,
           0.07046195,
           0.064848244,
           0.061351456
          ],
          [
           0.31731033,
           0.339615,
           0.33288088,
           0.41331574,
           0.5732413,
           0.7165967,
           0.77591836,
           0.8108817,
           0.6356543,
           0.60985285,
           0.34064546,
           0.33076122,
           0.29004574,
           0.27974972,
           0.24136883,
           0.17188942,
           0.07046195,
           0.064848244,
           0.061351456,
           0.039046794
          ],
          [
           0.296791,
           0.31731033,
           0.339615,
           0.33288088,
           0.47684604,
           0.6635875,
           0.7165967,
           0.8108817,
           0.67537916,
           0.60985285,
           0.34064546,
           0.30315816,
           0.29004574,
           0.24136883,
           0.239121,
           0.08690478,
           0.064848244,
           0.061351456,
           0.039046794,
           0.059544183
          ],
          [
           0.41510594,
           0.35157564,
           0.296791,
           0.31731033,
           0.33288088,
           0.5314945,
           0.6635875,
           0.8059211,
           0.740132,
           0.60985285,
           0.34064546,
           0.28351185,
           0.27340212,
           0.239121,
           0.1443212,
           0.064848244,
           0.039046794,
           0.059544183,
           0.10092673,
           0.11736955
          ],
          [
           0.41554826,
           0.41731897,
           0.35157564,
           0.296791,
           0.31731033,
           0.33288088,
           0.5314945,
           0.7165967,
           0.8108817,
           0.60985285,
           0.34064546,
           0.29004574,
           0.24136883,
           0.1443212,
           0.064848244,
           0.039046794,
           0.059544183,
           0.10092673,
           0.1027952,
           0.10102448
          ],
          [
           0.3811628,
           0.39566314,
           0.41554826,
           0.41731897,
           0.35157564,
           0.296791,
           0.33288088,
           0.5314945,
           0.8059211,
           0.60985285,
           0.34064546,
           0.27340212,
           0.1443212,
           0.064848244,
           0.059544183,
           0.10092673,
           0.1027952,
           0.10102448,
           0.08998647,
           0.08721232
          ],
          [
           0.3750191,
           0.3811628,
           0.3811628,
           0.38811722,
           0.41554826,
           0.41731897,
           0.3385378,
           0.33288088,
           0.6635875,
           0.7314568,
           0.2964516,
           0.239121,
           0.064848244,
           0.0871124,
           0.1027952,
           0.10102448,
           0.075867966,
           0.08721232,
           0.08721232,
           0.081068635
          ],
          [
           0.30742007,
           0.32769772,
           0.33637285,
           0.3372253,
           0.3750191,
           0.3811628,
           0.38811722,
           0.41731897,
           0.31731033,
           0.7972459,
           0.28634188,
           0.039046794,
           0.1027952,
           0.075867966,
           0.08721232,
           0.081068635,
           0.122039005,
           0.12265878,
           0.13559854,
           0.115320876
          ],
          [
           0.27706885,
           0.27706885,
           0.27706885,
           0.27706885,
           0.27706885,
           0.27706885,
           0.28922176,
           0.28922176,
           0.31694764,
           0.30474716,
           0.098066196,
           0.10176135,
           0.10981113,
           0.10981113,
           0.097658224,
           0.097658224,
           0.097658224,
           0.097658224,
           0.097658224,
           0.097658224
          ],
          [
           0.15129472,
           0.15129472,
           0.15129472,
           0.15129472,
           0.16233383,
           0.15918471,
           0.14533971,
           0.13140133,
           0.099260665,
           0.0884852,
           0.059061334,
           0.20111555,
           0.2410513,
           0.27593043,
           0.21361393,
           0.1451294,
           0.14704104,
           0.14704104,
           0.14704104,
           0.14704104
          ],
          [
           0.15204628,
           0.14533971,
           0.14313738,
           0.14313738,
           0.14313738,
           0.14141198,
           0.1102358,
           0.030463126,
           0.050050322,
           0.1480733,
           0.05583925,
           0.05460046,
           0.1032357,
           0.20761146,
           0.25389782,
           0.2737281,
           0.2737281,
           0.2737281,
           0.27593043,
           0.21985273
          ],
          [
           0.14313738,
           0.14313738,
           0.12152685,
           0.14141198,
           0.13580938,
           0.05915501,
           0.026965734,
           0.05153252,
           0.13025074,
           0.13563922,
           0.06765459,
           0.06373365,
           0.053314675,
           0.064012945,
           0.15222895,
           0.24829523,
           0.25389782,
           0.24285981,
           0.2737281,
           0.2737281
          ],
          [
           0.14141198,
           0.14141198,
           0.13580938,
           0.05760267,
           0.03257944,
           0.026794106,
           0.05153252,
           0.11506077,
           0.1478586,
           0.14277765,
           0.061415777,
           0.051563844,
           0.06684249,
           0.053314675,
           0.06384131,
           0.1444478,
           0.15145311,
           0.24829523,
           0.25389782,
           0.25389782
          ],
          [
           0.13580938,
           0.05760267,
           0.03257944,
           0.026965734,
           0.02006,
           0.04055739,
           0.06979986,
           0.13025074,
           0.14559342,
           0.14277765,
           0.061415777,
           0.04188083,
           0.06373365,
           0.076018915,
           0.046818767,
           0.06733811,
           0.064012945,
           0.1444478,
           0.15145311,
           0.24829523
          ],
          [
           0.05760267,
           0.03257944,
           0.026965734,
           0.02006,
           0.04055739,
           0.07662589,
           0.11506077,
           0.1478586,
           0.1480733,
           0.14277765,
           0.061415777,
           0.05583925,
           0.051563844,
           0.06684249,
           0.06238161,
           0.046818767,
           0.06733811,
           0.064012945,
           0.1444478,
           0.15145311
          ],
          [
           0.03257944,
           0.026965734,
           0.02006,
           0.04055739,
           0.050050322,
           0.06205154,
           0.13025074,
           0.1478586,
           0.16144061,
           0.14277765,
           0.061415777,
           0.057770338,
           0.051563844,
           0.06373365,
           0.064594656,
           0.05460046,
           0.046818767,
           0.06733811,
           0.064012945,
           0.1444478
          ],
          [
           0.026794106,
           0.02006,
           0.04055739,
           0.050050322,
           0.06205154,
           0.11506077,
           0.1478586,
           0.14559342,
           0.14277765,
           0.14277765,
           0.061415777,
           0.061415777,
           0.04188083,
           0.051563844,
           0.06684249,
           0.064594656,
           0.05460046,
           0.046818767,
           0.06733811,
           0.06384131
          ],
          [
           0.02006,
           0.04055739,
           0.050050322,
           0.06979986,
           0.11506077,
           0.13025074,
           0.1478586,
           0.14621319,
           0.14277765,
           0.068446584,
           0.081135154,
           0.061415777,
           0.0410284,
           0.051563844,
           0.06373365,
           0.06684249,
           0.076018915,
           0.05460046,
           0.046818767,
           0.06733811
          ],
          [
           0.04055739,
           0.050050322,
           0.07662589,
           0.06205154,
           0.11506077,
           0.1478586,
           0.1478586,
           0.16144061,
           0.14277765,
           0.068446584,
           0.081135154,
           0.061415777,
           0.057770338,
           0.051563844,
           0.051563844,
           0.06684249,
           0.064594656,
           0.06238161,
           0.05460046,
           0.046818767
          ]
         ]
        },
        {
         "marker": {
          "color": "red",
          "size": 10
         },
         "mode": "markers",
         "name": "Microphones",
         "type": "scatter",
         "x": [
          2.5,
          2.7,
          2.6,
          2.6
         ],
         "y": [
          3,
          3,
          2.9,
          3.1
         ]
        },
        {
         "marker": {
          "color": "blue",
          "size": 10
         },
         "mode": "markers",
         "name": "Estimated Source Position",
         "type": "scatter",
         "x": [
          1.642105263157895
         ],
         "y": [
          0
         ]
        },
        {
         "marker": {
          "color": "green",
          "size": 10
         },
         "mode": "markers",
         "name": "True Source Position",
         "type": "scatter",
         "x": [
          1.8844943585313416
         ],
         "y": [
          1.014233217934565
         ]
        }
       ],
       "layout": {
        "coloraxis": {
         "colorscale": [
          [
           0,
           "#0d0887"
          ],
          [
           0.1111111111111111,
           "#46039f"
          ],
          [
           0.2222222222222222,
           "#7201a8"
          ],
          [
           0.3333333333333333,
           "#9c179e"
          ],
          [
           0.4444444444444444,
           "#bd3786"
          ],
          [
           0.5555555555555556,
           "#d8576b"
          ],
          [
           0.6666666666666666,
           "#ed7953"
          ],
          [
           0.7777777777777778,
           "#fb9f3a"
          ],
          [
           0.8888888888888888,
           "#fdca26"
          ],
          [
           1,
           "#f0f921"
          ]
         ],
         "showscale": false
        },
        "margin": {
         "t": 60
        },
        "template": {
         "data": {
          "bar": [
           {
            "error_x": {
             "color": "#2a3f5f"
            },
            "error_y": {
             "color": "#2a3f5f"
            },
            "marker": {
             "line": {
              "color": "#E5ECF6",
              "width": 0.5
             },
             "pattern": {
              "fillmode": "overlay",
              "size": 10,
              "solidity": 0.2
             }
            },
            "type": "bar"
           }
          ],
          "barpolar": [
           {
            "marker": {
             "line": {
              "color": "#E5ECF6",
              "width": 0.5
             },
             "pattern": {
              "fillmode": "overlay",
              "size": 10,
              "solidity": 0.2
             }
            },
            "type": "barpolar"
           }
          ],
          "carpet": [
           {
            "aaxis": {
             "endlinecolor": "#2a3f5f",
             "gridcolor": "white",
             "linecolor": "white",
             "minorgridcolor": "white",
             "startlinecolor": "#2a3f5f"
            },
            "baxis": {
             "endlinecolor": "#2a3f5f",
             "gridcolor": "white",
             "linecolor": "white",
             "minorgridcolor": "white",
             "startlinecolor": "#2a3f5f"
            },
            "type": "carpet"
           }
          ],
          "choropleth": [
           {
            "colorbar": {
             "outlinewidth": 0,
             "ticks": ""
            },
            "type": "choropleth"
           }
          ],
          "contour": [
           {
            "colorbar": {
             "outlinewidth": 0,
             "ticks": ""
            },
            "colorscale": [
             [
              0,
              "#0d0887"
             ],
             [
              0.1111111111111111,
              "#46039f"
             ],
             [
              0.2222222222222222,
              "#7201a8"
             ],
             [
              0.3333333333333333,
              "#9c179e"
             ],
             [
              0.4444444444444444,
              "#bd3786"
             ],
             [
              0.5555555555555556,
              "#d8576b"
             ],
             [
              0.6666666666666666,
              "#ed7953"
             ],
             [
              0.7777777777777778,
              "#fb9f3a"
             ],
             [
              0.8888888888888888,
              "#fdca26"
             ],
             [
              1,
              "#f0f921"
             ]
            ],
            "type": "contour"
           }
          ],
          "contourcarpet": [
           {
            "colorbar": {
             "outlinewidth": 0,
             "ticks": ""
            },
            "type": "contourcarpet"
           }
          ],
          "heatmap": [
           {
            "colorbar": {
             "outlinewidth": 0,
             "ticks": ""
            },
            "colorscale": [
             [
              0,
              "#0d0887"
             ],
             [
              0.1111111111111111,
              "#46039f"
             ],
             [
              0.2222222222222222,
              "#7201a8"
             ],
             [
              0.3333333333333333,
              "#9c179e"
             ],
             [
              0.4444444444444444,
              "#bd3786"
             ],
             [
              0.5555555555555556,
              "#d8576b"
             ],
             [
              0.6666666666666666,
              "#ed7953"
             ],
             [
              0.7777777777777778,
              "#fb9f3a"
             ],
             [
              0.8888888888888888,
              "#fdca26"
             ],
             [
              1,
              "#f0f921"
             ]
            ],
            "type": "heatmap"
           }
          ],
          "heatmapgl": [
           {
            "colorbar": {
             "outlinewidth": 0,
             "ticks": ""
            },
            "colorscale": [
             [
              0,
              "#0d0887"
             ],
             [
              0.1111111111111111,
              "#46039f"
             ],
             [
              0.2222222222222222,
              "#7201a8"
             ],
             [
              0.3333333333333333,
              "#9c179e"
             ],
             [
              0.4444444444444444,
              "#bd3786"
             ],
             [
              0.5555555555555556,
              "#d8576b"
             ],
             [
              0.6666666666666666,
              "#ed7953"
             ],
             [
              0.7777777777777778,
              "#fb9f3a"
             ],
             [
              0.8888888888888888,
              "#fdca26"
             ],
             [
              1,
              "#f0f921"
             ]
            ],
            "type": "heatmapgl"
           }
          ],
          "histogram": [
           {
            "marker": {
             "pattern": {
              "fillmode": "overlay",
              "size": 10,
              "solidity": 0.2
             }
            },
            "type": "histogram"
           }
          ],
          "histogram2d": [
           {
            "colorbar": {
             "outlinewidth": 0,
             "ticks": ""
            },
            "colorscale": [
             [
              0,
              "#0d0887"
             ],
             [
              0.1111111111111111,
              "#46039f"
             ],
             [
              0.2222222222222222,
              "#7201a8"
             ],
             [
              0.3333333333333333,
              "#9c179e"
             ],
             [
              0.4444444444444444,
              "#bd3786"
             ],
             [
              0.5555555555555556,
              "#d8576b"
             ],
             [
              0.6666666666666666,
              "#ed7953"
             ],
             [
              0.7777777777777778,
              "#fb9f3a"
             ],
             [
              0.8888888888888888,
              "#fdca26"
             ],
             [
              1,
              "#f0f921"
             ]
            ],
            "type": "histogram2d"
           }
          ],
          "histogram2dcontour": [
           {
            "colorbar": {
             "outlinewidth": 0,
             "ticks": ""
            },
            "colorscale": [
             [
              0,
              "#0d0887"
             ],
             [
              0.1111111111111111,
              "#46039f"
             ],
             [
              0.2222222222222222,
              "#7201a8"
             ],
             [
              0.3333333333333333,
              "#9c179e"
             ],
             [
              0.4444444444444444,
              "#bd3786"
             ],
             [
              0.5555555555555556,
              "#d8576b"
             ],
             [
              0.6666666666666666,
              "#ed7953"
             ],
             [
              0.7777777777777778,
              "#fb9f3a"
             ],
             [
              0.8888888888888888,
              "#fdca26"
             ],
             [
              1,
              "#f0f921"
             ]
            ],
            "type": "histogram2dcontour"
           }
          ],
          "mesh3d": [
           {
            "colorbar": {
             "outlinewidth": 0,
             "ticks": ""
            },
            "type": "mesh3d"
           }
          ],
          "parcoords": [
           {
            "line": {
             "colorbar": {
              "outlinewidth": 0,
              "ticks": ""
             }
            },
            "type": "parcoords"
           }
          ],
          "pie": [
           {
            "automargin": true,
            "type": "pie"
           }
          ],
          "scatter": [
           {
            "fillpattern": {
             "fillmode": "overlay",
             "size": 10,
             "solidity": 0.2
            },
            "type": "scatter"
           }
          ],
          "scatter3d": [
           {
            "line": {
             "colorbar": {
              "outlinewidth": 0,
              "ticks": ""
             }
            },
            "marker": {
             "colorbar": {
              "outlinewidth": 0,
              "ticks": ""
             }
            },
            "type": "scatter3d"
           }
          ],
          "scattercarpet": [
           {
            "marker": {
             "colorbar": {
              "outlinewidth": 0,
              "ticks": ""
             }
            },
            "type": "scattercarpet"
           }
          ],
          "scattergeo": [
           {
            "marker": {
             "colorbar": {
              "outlinewidth": 0,
              "ticks": ""
             }
            },
            "type": "scattergeo"
           }
          ],
          "scattergl": [
           {
            "marker": {
             "colorbar": {
              "outlinewidth": 0,
              "ticks": ""
             }
            },
            "type": "scattergl"
           }
          ],
          "scattermapbox": [
           {
            "marker": {
             "colorbar": {
              "outlinewidth": 0,
              "ticks": ""
             }
            },
            "type": "scattermapbox"
           }
          ],
          "scatterpolar": [
           {
            "marker": {
             "colorbar": {
              "outlinewidth": 0,
              "ticks": ""
             }
            },
            "type": "scatterpolar"
           }
          ],
          "scatterpolargl": [
           {
            "marker": {
             "colorbar": {
              "outlinewidth": 0,
              "ticks": ""
             }
            },
            "type": "scatterpolargl"
           }
          ],
          "scatterternary": [
           {
            "marker": {
             "colorbar": {
              "outlinewidth": 0,
              "ticks": ""
             }
            },
            "type": "scatterternary"
           }
          ],
          "surface": [
           {
            "colorbar": {
             "outlinewidth": 0,
             "ticks": ""
            },
            "colorscale": [
             [
              0,
              "#0d0887"
             ],
             [
              0.1111111111111111,
              "#46039f"
             ],
             [
              0.2222222222222222,
              "#7201a8"
             ],
             [
              0.3333333333333333,
              "#9c179e"
             ],
             [
              0.4444444444444444,
              "#bd3786"
             ],
             [
              0.5555555555555556,
              "#d8576b"
             ],
             [
              0.6666666666666666,
              "#ed7953"
             ],
             [
              0.7777777777777778,
              "#fb9f3a"
             ],
             [
              0.8888888888888888,
              "#fdca26"
             ],
             [
              1,
              "#f0f921"
             ]
            ],
            "type": "surface"
           }
          ],
          "table": [
           {
            "cells": {
             "fill": {
              "color": "#EBF0F8"
             },
             "line": {
              "color": "white"
             }
            },
            "header": {
             "fill": {
              "color": "#C8D4E3"
             },
             "line": {
              "color": "white"
             }
            },
            "type": "table"
           }
          ]
         },
         "layout": {
          "annotationdefaults": {
           "arrowcolor": "#2a3f5f",
           "arrowhead": 0,
           "arrowwidth": 1
          },
          "autotypenumbers": "strict",
          "coloraxis": {
           "colorbar": {
            "outlinewidth": 0,
            "ticks": ""
           }
          },
          "colorscale": {
           "diverging": [
            [
             0,
             "#8e0152"
            ],
            [
             0.1,
             "#c51b7d"
            ],
            [
             0.2,
             "#de77ae"
            ],
            [
             0.3,
             "#f1b6da"
            ],
            [
             0.4,
             "#fde0ef"
            ],
            [
             0.5,
             "#f7f7f7"
            ],
            [
             0.6,
             "#e6f5d0"
            ],
            [
             0.7,
             "#b8e186"
            ],
            [
             0.8,
             "#7fbc41"
            ],
            [
             0.9,
             "#4d9221"
            ],
            [
             1,
             "#276419"
            ]
           ],
           "sequential": [
            [
             0,
             "#0d0887"
            ],
            [
             0.1111111111111111,
             "#46039f"
            ],
            [
             0.2222222222222222,
             "#7201a8"
            ],
            [
             0.3333333333333333,
             "#9c179e"
            ],
            [
             0.4444444444444444,
             "#bd3786"
            ],
            [
             0.5555555555555556,
             "#d8576b"
            ],
            [
             0.6666666666666666,
             "#ed7953"
            ],
            [
             0.7777777777777778,
             "#fb9f3a"
            ],
            [
             0.8888888888888888,
             "#fdca26"
            ],
            [
             1,
             "#f0f921"
            ]
           ],
           "sequentialminus": [
            [
             0,
             "#0d0887"
            ],
            [
             0.1111111111111111,
             "#46039f"
            ],
            [
             0.2222222222222222,
             "#7201a8"
            ],
            [
             0.3333333333333333,
             "#9c179e"
            ],
            [
             0.4444444444444444,
             "#bd3786"
            ],
            [
             0.5555555555555556,
             "#d8576b"
            ],
            [
             0.6666666666666666,
             "#ed7953"
            ],
            [
             0.7777777777777778,
             "#fb9f3a"
            ],
            [
             0.8888888888888888,
             "#fdca26"
            ],
            [
             1,
             "#f0f921"
            ]
           ]
          },
          "colorway": [
           "#636efa",
           "#EF553B",
           "#00cc96",
           "#ab63fa",
           "#FFA15A",
           "#19d3f3",
           "#FF6692",
           "#B6E880",
           "#FF97FF",
           "#FECB52"
          ],
          "font": {
           "color": "#2a3f5f"
          },
          "geo": {
           "bgcolor": "white",
           "lakecolor": "white",
           "landcolor": "#E5ECF6",
           "showlakes": true,
           "showland": true,
           "subunitcolor": "white"
          },
          "hoverlabel": {
           "align": "left"
          },
          "hovermode": "closest",
          "mapbox": {
           "style": "light"
          },
          "paper_bgcolor": "white",
          "plot_bgcolor": "#E5ECF6",
          "polar": {
           "angularaxis": {
            "gridcolor": "white",
            "linecolor": "white",
            "ticks": ""
           },
           "bgcolor": "#E5ECF6",
           "radialaxis": {
            "gridcolor": "white",
            "linecolor": "white",
            "ticks": ""
           }
          },
          "scene": {
           "xaxis": {
            "backgroundcolor": "#E5ECF6",
            "gridcolor": "white",
            "gridwidth": 2,
            "linecolor": "white",
            "showbackground": true,
            "ticks": "",
            "zerolinecolor": "white"
           },
           "yaxis": {
            "backgroundcolor": "#E5ECF6",
            "gridcolor": "white",
            "gridwidth": 2,
            "linecolor": "white",
            "showbackground": true,
            "ticks": "",
            "zerolinecolor": "white"
           },
           "zaxis": {
            "backgroundcolor": "#E5ECF6",
            "gridcolor": "white",
            "gridwidth": 2,
            "linecolor": "white",
            "showbackground": true,
            "ticks": "",
            "zerolinecolor": "white"
           }
          },
          "shapedefaults": {
           "line": {
            "color": "#2a3f5f"
           }
          },
          "ternary": {
           "aaxis": {
            "gridcolor": "white",
            "linecolor": "white",
            "ticks": ""
           },
           "baxis": {
            "gridcolor": "white",
            "linecolor": "white",
            "ticks": ""
           },
           "bgcolor": "#E5ECF6",
           "caxis": {
            "gridcolor": "white",
            "linecolor": "white",
            "ticks": ""
           }
          },
          "title": {
           "x": 0.05
          },
          "xaxis": {
           "automargin": true,
           "gridcolor": "white",
           "linecolor": "white",
           "ticks": "",
           "title": {
            "standoff": 15
           },
           "zerolinecolor": "white",
           "zerolinewidth": 2
          },
          "yaxis": {
           "automargin": true,
           "gridcolor": "white",
           "linecolor": "white",
           "ticks": "",
           "title": {
            "standoff": 15
           },
           "zerolinecolor": "white",
           "zerolinewidth": 2
          }
         }
        },
        "title": {
         "text": "SRP-PHAT Map"
        },
        "xaxis": {
         "anchor": "y",
         "constrain": "domain",
         "domain": [
          0,
          1
         ],
         "scaleanchor": "y",
         "title": {
          "text": "X (m)"
         }
        },
        "yaxis": {
         "anchor": "x",
         "autorange": "reversed",
         "constrain": "domain",
         "domain": [
          0,
          1
         ],
         "title": {
          "text": "Y (m)"
         }
        }
       }
      }
     },
     "metadata": {},
     "output_type": "display_data"
    }
   ],
   "source": [
    "srp = srp_phat(main_speaker_room_noisy_white, mic_pos, grid, sr, interp=1)\n",
    "best_pos = srp.argmax()\n",
    "print(f\"Estimated Source Position: {grid[best_pos]}\")\n",
    "print(f\"True Source Position: {speaker_pos}\")\n",
    "srp_map = srp\n",
    "srp_map = srp_map.reshape(20, 20)\n",
    "\n",
    "plot_map(srp_map.T, grid, mic_pos, room_dim, best_pos, speaker_pos, title='SRP-PHAT Map')\n"
   ]
  },
  {
   "cell_type": "code",
   "execution_count": 82,
   "metadata": {},
   "outputs": [
    {
     "name": "stdout",
     "output_type": "stream",
     "text": [
      "Estimated Source Position: [2.46315789 2.61052632 1.5       ]\n",
      "True Source Position: [1.8844943585313416, 1.014233217934565, 1.5]\n"
     ]
    },
    {
     "data": {
      "application/vnd.plotly.v1+json": {
       "config": {
        "plotlyServerURL": "https://plot.ly"
       },
       "data": [
        {
         "coloraxis": "coloraxis",
         "hovertemplate": "x: %{x}<br>y: %{y}<br>color: %{z}<extra></extra>",
         "name": "0",
         "type": "heatmap",
         "x": [
          0,
          0.2736842105263158,
          0.5473684210526316,
          0.8210526315789475,
          1.0947368421052632,
          1.368421052631579,
          1.642105263157895,
          1.9157894736842107,
          2.1894736842105265,
          2.463157894736842,
          2.736842105263158,
          3.0105263157894737,
          3.28421052631579,
          3.5578947368421057,
          3.8315789473684214,
          4.105263157894737,
          4.378947368421053,
          4.652631578947369,
          4.926315789473684,
          5.2
         ],
         "xaxis": "x",
         "y": [
          0,
          0.3263157894736842,
          0.6526315789473685,
          0.9789473684210527,
          1.305263157894737,
          1.6315789473684212,
          1.9578947368421054,
          2.2842105263157895,
          2.610526315789474,
          2.936842105263158,
          3.2631578947368425,
          3.5894736842105264,
          3.9157894736842107,
          4.242105263157895,
          4.568421052631579,
          4.894736842105264,
          5.221052631578948,
          5.5473684210526315,
          5.873684210526316,
          6.2
         ],
         "yaxis": "y",
         "z": [
          [
           0.8759979049682943,
           0.8798061340047353,
           0.8907791626560062,
           0.9146505996744149,
           0.9507845943945037,
           0.9849312418239506,
           0.9990914822783937,
           0.9816879930735384,
           0.9385678696884816,
           0.8932171008383059,
           0.8706652408040736,
           0.8759473542384811,
           0.893334239963628,
           0.9188683279406287,
           0.9209395209868388,
           0.8895427650071616,
           0.859715142642321,
           0.847185685388183,
           0.8414460166238682,
           0.8346133660432263
          ],
          [
           0.8765944800133479,
           0.8759612314807286,
           0.8804121148117495,
           0.8945524731828891,
           0.9258131649403799,
           0.9680030203252361,
           0.9968156328223038,
           0.9903225051300805,
           0.9468101898048921,
           0.8952029166030085,
           0.8704214214573311,
           0.8785417268588916,
           0.9010446390316538,
           0.9245703751174463,
           0.9057189494536287,
           0.867473955770716,
           0.848675898633699,
           0.841889885571283,
           0.8343349675675737,
           0.8274496597743328
          ],
          [
           0.8833546172571296,
           0.8771839570563236,
           0.8759223620884783,
           0.8812658117306843,
           0.9003223797500179,
           0.941784258640279,
           0.9866820869396149,
           0.9974383443125606,
           0.9570632875948908,
           0.897808794279399,
           0.8703344667259921,
           0.8822271330609298,
           0.9113827549476597,
           0.9210742034472453,
           0.8803877577519443,
           0.8511749079096596,
           0.8424280511910334,
           0.8339853731404003,
           0.8266943248729774,
           0.8264733820303364
          ],
          [
           0.8957152090670101,
           0.886395375102116,
           0.8781613404033113,
           0.8758847379511222,
           0.8825447842365214,
           0.9097090922216685,
           0.9638564777306788,
           0.9996047525302264,
           0.9697605461186095,
           0.9013566079933321,
           0.8705725851620425,
           0.8878178602697233,
           0.9219134317932216,
           0.9002619784672009,
           0.8559796239637414,
           0.843097215338218,
           0.8335339753689207,
           0.8260004204368999,
           0.828246834818995,
           0.8371362412533241
          ],
          [
           0.9031665620383206,
           0.9000221789441907,
           0.8907185364690883,
           0.8798535849707476,
           0.8758586295383121,
           0.884634902399373,
           0.9259693038087866,
           0.9896755746723199,
           0.9847139144330921,
           0.9064207468322424,
           0.8714721103854626,
           0.8971637760826138,
           0.9211818834960198,
           0.8663727219878702,
           0.8439730528252862,
           0.8329304962614575,
           0.8256326760302118,
           0.8318431205546507,
           0.8433239767495939,
           0.8512211394193763
          ],
          [
           0.895563718970533,
           0.9006601796900243,
           0.9028361662574718,
           0.8964251786839805,
           0.8829305030699597,
           0.8758755691629526,
           0.8885272132319676,
           0.954852756683335,
           0.9986185420273147,
           0.9141184648735929,
           0.8737098861253239,
           0.9126321994866898,
           0.8893369265439602,
           0.8452938021448416,
           0.8320877406153492,
           0.8263232213213795,
           0.838400072542179,
           0.8504132208433518,
           0.8543904384456905,
           0.8547718113542083
          ],
          [
           0.8961721937545504,
           0.8920513740538396,
           0.8935367944636604,
           0.900002249369087,
           0.9018172643923807,
           0.888693615531938,
           0.8760457734643985,
           0.8974756485344156,
           0.9957255396244239,
           0.9269001206398776,
           0.8785551881604334,
           0.9207632059092155,
           0.8482949410277235,
           0.8308480476897331,
           0.8301289335804289,
           0.8484229596734666,
           0.8550860651664939,
           0.8554629357105469,
           0.8605790217680179,
           0.8710346271262177
          ],
          [
           0.9146596644467054,
           0.9112400927760341,
           0.9041695268119402,
           0.894852131321076,
           0.8908016960097197,
           0.8986982217758256,
           0.8981147236892916,
           0.8768689849565231,
           0.9265429965796544,
           0.9511517407641319,
           0.8877898545877171,
           0.8626993943331015,
           0.8289575892373803,
           0.842255339342061,
           0.8563814974776688,
           0.8572908542416975,
           0.8696492604551158,
           0.8856511791559382,
           0.8964418830631382,
           0.9009116301197879
          ],
          [
           0.9116862437890729,
           0.9127400398044277,
           0.9138424444675417,
           0.9148854807786927,
           0.9145614954887831,
           0.9080356254310281,
           0.8915725047935706,
           0.8949653881966851,
           0.8820701007421711,
           1,
           0.9076754621693621,
           0.8272116406600187,
           0.8595387443874529,
           0.8662965079117985,
           0.8908733054200131,
           0.8987144097676613,
           0.8963180188154163,
           0.8914723553848057,
           0.8867766591350527,
           0.8827226897827057
          ],
          [
           0.8798085692258344,
           0.881309798657397,
           0.8831818154926853,
           0.8855679249776103,
           0.8886814897723401,
           0.8928256651125646,
           0.8983081903962127,
           0.9045258829013356,
           0.9038084861710729,
           0.8801494280580576,
           0.847698071731991,
           0.8762189464090032,
           0.8740587619116932,
           0.8653952738721585,
           0.8590174641769075,
           0.8546074322104118,
           0.8514744120298888,
           0.8491658198197104,
           0.8474070998913528,
           0.846028802466812
          ],
          [
           0.8331735201450694,
           0.8332233517332264,
           0.8343763131191926,
           0.8372928551511825,
           0.8427634588904738,
           0.8513713584632983,
           0.8642379236903958,
           0.8923715317112815,
           0.9007670470622916,
           0.8636368504894075,
           0.8758486012441401,
           0.9013377109321336,
           0.9061045375223322,
           0.9134640911079343,
           0.9064140301670371,
           0.8903694923455209,
           0.8749094529262585,
           0.8627501994707691,
           0.8537959908865246,
           0.8473295558065957
          ],
          [
           0.8533974076827003,
           0.8585455180087153,
           0.8654658240751215,
           0.876214009417304,
           0.892521098599264,
           0.9070843701846617,
           0.8993290154376412,
           0.8827314121308756,
           0.8515870806499173,
           0.899523868982357,
           0.8714898039674163,
           0.8725015864815818,
           0.8522100465147092,
           0.9038816323544246,
           0.9130737869865724,
           0.9135953353644967,
           0.9154643716804199,
           0.9162782443158562,
           0.9139089220517871,
           0.9085492213817957
          ],
          [
           0.8810611179459308,
           0.8921096454571624,
           0.9027247596279707,
           0.9066283210278682,
           0.8989041112298487,
           0.8870671577175498,
           0.8787467446231932,
           0.8569636385421027,
           0.8784892882405863,
           0.8921991968981622,
           0.8752236334740942,
           0.8735812466805987,
           0.8702950440756274,
           0.8421225974060548,
           0.877500796420484,
           0.9045686001758138,
           0.9131230443371353,
           0.9149596778743074,
           0.9155657235237133,
           0.9164092489523051
          ],
          [
           0.9054155179960106,
           0.9052926173538437,
           0.8986960145462964,
           0.8895640228253442,
           0.8832589414171149,
           0.876285485228085,
           0.859466187733435,
           0.8632224095080427,
           0.8940618550998394,
           0.886634124690446,
           0.8753670282605333,
           0.8775028618381704,
           0.8668871883937009,
           0.8679592786183445,
           0.8419030485799338,
           0.8586567088290472,
           0.8878050703042084,
           0.904914293707498,
           0.9123182600198435,
           0.9150627130531952
          ],
          [
           0.8985719600407384,
           0.8912429682439821,
           0.8853726328671244,
           0.8813623129420481,
           0.8745283438028906,
           0.8608688953331702,
           0.857925886495947,
           0.879621580786771,
           0.8991555841101615,
           0.8829021128649706,
           0.8743702533387123,
           0.8748602326540837,
           0.8734246155431712,
           0.8695110491508206,
           0.8662895674990968,
           0.8434542002541324,
           0.8486876797460863,
           0.8722969421038801,
           0.892805088706954,
           0.9051247045849706
          ],
          [
           0.887032150842668,
           0.8833532498462247,
           0.8799395270636163,
           0.8732292246348986,
           0.8617615154642924,
           0.8564450871066726,
           0.8704579115919867,
           0.8888351429660243,
           0.8993544908517578,
           0.8804121336123955,
           0.873470197278923,
           0.8756825361993289,
           0.8774366602159385,
           0.8673595912328406,
           0.8718360757591701,
           0.865097371362091,
           0.8451375997678781,
           0.843981988728138,
           0.8607649152248302,
           0.8806025678755095
          ],
          [
           0.8820941826498769,
           0.8787205806015113,
           0.8722418019492003,
           0.8623785834927246,
           0.8563504229799653,
           0.8645834015822359,
           0.8799220890857307,
           0.8947530473657206,
           0.8975376289365131,
           0.8787027876455553,
           0.8728183426693995,
           0.8771975975173766,
           0.8761318774017619,
           0.8733821538115923,
           0.8666601031705463,
           0.8727956020580226,
           0.8642169938436299,
           0.8466242174522154,
           0.8420309084165106,
           0.8529661623926713
          ],
          [
           0.877649199872041,
           0.8714719190199476,
           0.8628303984071999,
           0.8567429995602314,
           0.8610093798472795,
           0.8736212886429617,
           0.8863103402055832,
           0.8980825533591626,
           0.8951453940948134,
           0.8774881364296799,
           0.8723679298650996,
           0.8780488024392715,
           0.8750604483525316,
           0.8768233354261434,
           0.8685200369595538,
           0.8682422796813271,
           0.8728829692537309,
           0.8635445670889912,
           0.8478772797955514,
           0.841480810683383
          ],
          [
           0.87085786058277,
           0.8631754283911053,
           0.8572853185720803,
           0.8589665733680291,
           0.8687946301609557,
           0.8800443448532788,
           0.891283077812828,
           0.8993450921141694,
           0.8927529163722782,
           0.8765963973658618,
           0.8720588003589416,
           0.8782070893405534,
           0.8753354703696201,
           0.8767375876307103,
           0.8733626782845129,
           0.866478603715716,
           0.8700521136045353,
           0.8725230957166311,
           0.8630158885567497,
           0.8489248250073161
          ],
          [
           0.8634475015071983,
           0.8578481132125735,
           0.8578774370394768,
           0.8651439390260154,
           0.8752898377137638,
           0.8848927520042172,
           0.8950227307613308,
           0.8992546605605062,
           0.890561743774925,
           0.8759225732752456,
           0.8718458043908766,
           0.8779300239426308,
           0.8762873294427572,
           0.8756795441176118,
           0.8762917389214661,
           0.8694223524472167,
           0.8666028616538938,
           0.8714408494316341,
           0.8719598793310749,
           0.8625900769743743
          ]
         ]
        },
        {
         "marker": {
          "color": "red",
          "size": 10
         },
         "mode": "markers",
         "name": "Microphones",
         "type": "scatter",
         "x": [
          2.5,
          2.7,
          2.6,
          2.6
         ],
         "y": [
          3,
          3,
          2.9,
          3.1
         ]
        },
        {
         "marker": {
          "color": "blue",
          "size": 10
         },
         "mode": "markers",
         "name": "Estimated Source Position",
         "type": "scatter",
         "x": [
          2.463157894736842
         ],
         "y": [
          2.610526315789474
         ]
        },
        {
         "marker": {
          "color": "green",
          "size": 10
         },
         "mode": "markers",
         "name": "True Source Position",
         "type": "scatter",
         "x": [
          1.8844943585313416
         ],
         "y": [
          1.014233217934565
         ]
        }
       ],
       "layout": {
        "coloraxis": {
         "colorscale": [
          [
           0,
           "#0d0887"
          ],
          [
           0.1111111111111111,
           "#46039f"
          ],
          [
           0.2222222222222222,
           "#7201a8"
          ],
          [
           0.3333333333333333,
           "#9c179e"
          ],
          [
           0.4444444444444444,
           "#bd3786"
          ],
          [
           0.5555555555555556,
           "#d8576b"
          ],
          [
           0.6666666666666666,
           "#ed7953"
          ],
          [
           0.7777777777777778,
           "#fb9f3a"
          ],
          [
           0.8888888888888888,
           "#fdca26"
          ],
          [
           1,
           "#f0f921"
          ]
         ],
         "showscale": false
        },
        "margin": {
         "t": 60
        },
        "template": {
         "data": {
          "bar": [
           {
            "error_x": {
             "color": "#2a3f5f"
            },
            "error_y": {
             "color": "#2a3f5f"
            },
            "marker": {
             "line": {
              "color": "#E5ECF6",
              "width": 0.5
             },
             "pattern": {
              "fillmode": "overlay",
              "size": 10,
              "solidity": 0.2
             }
            },
            "type": "bar"
           }
          ],
          "barpolar": [
           {
            "marker": {
             "line": {
              "color": "#E5ECF6",
              "width": 0.5
             },
             "pattern": {
              "fillmode": "overlay",
              "size": 10,
              "solidity": 0.2
             }
            },
            "type": "barpolar"
           }
          ],
          "carpet": [
           {
            "aaxis": {
             "endlinecolor": "#2a3f5f",
             "gridcolor": "white",
             "linecolor": "white",
             "minorgridcolor": "white",
             "startlinecolor": "#2a3f5f"
            },
            "baxis": {
             "endlinecolor": "#2a3f5f",
             "gridcolor": "white",
             "linecolor": "white",
             "minorgridcolor": "white",
             "startlinecolor": "#2a3f5f"
            },
            "type": "carpet"
           }
          ],
          "choropleth": [
           {
            "colorbar": {
             "outlinewidth": 0,
             "ticks": ""
            },
            "type": "choropleth"
           }
          ],
          "contour": [
           {
            "colorbar": {
             "outlinewidth": 0,
             "ticks": ""
            },
            "colorscale": [
             [
              0,
              "#0d0887"
             ],
             [
              0.1111111111111111,
              "#46039f"
             ],
             [
              0.2222222222222222,
              "#7201a8"
             ],
             [
              0.3333333333333333,
              "#9c179e"
             ],
             [
              0.4444444444444444,
              "#bd3786"
             ],
             [
              0.5555555555555556,
              "#d8576b"
             ],
             [
              0.6666666666666666,
              "#ed7953"
             ],
             [
              0.7777777777777778,
              "#fb9f3a"
             ],
             [
              0.8888888888888888,
              "#fdca26"
             ],
             [
              1,
              "#f0f921"
             ]
            ],
            "type": "contour"
           }
          ],
          "contourcarpet": [
           {
            "colorbar": {
             "outlinewidth": 0,
             "ticks": ""
            },
            "type": "contourcarpet"
           }
          ],
          "heatmap": [
           {
            "colorbar": {
             "outlinewidth": 0,
             "ticks": ""
            },
            "colorscale": [
             [
              0,
              "#0d0887"
             ],
             [
              0.1111111111111111,
              "#46039f"
             ],
             [
              0.2222222222222222,
              "#7201a8"
             ],
             [
              0.3333333333333333,
              "#9c179e"
             ],
             [
              0.4444444444444444,
              "#bd3786"
             ],
             [
              0.5555555555555556,
              "#d8576b"
             ],
             [
              0.6666666666666666,
              "#ed7953"
             ],
             [
              0.7777777777777778,
              "#fb9f3a"
             ],
             [
              0.8888888888888888,
              "#fdca26"
             ],
             [
              1,
              "#f0f921"
             ]
            ],
            "type": "heatmap"
           }
          ],
          "heatmapgl": [
           {
            "colorbar": {
             "outlinewidth": 0,
             "ticks": ""
            },
            "colorscale": [
             [
              0,
              "#0d0887"
             ],
             [
              0.1111111111111111,
              "#46039f"
             ],
             [
              0.2222222222222222,
              "#7201a8"
             ],
             [
              0.3333333333333333,
              "#9c179e"
             ],
             [
              0.4444444444444444,
              "#bd3786"
             ],
             [
              0.5555555555555556,
              "#d8576b"
             ],
             [
              0.6666666666666666,
              "#ed7953"
             ],
             [
              0.7777777777777778,
              "#fb9f3a"
             ],
             [
              0.8888888888888888,
              "#fdca26"
             ],
             [
              1,
              "#f0f921"
             ]
            ],
            "type": "heatmapgl"
           }
          ],
          "histogram": [
           {
            "marker": {
             "pattern": {
              "fillmode": "overlay",
              "size": 10,
              "solidity": 0.2
             }
            },
            "type": "histogram"
           }
          ],
          "histogram2d": [
           {
            "colorbar": {
             "outlinewidth": 0,
             "ticks": ""
            },
            "colorscale": [
             [
              0,
              "#0d0887"
             ],
             [
              0.1111111111111111,
              "#46039f"
             ],
             [
              0.2222222222222222,
              "#7201a8"
             ],
             [
              0.3333333333333333,
              "#9c179e"
             ],
             [
              0.4444444444444444,
              "#bd3786"
             ],
             [
              0.5555555555555556,
              "#d8576b"
             ],
             [
              0.6666666666666666,
              "#ed7953"
             ],
             [
              0.7777777777777778,
              "#fb9f3a"
             ],
             [
              0.8888888888888888,
              "#fdca26"
             ],
             [
              1,
              "#f0f921"
             ]
            ],
            "type": "histogram2d"
           }
          ],
          "histogram2dcontour": [
           {
            "colorbar": {
             "outlinewidth": 0,
             "ticks": ""
            },
            "colorscale": [
             [
              0,
              "#0d0887"
             ],
             [
              0.1111111111111111,
              "#46039f"
             ],
             [
              0.2222222222222222,
              "#7201a8"
             ],
             [
              0.3333333333333333,
              "#9c179e"
             ],
             [
              0.4444444444444444,
              "#bd3786"
             ],
             [
              0.5555555555555556,
              "#d8576b"
             ],
             [
              0.6666666666666666,
              "#ed7953"
             ],
             [
              0.7777777777777778,
              "#fb9f3a"
             ],
             [
              0.8888888888888888,
              "#fdca26"
             ],
             [
              1,
              "#f0f921"
             ]
            ],
            "type": "histogram2dcontour"
           }
          ],
          "mesh3d": [
           {
            "colorbar": {
             "outlinewidth": 0,
             "ticks": ""
            },
            "type": "mesh3d"
           }
          ],
          "parcoords": [
           {
            "line": {
             "colorbar": {
              "outlinewidth": 0,
              "ticks": ""
             }
            },
            "type": "parcoords"
           }
          ],
          "pie": [
           {
            "automargin": true,
            "type": "pie"
           }
          ],
          "scatter": [
           {
            "fillpattern": {
             "fillmode": "overlay",
             "size": 10,
             "solidity": 0.2
            },
            "type": "scatter"
           }
          ],
          "scatter3d": [
           {
            "line": {
             "colorbar": {
              "outlinewidth": 0,
              "ticks": ""
             }
            },
            "marker": {
             "colorbar": {
              "outlinewidth": 0,
              "ticks": ""
             }
            },
            "type": "scatter3d"
           }
          ],
          "scattercarpet": [
           {
            "marker": {
             "colorbar": {
              "outlinewidth": 0,
              "ticks": ""
             }
            },
            "type": "scattercarpet"
           }
          ],
          "scattergeo": [
           {
            "marker": {
             "colorbar": {
              "outlinewidth": 0,
              "ticks": ""
             }
            },
            "type": "scattergeo"
           }
          ],
          "scattergl": [
           {
            "marker": {
             "colorbar": {
              "outlinewidth": 0,
              "ticks": ""
             }
            },
            "type": "scattergl"
           }
          ],
          "scattermapbox": [
           {
            "marker": {
             "colorbar": {
              "outlinewidth": 0,
              "ticks": ""
             }
            },
            "type": "scattermapbox"
           }
          ],
          "scatterpolar": [
           {
            "marker": {
             "colorbar": {
              "outlinewidth": 0,
              "ticks": ""
             }
            },
            "type": "scatterpolar"
           }
          ],
          "scatterpolargl": [
           {
            "marker": {
             "colorbar": {
              "outlinewidth": 0,
              "ticks": ""
             }
            },
            "type": "scatterpolargl"
           }
          ],
          "scatterternary": [
           {
            "marker": {
             "colorbar": {
              "outlinewidth": 0,
              "ticks": ""
             }
            },
            "type": "scatterternary"
           }
          ],
          "surface": [
           {
            "colorbar": {
             "outlinewidth": 0,
             "ticks": ""
            },
            "colorscale": [
             [
              0,
              "#0d0887"
             ],
             [
              0.1111111111111111,
              "#46039f"
             ],
             [
              0.2222222222222222,
              "#7201a8"
             ],
             [
              0.3333333333333333,
              "#9c179e"
             ],
             [
              0.4444444444444444,
              "#bd3786"
             ],
             [
              0.5555555555555556,
              "#d8576b"
             ],
             [
              0.6666666666666666,
              "#ed7953"
             ],
             [
              0.7777777777777778,
              "#fb9f3a"
             ],
             [
              0.8888888888888888,
              "#fdca26"
             ],
             [
              1,
              "#f0f921"
             ]
            ],
            "type": "surface"
           }
          ],
          "table": [
           {
            "cells": {
             "fill": {
              "color": "#EBF0F8"
             },
             "line": {
              "color": "white"
             }
            },
            "header": {
             "fill": {
              "color": "#C8D4E3"
             },
             "line": {
              "color": "white"
             }
            },
            "type": "table"
           }
          ]
         },
         "layout": {
          "annotationdefaults": {
           "arrowcolor": "#2a3f5f",
           "arrowhead": 0,
           "arrowwidth": 1
          },
          "autotypenumbers": "strict",
          "coloraxis": {
           "colorbar": {
            "outlinewidth": 0,
            "ticks": ""
           }
          },
          "colorscale": {
           "diverging": [
            [
             0,
             "#8e0152"
            ],
            [
             0.1,
             "#c51b7d"
            ],
            [
             0.2,
             "#de77ae"
            ],
            [
             0.3,
             "#f1b6da"
            ],
            [
             0.4,
             "#fde0ef"
            ],
            [
             0.5,
             "#f7f7f7"
            ],
            [
             0.6,
             "#e6f5d0"
            ],
            [
             0.7,
             "#b8e186"
            ],
            [
             0.8,
             "#7fbc41"
            ],
            [
             0.9,
             "#4d9221"
            ],
            [
             1,
             "#276419"
            ]
           ],
           "sequential": [
            [
             0,
             "#0d0887"
            ],
            [
             0.1111111111111111,
             "#46039f"
            ],
            [
             0.2222222222222222,
             "#7201a8"
            ],
            [
             0.3333333333333333,
             "#9c179e"
            ],
            [
             0.4444444444444444,
             "#bd3786"
            ],
            [
             0.5555555555555556,
             "#d8576b"
            ],
            [
             0.6666666666666666,
             "#ed7953"
            ],
            [
             0.7777777777777778,
             "#fb9f3a"
            ],
            [
             0.8888888888888888,
             "#fdca26"
            ],
            [
             1,
             "#f0f921"
            ]
           ],
           "sequentialminus": [
            [
             0,
             "#0d0887"
            ],
            [
             0.1111111111111111,
             "#46039f"
            ],
            [
             0.2222222222222222,
             "#7201a8"
            ],
            [
             0.3333333333333333,
             "#9c179e"
            ],
            [
             0.4444444444444444,
             "#bd3786"
            ],
            [
             0.5555555555555556,
             "#d8576b"
            ],
            [
             0.6666666666666666,
             "#ed7953"
            ],
            [
             0.7777777777777778,
             "#fb9f3a"
            ],
            [
             0.8888888888888888,
             "#fdca26"
            ],
            [
             1,
             "#f0f921"
            ]
           ]
          },
          "colorway": [
           "#636efa",
           "#EF553B",
           "#00cc96",
           "#ab63fa",
           "#FFA15A",
           "#19d3f3",
           "#FF6692",
           "#B6E880",
           "#FF97FF",
           "#FECB52"
          ],
          "font": {
           "color": "#2a3f5f"
          },
          "geo": {
           "bgcolor": "white",
           "lakecolor": "white",
           "landcolor": "#E5ECF6",
           "showlakes": true,
           "showland": true,
           "subunitcolor": "white"
          },
          "hoverlabel": {
           "align": "left"
          },
          "hovermode": "closest",
          "mapbox": {
           "style": "light"
          },
          "paper_bgcolor": "white",
          "plot_bgcolor": "#E5ECF6",
          "polar": {
           "angularaxis": {
            "gridcolor": "white",
            "linecolor": "white",
            "ticks": ""
           },
           "bgcolor": "#E5ECF6",
           "radialaxis": {
            "gridcolor": "white",
            "linecolor": "white",
            "ticks": ""
           }
          },
          "scene": {
           "xaxis": {
            "backgroundcolor": "#E5ECF6",
            "gridcolor": "white",
            "gridwidth": 2,
            "linecolor": "white",
            "showbackground": true,
            "ticks": "",
            "zerolinecolor": "white"
           },
           "yaxis": {
            "backgroundcolor": "#E5ECF6",
            "gridcolor": "white",
            "gridwidth": 2,
            "linecolor": "white",
            "showbackground": true,
            "ticks": "",
            "zerolinecolor": "white"
           },
           "zaxis": {
            "backgroundcolor": "#E5ECF6",
            "gridcolor": "white",
            "gridwidth": 2,
            "linecolor": "white",
            "showbackground": true,
            "ticks": "",
            "zerolinecolor": "white"
           }
          },
          "shapedefaults": {
           "line": {
            "color": "#2a3f5f"
           }
          },
          "ternary": {
           "aaxis": {
            "gridcolor": "white",
            "linecolor": "white",
            "ticks": ""
           },
           "baxis": {
            "gridcolor": "white",
            "linecolor": "white",
            "ticks": ""
           },
           "bgcolor": "#E5ECF6",
           "caxis": {
            "gridcolor": "white",
            "linecolor": "white",
            "ticks": ""
           }
          },
          "title": {
           "x": 0.05
          },
          "xaxis": {
           "automargin": true,
           "gridcolor": "white",
           "linecolor": "white",
           "ticks": "",
           "title": {
            "standoff": 15
           },
           "zerolinecolor": "white",
           "zerolinewidth": 2
          },
          "yaxis": {
           "automargin": true,
           "gridcolor": "white",
           "linecolor": "white",
           "ticks": "",
           "title": {
            "standoff": 15
           },
           "zerolinecolor": "white",
           "zerolinewidth": 2
          }
         }
        },
        "title": {
         "text": "MUSIC Map"
        },
        "xaxis": {
         "anchor": "y",
         "constrain": "domain",
         "domain": [
          0,
          1
         ],
         "scaleanchor": "y",
         "title": {
          "text": "X (m)"
         }
        },
        "yaxis": {
         "anchor": "x",
         "autorange": "reversed",
         "constrain": "domain",
         "domain": [
          0,
          1
         ],
         "title": {
          "text": "Y (m)"
         }
        }
       }
      }
     },
     "metadata": {},
     "output_type": "display_data"
    }
   ],
   "source": [
    "def MUSIC(signals, mic_positions, grid, fs):\n",
    "    dists_from_mics = np.linalg.norm(grid[:, None] - mic_positions, axis=2)\n",
    "    tau = dists_from_mics / 343.0\n",
    "\n",
    "    nfft = 512\n",
    "    hoplength = 256\n",
    "    stft_signals = librosa.stft(signals, n_fft=nfft, hop_length=hoplength)\n",
    "\n",
    "\n",
    "    stft_sig = stft_signals\n",
    "    H = stft_sig.transpose(1,0,2)  @ stft_sig.transpose(1,2,0).conj() / stft_sig.shape[2]\n",
    "    val,vec = np.linalg.eigh(H)\n",
    "    noise_space = vec[:,:,1:]\n",
    "    omega_f =  fs * np.arange(nfft // 2 + 1) / nfft\n",
    "    steering_vec = np.exp(-1j * 2 * np.pi * omega_f * tau[:, :, None])\n",
    "    Pmu = []\n",
    "    for f in range(nfft // 2 + 1):\n",
    "        Pmu_f = (np.abs(steering_vec[:,:,f].conj() @ noise_space[f])**2).sum(-1)\n",
    "        Pmu.append(Pmu_f)\n",
    "    Pmu = np.array(Pmu)\n",
    "    spec = Pmu.mean(0)\n",
    "    return spec\n",
    "\n",
    "spec = MUSIC(main_speaker_room_noisy_white, mic_pos, grid, sr)\n",
    "\n",
    "spec = spec / spec.max()\n",
    "\n",
    "music_map = spec.reshape(20, 20)\n",
    "\n",
    "best_pos = spec.argmax()\n",
    "\n",
    "print(f\"Estimated Source Position: {grid[best_pos]}\")\n",
    "print(f\"True Source Position: {speaker_pos}\")\n",
    "\n",
    "plot_map(music_map.T, grid, mic_pos, room_dim, best_pos, speaker_pos, title='MUSIC Map')\n",
    "\n"
   ]
  },
  {
   "cell_type": "code",
   "execution_count": null,
   "metadata": {},
   "outputs": [],
   "source": []
  }
 ],
 "metadata": {
  "kernelspec": {
   "display_name": "base",
   "language": "python",
   "name": "python3"
  },
  "language_info": {
   "codemirror_mode": {
    "name": "ipython",
    "version": 3
   },
   "file_extension": ".py",
   "mimetype": "text/x-python",
   "name": "python",
   "nbconvert_exporter": "python",
   "pygments_lexer": "ipython3",
   "version": "3.10.9"
  }
 },
 "nbformat": 4,
 "nbformat_minor": 2
}
