{
 "cells": [
  {
   "cell_type": "code",
   "execution_count": 331,
   "metadata": {},
   "outputs": [],
   "source": [
    "import numpy as np\n",
    "import librosa\n",
    "from IPython.display import Audio\n",
    "import matplotlib.pyplot as plt\n",
    "import plotly.express as px\n",
    "import plotly.graph_objects as go"
   ]
  },
  {
   "cell_type": "code",
   "execution_count": 480,
   "metadata": {},
   "outputs": [],
   "source": [
    "\n",
    "def gcc_phat(sig, refsig, fs=1, interp=16):\n",
    "    '''\n",
    "    This function computes the offset between the signal sig and the reference signal refsig\n",
    "    using the Generalized Cross Correlation - Phase Transform (GCC-PHAT) method.\n",
    "    '''\n",
    "    # make sure the length for the FFT is larger or equal than len(sig) + len(refsig)\n",
    "    n = sig.shape[0] + refsig.shape[0]\n",
    "\n",
    "    # Generalized Cross Correlation Phase Transform\n",
    "    SIG = np.fft.rfft(sig, n=n)\n",
    "    REFSIG = np.fft.rfft(refsig, n=n)\n",
    "    R = SIG * np.conj(REFSIG)\n",
    "\n",
    "    cc = np.fft.irfft(R / (np.abs(R) + 1e-10), n=interp * n)  \n",
    "    \n",
    "\n",
    "    max_shift = int(interp * n / 2)\n",
    "    # print(np.argmax(np.abs(cc)))\n",
    "\n",
    "    cc = np.concatenate((cc[-max_shift:], cc[:max_shift+1]))\n",
    "\n",
    "    # print(np.argmax(np.abs(cc)))\n",
    "    # # find max cross correlation index\n",
    "    \n",
    "    # shift = np.argmax(np.abs(cc)) - max_shift\n",
    "\n",
    "    # tau = shift / float(interp * fs)\n",
    "    return  cc#,tau\n"
   ]
  },
  {
   "cell_type": "code",
   "execution_count": 481,
   "metadata": {},
   "outputs": [],
   "source": [
    "# (np.argmax(np.abs(cc)) - int(sig_len * 16)) / (16000 * 16)"
   ]
  },
  {
   "cell_type": "code",
   "execution_count": 482,
   "metadata": {},
   "outputs": [],
   "source": [
    "# np.linspace(-sig_len/ fs, sig_len/ fs, 16 * sig_len * 2 +1).astype(np.float32)[np.argmax(np.abs(cc))]"
   ]
  },
  {
   "cell_type": "code",
   "execution_count": 483,
   "metadata": {},
   "outputs": [],
   "source": [
    "# np.argmax(np.abs(cc))"
   ]
  },
  {
   "cell_type": "code",
   "execution_count": null,
   "metadata": {},
   "outputs": [
    {
     "name": "stdout",
     "output_type": "stream",
     "text": [
      "0.02\n"
     ]
    },
    {
     "data": {
      "text/plain": [
       "-0.02"
      ]
     },
     "execution_count": 479,
     "metadata": {},
     "output_type": "execute_result"
    }
   ],
   "source": [
    "# fs = 16000  # Sampling frequency (Hz)\n",
    "# f = 10  # Frequency of sine wave (Hz)\n",
    "# seconds = 1  # Duration of the signal (s)\n",
    "# t = np.arange(0, seconds, 1/fs)\n",
    "\n",
    "# # Generate Sine Waves\n",
    "# sig1 = wav[0]#np.concatenate([np.zeros(1000),np.sin(2 * np.pi * f * t)*3, np.zeros(1000)])  # First sine wave\n",
    "# delay_time = 0.02 # 1/4 second delay\n",
    "# delay_samples = int(delay_time * fs)  # Convert delay to samples\n",
    "# print(delay_samples / fs)\n",
    "# sig2 = np.roll(sig1, delay_samples)  # Second sine wave with delay\n",
    "# sig_len = sig1.shape[0]\n",
    "\n",
    "# delay_axs = np.linspace(-sig_len/ fs, sig_len/ fs,16*sig_len * 2 +1).astype(np.float32)\n",
    "\n",
    "# # Apply GCC-PHAT\n",
    "# cc = gcc_phat(sig1, sig2, fs)\n",
    "\n",
    "# delay_axs[np.argmax(np.abs(cc))]\n",
    "# # (np.argmax(np.abs(cc )) - sig1.shape[0])  / fs\n",
    "# # # Plot the Cross-Correlation\n",
    "# # plt.figure(figsize=(10, 5))\n",
    "# # plt.plot(tau_axis, cc)\n",
    "# # plt.axvline(x=estimated_delay, color='r', linestyle='--', label=f'Estimated Delay = {estimated_delay:.4f} s')\n",
    "# # plt.xlabel(\"Time Shift (s)\")\n",
    "# # plt.ylabel(\"Cross-Correlation\")\n",
    "# # plt.title(\"GCC-PHAT Cross-Correlation\")\n",
    "# # plt.legend()\n",
    "# # plt.grid()\n",
    "# # plt.show()\n",
    "\n",
    "# # # Print the Estimated Delay\n",
    "# # print(f\"Estimated Delay: {estimated_delay:.4f} seconds\")\n",
    "# # print(f\"Expected Delay: {delay_time} seconds\")"
   ]
  },
  {
   "cell_type": "code",
   "execution_count": 469,
   "metadata": {},
   "outputs": [],
   "source": [
    "import itertools\n",
    "def srp_phat(signals, mic_positions, grid, fs, interp = 16):\n",
    "    \"\"\"Perform SRP-PHAT localization.\"\"\"\n",
    "    num_mics = len(mic_positions)\n",
    "    srp_map = np.zeros(grid.shape[0], dtype=np.float32)\n",
    "\n",
    "    sig_len = signals.shape[1]\n",
    "\n",
    "    delay_axs = np.linspace(-sig_len/ fs, sig_len/ fs, interp*sig_len * 2 +1).astype(np.float32)\n",
    "\n",
    "\n",
    "    n_channels = signals.shape[0]\n",
    "    # taus = np.zeros((n_channels, n_channels))\n",
    "    gccs = {}\n",
    "    for (i, j) in itertools.combinations(range(num_mics), 2):\n",
    "        if i == j:\n",
    "            continue\n",
    "        cc = gcc_phat(signals[i], signals[j], fs=fs, interp=interp)\n",
    "        # print(i,j,tau)\n",
    "        gccs[(i,j)] = cc\n",
    "\n",
    "\n",
    "    for idx,candidate in enumerate(grid):\n",
    "        power = 0\n",
    "        for (i, j) in itertools.combinations(range(num_mics), 2):\n",
    "            if i == j:\n",
    "                continue\n",
    "            dist_i = np.linalg.norm(candidate - mic_positions[i])\n",
    "            dist_j = np.linalg.norm(candidate - mic_positions[j])\n",
    "            tau = (dist_i - dist_j) / 343.0  # Speed of sound (m/s)\n",
    "            \n",
    "            gcc = gccs[(i,j)]\n",
    "            \n",
    "            closest_idx = np.argmin(np.abs(delay_axs - tau))\n",
    "            power += gcc[closest_idx]\n",
    "\n",
    "        srp_map[idx] = power\n",
    "\n",
    "    return srp_map"
   ]
  },
  {
   "cell_type": "code",
   "execution_count": 521,
   "metadata": {},
   "outputs": [],
   "source": [
    "d = 0.2\n",
    "fs = 16000\n",
    "\n",
    "mic_pos = np.array([\n",
    "          [2.6 - d / 2, 3, 1.5], [2.6 + d / 2, 3, 1.5], [2.6, 3-d/2, 1.5], [2.6 , 3+d/2, 1.5]\n",
    "\n",
    "      ])\n",
    "room_dim = [5.2,6.2,3.5]\n"
   ]
  },
  {
   "cell_type": "code",
   "execution_count": 551,
   "metadata": {},
   "outputs": [],
   "source": [
    "from scipy.signal import fftconvolve\n",
    "import rir_generator as rir\n",
    "\n",
    "\n",
    "\n",
    "def rnd_speaker_pos():\n",
    "  x = np.random.uniform(low=1, high=4, size=(1,))[0]\n",
    "  y = np.random.uniform(low=1, high=5, size=(1,))[0]\n",
    "  speaker_pos =  [x, y, 1.5]\n",
    "  return speaker_pos\n",
    "\n",
    "def gen_rir(t60,pos):\n",
    "\n",
    "  h = rir.generate(\n",
    "      c=340,                  # Sound velocity (m/s)\n",
    "      fs=fs,                  # Sample frequency (samples/s)\n",
    "      r=mic_pos,\n",
    "\n",
    "      s=pos,          # Source position [x y z] (m)\n",
    "      L=room_dim,            # Room dimensions [x y z] (m)\n",
    "      reverberation_time=t60, # Reverberation time (s)\n",
    "      nsample=int(t60 * fs),           # Number of output samples\n",
    "  )\n",
    "      # [1.617, 2.45, 1.7]\n",
    "  return h\n",
    "\n",
    "def add_white_noise(signal, snr_db=10):\n",
    "    if len(signal.shape) == 1 :\n",
    "      signal = signal.reshape(1,-1)\n",
    "    signal_power = np.mean(signal**2,axis=1, keepdims=True)\n",
    "    noise_power = signal_power / (10**(snr_db / 10))\n",
    "    noise = np.sqrt(noise_power) * np.random.normal(0, 1, signal.shape) # spectral and spatial white noise - uncorollated sensors\n",
    "    noisy_signal = signal + noise\n",
    "    return noisy_signal, noise\n",
    "\n",
    "\n",
    "def convolve_rir(signal, rirs):\n",
    "     rirs = rirs.T\n",
    "     return np.stack([np.convolve(signal, rir, mode='full') for rir in rirs])\n"
   ]
  },
  {
   "cell_type": "code",
   "execution_count": 554,
   "metadata": {},
   "outputs": [
    {
     "name": "stdout",
     "output_type": "stream",
     "text": [
      "Estimated Source Position: [2.18947368 4.89473684 1.5       ]\n",
      "True Source Position: [2.2259074885666728, 4.4484389405386615, 1.5]\n"
     ]
    },
    {
     "data": {
      "application/vnd.plotly.v1+json": {
       "config": {
        "plotlyServerURL": "https://plot.ly"
       },
       "data": [
        {
         "coloraxis": "coloraxis",
         "hovertemplate": "x: %{x}<br>y: %{y}<br>color: %{z}<extra></extra>",
         "name": "0",
         "type": "heatmap",
         "x": [
          0,
          0.2736842105263158,
          0.5473684210526316,
          0.8210526315789475,
          1.0947368421052632,
          1.368421052631579,
          1.642105263157895,
          1.9157894736842107,
          2.1894736842105265,
          2.463157894736842,
          2.736842105263158,
          3.0105263157894737,
          3.28421052631579,
          3.5578947368421057,
          3.8315789473684214,
          4.105263157894737,
          4.378947368421053,
          4.652631578947369,
          4.926315789473684,
          5.2
         ],
         "xaxis": "x",
         "y": [
          0,
          0.3263157894736842,
          0.6526315789473685,
          0.9789473684210527,
          1.305263157894737,
          1.6315789473684212,
          1.9578947368421054,
          2.2842105263157895,
          2.610526315789474,
          2.936842105263158,
          3.2631578947368425,
          3.5894736842105264,
          3.9157894736842107,
          4.242105263157895,
          4.568421052631579,
          4.894736842105264,
          5.221052631578948,
          5.5473684210526315,
          5.873684210526316,
          6.2
         ],
         "yaxis": "y",
         "z": [
          [
           -0.02615407,
           -0.0072055557,
           0.0124513935,
           0.02675224,
           0.06405191,
           0.06898504,
           0.14258826,
           0.1650083,
           0.120034456,
           0.07602724,
           0.068315335,
           0.041756988,
           0.02346057,
           0.03107629,
           0.02505817,
           0.023037564,
           0.01673446,
           0.016289642,
           0.011929576,
           0.060845055
          ],
          [
           -0.026498467,
           -0.02615407,
           -0.0072055557,
           0.022325266,
           0.02675224,
           0.06405191,
           0.14258826,
           0.17090352,
           0.120034456,
           0.07602724,
           0.068315335,
           0.041756988,
           0.02906707,
           0.03107629,
           0.023037564,
           0.01673446,
           0.00868512,
           0.011929576,
           0.060845055,
           0.054852083
          ],
          [
           -0.026345925,
           -0.026498467,
           -0.02615407,
           -0.0072055557,
           0.022325266,
           0.06405191,
           0.06898504,
           0.14258826,
           0.16331503,
           0.120034456,
           0.041756988,
           0.016398741,
           0.03107629,
           0.02505817,
           0.023037564,
           0.00868512,
           0.011929576,
           0.060845055,
           0.054852083,
           0.055004627
          ],
          [
           -0.00017984367,
           -0.026345925,
           -0.026498467,
           -0.02615407,
           0.0007262495,
           0.02675224,
           0.06405191,
           0.14258826,
           0.16290018,
           0.120034456,
           0.041756988,
           0.00021839049,
           0.03107629,
           0.023037564,
           0.01673446,
           0.025118656,
           0.060845055,
           0.054852083,
           0.055004627,
           0.08806805
          ],
          [
           0.025631089,
           0.017699283,
           -0.00017984367,
           -0.026345925,
           -0.02615407,
           0.0124513935,
           0.02675224,
           0.14711352,
           0.1650083,
           0.120034456,
           0.041756988,
           0.02346057,
           0.027139977,
           0.01673446,
           0.016289642,
           0.060845055,
           0.055004627,
           0.08806805,
           0.08532472,
           0.0985138
          ],
          [
           0.086554974,
           0.08367191,
           0.017699283,
           -0.00017984367,
           -0.026345925,
           -0.02615407,
           0.0124513935,
           0.06405191,
           0.14258826,
           0.120034456,
           0.041756988,
           0.03107629,
           0.023037564,
           0.016289642,
           0.060845055,
           0.055004627,
           0.08806805,
           0.08532472,
           0.17344283,
           0.17632589
          ],
          [
           0.117989995,
           0.09773503,
           0.086554974,
           0.08367191,
           0.017699283,
           -0.00017984367,
           -0.02615407,
           0.0124513935,
           0.14711352,
           0.120034456,
           0.041756988,
           0.027139977,
           0.016289642,
           0.060845055,
           0.08806805,
           0.08532472,
           0.17344283,
           0.17632589,
           0.17919676,
           0.3033287
          ],
          [
           0.13382138,
           0.117989995,
           0.117989995,
           0.10009672,
           0.086554974,
           0.08367191,
           0.009694029,
           -0.02615407,
           0.02675224,
           0.17513134,
           0.006580397,
           0.01673446,
           0.060845055,
           0.08046353,
           0.17344283,
           0.17632589,
           0.23022674,
           0.3033287,
           0.3033287,
           0.31916007
          ],
          [
           0.20930237,
           0.21414553,
           0.20402248,
           0.17909975,
           0.13382138,
           0.117989995,
           0.10009672,
           0.08367191,
           -0.026345925,
           0.15723655,
           0.010259804,
           0.055004627,
           0.17344283,
           0.23022674,
           0.3033287,
           0.31916007,
           0.3109773,
           0.3082447,
           0.29136452,
           0.28652138
          ],
          [
           0.26539138,
           0.26539138,
           0.26539138,
           0.26539138,
           0.26539138,
           0.26539138,
           0.25625896,
           0.25625896,
           0.1742566,
           0.08139972,
           0.23034714,
           0.30613416,
           0.22343503,
           0.22343503,
           0.23256743,
           0.23256743,
           0.23256743,
           0.23256743,
           0.23256743,
           0.23256743
          ],
          [
           0.32881698,
           0.32881698,
           0.32881698,
           0.32881698,
           0.345746,
           0.3513525,
           0.38638407,
           0.37829188,
           0.27233198,
           0.560786,
           0.23631936,
           0.08854159,
           0.12089853,
           0.13190325,
           0.16889668,
           0.16300145,
           0.17651378,
           0.17651378,
           0.17651378,
           0.17651378
          ],
          [
           0.38002208,
           0.38638407,
           0.37610757,
           0.37610757,
           0.37610757,
           0.35291332,
           0.34676236,
           0.23501588,
           0.44855732,
           0.91387916,
           0.39031994,
           0.17197543,
           0.071020596,
           0.10876758,
           0.11229074,
           0.121626735,
           0.121626735,
           0.121626735,
           0.13190325,
           0.11967209
          ],
          [
           0.37610757,
           0.37610757,
           0.3640934,
           0.35291332,
           0.34927136,
           0.27399948,
           0.25743198,
           0.38088465,
           0.7449993,
           0.8462355,
           0.4605417,
           0.31838277,
           0.12485691,
           0.056857403,
           0.09434769,
           0.10864875,
           0.11229074,
           0.11516161,
           0.121626735,
           0.121626735
          ],
          [
           0.35291332,
           0.35291332,
           0.34927136,
           0.26679164,
           0.20851652,
           0.27304646,
           0.38088465,
           0.626269,
           0.8763245,
           0.8175659,
           0.5097663,
           0.324993,
           0.25486115,
           0.12485691,
           0.07247187,
           0.07580592,
           0.08399579,
           0.10864875,
           0.11229074,
           0.11229074
          ],
          [
           0.34927136,
           0.26679164,
           0.20851652,
           0.25743198,
           0.27339086,
           0.3064543,
           0.53393775,
           0.7449993,
           0.9046397,
           0.8175659,
           0.5097663,
           0.32298377,
           0.31838277,
           0.21512268,
           0.104630925,
           0.07846484,
           0.056857403,
           0.07580592,
           0.08399579,
           0.10864875
          ],
          [
           0.26679164,
           0.20851652,
           0.25743198,
           0.27339086,
           0.3064543,
           0.5140403,
           0.626269,
           0.8763245,
           0.91387916,
           0.8175659,
           0.5097663,
           0.39031994,
           0.324993,
           0.25486115,
           0.19051722,
           0.104630925,
           0.07846484,
           0.056857403,
           0.07580592,
           0.08399579
          ],
          [
           0.20851652,
           0.25743198,
           0.27339086,
           0.3064543,
           0.44855732,
           0.58896935,
           0.7449993,
           0.8763245,
           0.88951606,
           0.8175659,
           0.5097663,
           0.43518347,
           0.324993,
           0.31838277,
           0.24855803,
           0.17197543,
           0.104630925,
           0.07846484,
           0.056857403,
           0.07580592
          ],
          [
           0.27304646,
           0.27339086,
           0.3064543,
           0.44855732,
           0.58896935,
           0.626269,
           0.8763245,
           0.9046397,
           0.8175659,
           0.8175659,
           0.5097663,
           0.5097663,
           0.32298377,
           0.324993,
           0.25486115,
           0.24855803,
           0.17197543,
           0.104630925,
           0.07846484,
           0.07247187
          ],
          [
           0.27339086,
           0.3064543,
           0.44855732,
           0.53393775,
           0.626269,
           0.7449993,
           0.8763245,
           0.90190715,
           0.8175659,
           0.70395774,
           0.5939148,
           0.5097663,
           0.34790653,
           0.324993,
           0.31838277,
           0.25486115,
           0.21512268,
           0.17197543,
           0.104630925,
           0.07846484
          ],
          [
           0.3064543,
           0.44855732,
           0.5140403,
           0.58896935,
           0.626269,
           0.8763245,
           0.8763245,
           0.88951606,
           0.8175659,
           0.70395774,
           0.5939148,
           0.5097663,
           0.43518347,
           0.324993,
           0.324993,
           0.25486115,
           0.24855803,
           0.19051722,
           0.17197543,
           0.104630925
          ]
         ]
        },
        {
         "marker": {
          "color": "red",
          "size": 10
         },
         "mode": "markers",
         "type": "scatter",
         "x": [
          2.5,
          2.7,
          2.6,
          2.6
         ],
         "y": [
          3,
          3,
          2.9,
          3.1
         ]
        },
        {
         "marker": {
          "color": "blue",
          "size": 10
         },
         "mode": "markers",
         "type": "scatter",
         "x": [
          2.1894736842105265
         ],
         "y": [
          4.894736842105264
         ]
        },
        {
         "marker": {
          "color": "green",
          "size": 10
         },
         "mode": "markers",
         "type": "scatter",
         "x": [
          2.2259074885666728
         ],
         "y": [
          4.4484389405386615
         ]
        }
       ],
       "layout": {
        "coloraxis": {
         "colorscale": [
          [
           0,
           "#0d0887"
          ],
          [
           0.1111111111111111,
           "#46039f"
          ],
          [
           0.2222222222222222,
           "#7201a8"
          ],
          [
           0.3333333333333333,
           "#9c179e"
          ],
          [
           0.4444444444444444,
           "#bd3786"
          ],
          [
           0.5555555555555556,
           "#d8576b"
          ],
          [
           0.6666666666666666,
           "#ed7953"
          ],
          [
           0.7777777777777778,
           "#fb9f3a"
          ],
          [
           0.8888888888888888,
           "#fdca26"
          ],
          [
           1,
           "#f0f921"
          ]
         ]
        },
        "margin": {
         "t": 60
        },
        "template": {
         "data": {
          "bar": [
           {
            "error_x": {
             "color": "#2a3f5f"
            },
            "error_y": {
             "color": "#2a3f5f"
            },
            "marker": {
             "line": {
              "color": "#E5ECF6",
              "width": 0.5
             },
             "pattern": {
              "fillmode": "overlay",
              "size": 10,
              "solidity": 0.2
             }
            },
            "type": "bar"
           }
          ],
          "barpolar": [
           {
            "marker": {
             "line": {
              "color": "#E5ECF6",
              "width": 0.5
             },
             "pattern": {
              "fillmode": "overlay",
              "size": 10,
              "solidity": 0.2
             }
            },
            "type": "barpolar"
           }
          ],
          "carpet": [
           {
            "aaxis": {
             "endlinecolor": "#2a3f5f",
             "gridcolor": "white",
             "linecolor": "white",
             "minorgridcolor": "white",
             "startlinecolor": "#2a3f5f"
            },
            "baxis": {
             "endlinecolor": "#2a3f5f",
             "gridcolor": "white",
             "linecolor": "white",
             "minorgridcolor": "white",
             "startlinecolor": "#2a3f5f"
            },
            "type": "carpet"
           }
          ],
          "choropleth": [
           {
            "colorbar": {
             "outlinewidth": 0,
             "ticks": ""
            },
            "type": "choropleth"
           }
          ],
          "contour": [
           {
            "colorbar": {
             "outlinewidth": 0,
             "ticks": ""
            },
            "colorscale": [
             [
              0,
              "#0d0887"
             ],
             [
              0.1111111111111111,
              "#46039f"
             ],
             [
              0.2222222222222222,
              "#7201a8"
             ],
             [
              0.3333333333333333,
              "#9c179e"
             ],
             [
              0.4444444444444444,
              "#bd3786"
             ],
             [
              0.5555555555555556,
              "#d8576b"
             ],
             [
              0.6666666666666666,
              "#ed7953"
             ],
             [
              0.7777777777777778,
              "#fb9f3a"
             ],
             [
              0.8888888888888888,
              "#fdca26"
             ],
             [
              1,
              "#f0f921"
             ]
            ],
            "type": "contour"
           }
          ],
          "contourcarpet": [
           {
            "colorbar": {
             "outlinewidth": 0,
             "ticks": ""
            },
            "type": "contourcarpet"
           }
          ],
          "heatmap": [
           {
            "colorbar": {
             "outlinewidth": 0,
             "ticks": ""
            },
            "colorscale": [
             [
              0,
              "#0d0887"
             ],
             [
              0.1111111111111111,
              "#46039f"
             ],
             [
              0.2222222222222222,
              "#7201a8"
             ],
             [
              0.3333333333333333,
              "#9c179e"
             ],
             [
              0.4444444444444444,
              "#bd3786"
             ],
             [
              0.5555555555555556,
              "#d8576b"
             ],
             [
              0.6666666666666666,
              "#ed7953"
             ],
             [
              0.7777777777777778,
              "#fb9f3a"
             ],
             [
              0.8888888888888888,
              "#fdca26"
             ],
             [
              1,
              "#f0f921"
             ]
            ],
            "type": "heatmap"
           }
          ],
          "heatmapgl": [
           {
            "colorbar": {
             "outlinewidth": 0,
             "ticks": ""
            },
            "colorscale": [
             [
              0,
              "#0d0887"
             ],
             [
              0.1111111111111111,
              "#46039f"
             ],
             [
              0.2222222222222222,
              "#7201a8"
             ],
             [
              0.3333333333333333,
              "#9c179e"
             ],
             [
              0.4444444444444444,
              "#bd3786"
             ],
             [
              0.5555555555555556,
              "#d8576b"
             ],
             [
              0.6666666666666666,
              "#ed7953"
             ],
             [
              0.7777777777777778,
              "#fb9f3a"
             ],
             [
              0.8888888888888888,
              "#fdca26"
             ],
             [
              1,
              "#f0f921"
             ]
            ],
            "type": "heatmapgl"
           }
          ],
          "histogram": [
           {
            "marker": {
             "pattern": {
              "fillmode": "overlay",
              "size": 10,
              "solidity": 0.2
             }
            },
            "type": "histogram"
           }
          ],
          "histogram2d": [
           {
            "colorbar": {
             "outlinewidth": 0,
             "ticks": ""
            },
            "colorscale": [
             [
              0,
              "#0d0887"
             ],
             [
              0.1111111111111111,
              "#46039f"
             ],
             [
              0.2222222222222222,
              "#7201a8"
             ],
             [
              0.3333333333333333,
              "#9c179e"
             ],
             [
              0.4444444444444444,
              "#bd3786"
             ],
             [
              0.5555555555555556,
              "#d8576b"
             ],
             [
              0.6666666666666666,
              "#ed7953"
             ],
             [
              0.7777777777777778,
              "#fb9f3a"
             ],
             [
              0.8888888888888888,
              "#fdca26"
             ],
             [
              1,
              "#f0f921"
             ]
            ],
            "type": "histogram2d"
           }
          ],
          "histogram2dcontour": [
           {
            "colorbar": {
             "outlinewidth": 0,
             "ticks": ""
            },
            "colorscale": [
             [
              0,
              "#0d0887"
             ],
             [
              0.1111111111111111,
              "#46039f"
             ],
             [
              0.2222222222222222,
              "#7201a8"
             ],
             [
              0.3333333333333333,
              "#9c179e"
             ],
             [
              0.4444444444444444,
              "#bd3786"
             ],
             [
              0.5555555555555556,
              "#d8576b"
             ],
             [
              0.6666666666666666,
              "#ed7953"
             ],
             [
              0.7777777777777778,
              "#fb9f3a"
             ],
             [
              0.8888888888888888,
              "#fdca26"
             ],
             [
              1,
              "#f0f921"
             ]
            ],
            "type": "histogram2dcontour"
           }
          ],
          "mesh3d": [
           {
            "colorbar": {
             "outlinewidth": 0,
             "ticks": ""
            },
            "type": "mesh3d"
           }
          ],
          "parcoords": [
           {
            "line": {
             "colorbar": {
              "outlinewidth": 0,
              "ticks": ""
             }
            },
            "type": "parcoords"
           }
          ],
          "pie": [
           {
            "automargin": true,
            "type": "pie"
           }
          ],
          "scatter": [
           {
            "fillpattern": {
             "fillmode": "overlay",
             "size": 10,
             "solidity": 0.2
            },
            "type": "scatter"
           }
          ],
          "scatter3d": [
           {
            "line": {
             "colorbar": {
              "outlinewidth": 0,
              "ticks": ""
             }
            },
            "marker": {
             "colorbar": {
              "outlinewidth": 0,
              "ticks": ""
             }
            },
            "type": "scatter3d"
           }
          ],
          "scattercarpet": [
           {
            "marker": {
             "colorbar": {
              "outlinewidth": 0,
              "ticks": ""
             }
            },
            "type": "scattercarpet"
           }
          ],
          "scattergeo": [
           {
            "marker": {
             "colorbar": {
              "outlinewidth": 0,
              "ticks": ""
             }
            },
            "type": "scattergeo"
           }
          ],
          "scattergl": [
           {
            "marker": {
             "colorbar": {
              "outlinewidth": 0,
              "ticks": ""
             }
            },
            "type": "scattergl"
           }
          ],
          "scattermapbox": [
           {
            "marker": {
             "colorbar": {
              "outlinewidth": 0,
              "ticks": ""
             }
            },
            "type": "scattermapbox"
           }
          ],
          "scatterpolar": [
           {
            "marker": {
             "colorbar": {
              "outlinewidth": 0,
              "ticks": ""
             }
            },
            "type": "scatterpolar"
           }
          ],
          "scatterpolargl": [
           {
            "marker": {
             "colorbar": {
              "outlinewidth": 0,
              "ticks": ""
             }
            },
            "type": "scatterpolargl"
           }
          ],
          "scatterternary": [
           {
            "marker": {
             "colorbar": {
              "outlinewidth": 0,
              "ticks": ""
             }
            },
            "type": "scatterternary"
           }
          ],
          "surface": [
           {
            "colorbar": {
             "outlinewidth": 0,
             "ticks": ""
            },
            "colorscale": [
             [
              0,
              "#0d0887"
             ],
             [
              0.1111111111111111,
              "#46039f"
             ],
             [
              0.2222222222222222,
              "#7201a8"
             ],
             [
              0.3333333333333333,
              "#9c179e"
             ],
             [
              0.4444444444444444,
              "#bd3786"
             ],
             [
              0.5555555555555556,
              "#d8576b"
             ],
             [
              0.6666666666666666,
              "#ed7953"
             ],
             [
              0.7777777777777778,
              "#fb9f3a"
             ],
             [
              0.8888888888888888,
              "#fdca26"
             ],
             [
              1,
              "#f0f921"
             ]
            ],
            "type": "surface"
           }
          ],
          "table": [
           {
            "cells": {
             "fill": {
              "color": "#EBF0F8"
             },
             "line": {
              "color": "white"
             }
            },
            "header": {
             "fill": {
              "color": "#C8D4E3"
             },
             "line": {
              "color": "white"
             }
            },
            "type": "table"
           }
          ]
         },
         "layout": {
          "annotationdefaults": {
           "arrowcolor": "#2a3f5f",
           "arrowhead": 0,
           "arrowwidth": 1
          },
          "autotypenumbers": "strict",
          "coloraxis": {
           "colorbar": {
            "outlinewidth": 0,
            "ticks": ""
           }
          },
          "colorscale": {
           "diverging": [
            [
             0,
             "#8e0152"
            ],
            [
             0.1,
             "#c51b7d"
            ],
            [
             0.2,
             "#de77ae"
            ],
            [
             0.3,
             "#f1b6da"
            ],
            [
             0.4,
             "#fde0ef"
            ],
            [
             0.5,
             "#f7f7f7"
            ],
            [
             0.6,
             "#e6f5d0"
            ],
            [
             0.7,
             "#b8e186"
            ],
            [
             0.8,
             "#7fbc41"
            ],
            [
             0.9,
             "#4d9221"
            ],
            [
             1,
             "#276419"
            ]
           ],
           "sequential": [
            [
             0,
             "#0d0887"
            ],
            [
             0.1111111111111111,
             "#46039f"
            ],
            [
             0.2222222222222222,
             "#7201a8"
            ],
            [
             0.3333333333333333,
             "#9c179e"
            ],
            [
             0.4444444444444444,
             "#bd3786"
            ],
            [
             0.5555555555555556,
             "#d8576b"
            ],
            [
             0.6666666666666666,
             "#ed7953"
            ],
            [
             0.7777777777777778,
             "#fb9f3a"
            ],
            [
             0.8888888888888888,
             "#fdca26"
            ],
            [
             1,
             "#f0f921"
            ]
           ],
           "sequentialminus": [
            [
             0,
             "#0d0887"
            ],
            [
             0.1111111111111111,
             "#46039f"
            ],
            [
             0.2222222222222222,
             "#7201a8"
            ],
            [
             0.3333333333333333,
             "#9c179e"
            ],
            [
             0.4444444444444444,
             "#bd3786"
            ],
            [
             0.5555555555555556,
             "#d8576b"
            ],
            [
             0.6666666666666666,
             "#ed7953"
            ],
            [
             0.7777777777777778,
             "#fb9f3a"
            ],
            [
             0.8888888888888888,
             "#fdca26"
            ],
            [
             1,
             "#f0f921"
            ]
           ]
          },
          "colorway": [
           "#636efa",
           "#EF553B",
           "#00cc96",
           "#ab63fa",
           "#FFA15A",
           "#19d3f3",
           "#FF6692",
           "#B6E880",
           "#FF97FF",
           "#FECB52"
          ],
          "font": {
           "color": "#2a3f5f"
          },
          "geo": {
           "bgcolor": "white",
           "lakecolor": "white",
           "landcolor": "#E5ECF6",
           "showlakes": true,
           "showland": true,
           "subunitcolor": "white"
          },
          "hoverlabel": {
           "align": "left"
          },
          "hovermode": "closest",
          "mapbox": {
           "style": "light"
          },
          "paper_bgcolor": "white",
          "plot_bgcolor": "#E5ECF6",
          "polar": {
           "angularaxis": {
            "gridcolor": "white",
            "linecolor": "white",
            "ticks": ""
           },
           "bgcolor": "#E5ECF6",
           "radialaxis": {
            "gridcolor": "white",
            "linecolor": "white",
            "ticks": ""
           }
          },
          "scene": {
           "xaxis": {
            "backgroundcolor": "#E5ECF6",
            "gridcolor": "white",
            "gridwidth": 2,
            "linecolor": "white",
            "showbackground": true,
            "ticks": "",
            "zerolinecolor": "white"
           },
           "yaxis": {
            "backgroundcolor": "#E5ECF6",
            "gridcolor": "white",
            "gridwidth": 2,
            "linecolor": "white",
            "showbackground": true,
            "ticks": "",
            "zerolinecolor": "white"
           },
           "zaxis": {
            "backgroundcolor": "#E5ECF6",
            "gridcolor": "white",
            "gridwidth": 2,
            "linecolor": "white",
            "showbackground": true,
            "ticks": "",
            "zerolinecolor": "white"
           }
          },
          "shapedefaults": {
           "line": {
            "color": "#2a3f5f"
           }
          },
          "ternary": {
           "aaxis": {
            "gridcolor": "white",
            "linecolor": "white",
            "ticks": ""
           },
           "baxis": {
            "gridcolor": "white",
            "linecolor": "white",
            "ticks": ""
           },
           "bgcolor": "#E5ECF6",
           "caxis": {
            "gridcolor": "white",
            "linecolor": "white",
            "ticks": ""
           }
          },
          "title": {
           "x": 0.05
          },
          "xaxis": {
           "automargin": true,
           "gridcolor": "white",
           "linecolor": "white",
           "ticks": "",
           "title": {
            "standoff": 15
           },
           "zerolinecolor": "white",
           "zerolinewidth": 2
          },
          "yaxis": {
           "automargin": true,
           "gridcolor": "white",
           "linecolor": "white",
           "ticks": "",
           "title": {
            "standoff": 15
           },
           "zerolinecolor": "white",
           "zerolinewidth": 2
          }
         }
        },
        "title": {
         "text": "SRP-PHAT Map"
        },
        "xaxis": {
         "anchor": "y",
         "constrain": "domain",
         "domain": [
          0,
          1
         ],
         "scaleanchor": "y",
         "title": {
          "text": "X (m)"
         }
        },
        "yaxis": {
         "anchor": "x",
         "autorange": "reversed",
         "constrain": "domain",
         "domain": [
          0,
          1
         ],
         "title": {
          "text": "Y (m)"
         }
        }
       }
      }
     },
     "metadata": {},
     "output_type": "display_data"
    }
   ],
   "source": [
    "wav, sr = librosa.load('12.wav', sr=None, mono=False)\n",
    "speaker_pos = rnd_speaker_pos()\n",
    "imp03_main = gen_rir(0.3,speaker_pos)\n",
    "\n",
    "main_speaker_room = convolve_rir(wav, imp03_main)\n",
    "\n",
    "main_speaker_room_noisy_white, white_noise = add_white_noise(main_speaker_room, snr_db=15)\n",
    "\n",
    "grid = np.array([[x, y, 1.5] for x in np.linspace(0, room_dim[0], 20) for y in np.linspace(0, room_dim[1], 20)])\n",
    "\n",
    "srp = srp_phat(main_speaker_room_noisy_white, mic_pos, grid, sr, interp=1)\n",
    "best_pos = srp.argmax()\n",
    "\n",
    "\n",
    "srp = srp_phat(main_speaker_room_noisy_white, mic_pos, grid, sr, interp=1)\n",
    "best_pos = srp.argmax()\n",
    "print(f\"Estimated Source Position: {grid[best_pos]}\")\n",
    "print(f\"True Source Position: {speaker_pos}\")\n",
    "\n",
    "\n",
    "srp_map = srp\n",
    "srp_map = srp_map.reshape(20, 20)\n",
    "fig = px.imshow(srp_map.T, x=np.linspace(0, room_dim[0], 20), y=np.linspace(0, room_dim[1], 20))\n",
    "#  add the microphones\n",
    "fig.add_trace(go.Scatter(x=mic_pos[:, 0], y=mic_pos[:, 1], mode='markers', marker=dict(size=10, color='red')))\n",
    "# add the estimated source position\n",
    "fig.add_trace(go.Scatter(x=[grid[best_pos][0]], y=[grid[best_pos][1]], mode='markers', marker=dict(size=10, color='blue')))\n",
    "fig.add_trace(go.Scatter(x=[speaker_pos[0]], y=[speaker_pos[1]], mode='markers', marker=dict(size=10, color='green')))\n",
    "fig.update_layout(title='SRP-PHAT Map',\n",
    "                  xaxis_title='X (m)',\n",
    "                  yaxis_title='Y (m)')\n",
    "fig.show()\n"
   ]
  },
  {
   "cell_type": "code",
   "execution_count": 241,
   "metadata": {},
   "outputs": [
    {
     "data": {
      "application/vnd.plotly.v1+json": {
       "config": {
        "plotlyServerURL": "https://plot.ly"
       },
       "data": [
        {
         "coloraxis": "coloraxis",
         "hovertemplate": "x: %{x}<br>y: %{y}<br>color: %{z}<extra></extra>",
         "name": "0",
         "type": "heatmap",
         "xaxis": "x",
         "yaxis": "y",
         "z": [
          [
           0.18080983339536683,
           0.18500496429794516,
           0.17161427577371746,
           0.002364854107885204,
           -0.011148919013208051,
           -0.061370756069976475,
           -0.09844417503430132,
           -0.1043480166265119,
           -0.12306754711605497,
           -0.08779522626661446,
           -0.06690848214965746,
           -0.013994619203107087,
           0.11712283180422847,
           0.20518451532663118,
           0.07855127310444752,
           0.07713967223342964,
           -0.012878307797294743,
           -0.06273858467885471,
           -0.06693371558143305,
           -0.052594092398635404
          ],
          [
           0.44432014526860586,
           0.18080983339536683,
           0.18500496429794516,
           0.17161427577371746,
           -0.010653970139105254,
           -0.07400949845345708,
           -0.06763401508865109,
           -0.09844417503430132,
           -0.12275409421534872,
           -0.08779522626661446,
           -0.06690848214965746,
           -0.013571695017208063,
           0.11712283180422847,
           0.20518451532663118,
           0.07713967223342964,
           -0.012878307797294743,
           -0.03445556428792695,
           -0.06693371558143305,
           -0.052594092398635404,
           -0.07612735239920584
          ],
          [
           0.4406310185091015,
           0.44432014526860586,
           0.18080983339536683,
           0.18500496429794516,
           0.002364854107885204,
           -0.010653970139105254,
           -0.061370756069976475,
           -0.09844417503430132,
           -0.1120243162602936,
           -0.08779522626661446,
           -0.06690848214965746,
           0.11712283180422847,
           0.1989212563079566,
           0.07855127310444752,
           -0.012878307797294743,
           -0.03445556428792695,
           -0.06693371558143305,
           -0.052594092398635404,
           -0.07612735239920584,
           -0.06724571402717652
          ],
          [
           0.4439148283111985,
           0.44351095007557023,
           0.44432014526860586,
           0.18080983339536683,
           0.17161427577371746,
           0.002364854107885204,
           -0.07400949845345708,
           -0.07956037566365817,
           -0.1192358704654545,
           -0.08779522626661446,
           -0.06690848214965746,
           0.11712283180422847,
           0.20518451532663118,
           0.07713967223342964,
           -0.03445556428792695,
           -0.06693371558143305,
           -0.052594092398635404,
           -0.07612735239920584,
           -0.04438665312289215,
           -0.02817242537255077
          ],
          [
           0.43659941385657286,
           0.4439148283111985,
           0.44351095007557023,
           0.443825196394503,
           0.18080983339536683,
           0.17161427577371746,
           -0.010653970139105254,
           -0.061370756069976475,
           -0.1043480166265119,
           -0.08779522626661446,
           -0.008393234985524384,
           0.11712283180422847,
           0.07855127310444752,
           -0.012878307797294743,
           -0.06693371558143305,
           -0.052594092398635404,
           -0.07612735239920584,
           -0.02817242537255077,
           -0.03548783982717642,
           -0.03548783982717642
          ],
          [
           0.3065474807284485,
           0.43659941385657286,
           0.43659941385657286,
           0.4439148283111985,
           0.4406310185091015,
           0.18080983339536683,
           0.002364854107885204,
           -0.07400949845345708,
           -0.09844417503430132,
           -0.08779522626661446,
           -0.00619576830269894,
           0.20518451532663118,
           -0.003996669425265421,
           -0.06273858467885471,
           -0.052594092398635404,
           -0.06724571402717652,
           -0.02817242537255077,
           -0.03548783982717642,
           -0.0003120229731374824,
           0.017875942430135038
          ],
          [
           0.16823243448440758,
           0.16823243448440758,
           0.3065474807284485,
           0.43659941385657286,
           0.4439148283111985,
           0.4406310185091015,
           0.18080983339536683,
           0.005244785674353929,
           -0.07956037566365817,
           -0.1050113430673649,
           -0.013571695017208063,
           0.08900711938070163,
           -0.03445556428792695,
           -0.04260517618105627,
           -0.04438665312289215,
           -0.03548783982717642,
           -0.0003120229731374824,
           0.017875942430135038,
           0.017875942430135038,
           0.017875942430135038
          ],
          [
           0.11127363561097457,
           0.16690243094589202,
           0.16823243448440758,
           0.16823243448440758,
           0.2978111848988228,
           0.43659941385657286,
           0.4406310185091015,
           0.18080983339536683,
           -0.07400949845345708,
           -0.1050113430673649,
           0.12577425152685526,
           -0.02187335169988685,
           -0.04260517618105627,
           -0.03548783982717642,
           -0.0003120229731374824,
           0.017875942430135038,
           0.017875942430135038,
           0.016545938891619476,
           0.1316177013323535,
           0.21362707926521676
          ],
          [
           -0.012622020314246942,
           -0.012622020314246942,
           -0.02364202404366768,
           -0.01774966190148278,
           0.11127363561097457,
           0.16823243448440758,
           0.2978111848988228,
           0.4439148283111985,
           0.17161427577371746,
           -0.11954932336616075,
           0.0790182031631225,
           -0.07612735239920584,
           -0.0003120229731374824,
           0.017875942430135038,
           0.016545938891619476,
           0.13540845158657272,
           0.21362707926521676,
           0.23244593389504564,
           0.23244593389504564,
           0.23244593389504564
          ],
          [
           -0.00888868694441854,
           -0.00888868694441854,
           -0.012622020314246942,
           -0.012622020314246942,
           -0.012622020314246942,
           -0.012622020314246942,
           -0.012622020314246942,
           0.10054385765591946,
           0.2870814069437677,
           -0.07869452991306565,
           -0.04436947819920573,
           0.13540845158657272,
           0.22464708299463748,
           0.23244593389504564,
           0.23244593389504564,
           0.23244593389504564,
           0.23244593389504564,
           0.23244593389504564,
           0.3668851036805115,
           0.3668851036805115
          ],
          [
           -0.032620382638056646,
           -0.032620382638056646,
           -0.05823855790345478,
           -0.05823855790345478,
           -0.05823855790345478,
           -0.05823855790345478,
           -0.05823855790345478,
           -0.0808031583793664,
           -0.04521997617436185,
           0.17630350742267528,
           0.33067818313731295,
           0.38663703276251976,
           0.37172190663383253,
           0.46634363592413375,
           0.46634363592413375,
           0.46634363592413375,
           0.46634363592413375,
           0.46634363592413375,
           0.4903692215720995,
           0.4903692215720995
          ],
          [
           -0.05823855790345478,
           -0.05823855790345478,
           -0.052318923471525246,
           -0.08122608256526544,
           -0.09644898326829619,
           -0.07715600297927815,
           -0.06086580106329165,
           0.02068961912623885,
           0.16678646425298232,
           0.2008220649020764,
           1.1436606089626664,
           0.4599015064562277,
           0.42495523701437543,
           0.3933387058909191,
           0.3762431922847265,
           0.38663703276251976,
           0.37764154106576203,
           0.46634363592413375,
           0.46634363592413375,
           0.46634363592413375
          ],
          [
           -0.09644898326829619,
           -0.09425151658547075,
           -0.07715600297927815,
           -0.07715600297927815,
           -0.06086580106329165,
           -0.045673124752426866,
           0.02978688876851952,
           0.12419209187928527,
           0.11644842243404624,
           0.4730799741720183,
           1.0733252692995032,
           0.8807312917341157,
           0.6210344002863049,
           0.453583061619757,
           0.42495523701437543,
           0.3933387058909191,
           0.3933387058909191,
           0.3762431922847265,
           0.3834547464898874,
           0.37764154106576203
          ],
          [
           -0.07715600297927815,
           -0.07715600297927815,
           -0.04738298868928354,
           -0.045673124752426866,
           0.02068961912623885,
           0.02978688876851952,
           0.12419209187928527,
           0.18060613314006052,
           0.0549937305338317,
           0.4730799741720183,
           0.805637253564172,
           1.2835329432060327,
           0.7346795689976231,
           0.6210344002863049,
           0.5596282733210551,
           0.453583061619757,
           0.42495523701437543,
           0.3933387058909191,
           0.3933387058909191,
           0.3933387058909191
          ],
          [
           -0.04738298868928354,
           -0.045673124752426866,
           -0.045673124752426866,
           0.02068961912623885,
           0.02978688876851952,
           0.12419209187928527,
           0.18112608743577996,
           0.11644842243404624,
           0.09991357262260903,
           0.4902960909727687,
           0.7819654632970712,
           1.3669858762700677,
           1.1210947593533063,
           0.7063965486066953,
           0.48116206604293843,
           0.5828063849386718,
           0.5199458054984227,
           0.453583061619757,
           0.42495523701437543,
           0.3933387058909191
          ],
          [
           -0.045673124752426866,
           0.02068961912623885,
           0.02926693447280011,
           0.1605917842658486,
           0.12419209187928527,
           0.16678646425298232,
           0.06255269788348936,
           0.12908716481752686,
           0.09400973103039845,
           0.4902960909727687,
           0.7263366679621537,
           0.9363317803856085,
           1.2403526340478839,
           0.9981898808708622,
           0.6504114877087707,
           0.48116206604293843,
           0.4599015064562277,
           0.5199458054984227,
           0.453583061619757,
           0.453583061619757
          ],
          [
           0.02068961912623885,
           0.02926693447280011,
           0.14576934836991748,
           0.12419209187928527,
           0.16678646425298232,
           0.18112608743577996,
           0.11644842243404624,
           0.0549937305338317,
           0.20113551780278266,
           0.4902960909727687,
           0.6672129568164338,
           0.9363317803856085,
           1.3669858762700677,
           1.1000764215688892,
           0.7346795689976231,
           0.6504114877087707,
           0.48116206604293843,
           0.4599015064562277,
           0.5596282733210551,
           0.5199458054984227
          ],
          [
           0.02978688876851952,
           0.14576934836991748,
           0.12419209187928527,
           0.18017715277721003,
           0.18112608743577996,
           0.06255269788348936,
           0.12908716481752686,
           0.09991357262260903,
           0.3162072802435167,
           0.4902960909727687,
           0.6672129568164338,
           0.9363317803856085,
           1.2597608225790333,
           1.2403526340478839,
           0.9981898808708622,
           0.7346795689976231,
           0.6504114877087707,
           0.48116206604293843,
           0.4599015064562277,
           0.5828063849386718
          ],
          [
           0.14576934836991748,
           0.12419209187928527,
           0.18017715277721003,
           0.16678646425298232,
           0.06255269788348936,
           0.11644842243404624,
           0.021862111126492334,
           0.09991357262260903,
           0.3318531051324465,
           0.4902960909727687,
           0.6672129568164338,
           0.805637253564172,
           0.9363317803856085,
           1.3669858762700677,
           1.1000764215688892,
           0.9981898808708622,
           0.7346795689976231,
           0.6504114877087707,
           0.48116206604293843,
           0.4599015064562277
          ],
          [
           0.12419209187928527,
           0.18017715277721003,
           0.16678646425298232,
           0.18112608743577996,
           0.07737513377942049,
           0.12908716481752686,
           0.09991357262260903,
           0.09400973103039845,
           0.33153965223174026,
           0.4902960909727687,
           0.6672129568164338,
           0.6873437340067698,
           0.9363317803856085,
           1.3669858762700677,
           1.2403526340478839,
           1.1000764215688892,
           0.9981898808708622,
           0.7063965486066953,
           0.6504114877087707,
           0.48116206604293843
          ]
         ]
        }
       ],
       "layout": {
        "coloraxis": {
         "colorscale": [
          [
           0,
           "#0d0887"
          ],
          [
           0.1111111111111111,
           "#46039f"
          ],
          [
           0.2222222222222222,
           "#7201a8"
          ],
          [
           0.3333333333333333,
           "#9c179e"
          ],
          [
           0.4444444444444444,
           "#bd3786"
          ],
          [
           0.5555555555555556,
           "#d8576b"
          ],
          [
           0.6666666666666666,
           "#ed7953"
          ],
          [
           0.7777777777777778,
           "#fb9f3a"
          ],
          [
           0.8888888888888888,
           "#fdca26"
          ],
          [
           1,
           "#f0f921"
          ]
         ]
        },
        "margin": {
         "t": 60
        },
        "template": {
         "data": {
          "bar": [
           {
            "error_x": {
             "color": "#2a3f5f"
            },
            "error_y": {
             "color": "#2a3f5f"
            },
            "marker": {
             "line": {
              "color": "#E5ECF6",
              "width": 0.5
             },
             "pattern": {
              "fillmode": "overlay",
              "size": 10,
              "solidity": 0.2
             }
            },
            "type": "bar"
           }
          ],
          "barpolar": [
           {
            "marker": {
             "line": {
              "color": "#E5ECF6",
              "width": 0.5
             },
             "pattern": {
              "fillmode": "overlay",
              "size": 10,
              "solidity": 0.2
             }
            },
            "type": "barpolar"
           }
          ],
          "carpet": [
           {
            "aaxis": {
             "endlinecolor": "#2a3f5f",
             "gridcolor": "white",
             "linecolor": "white",
             "minorgridcolor": "white",
             "startlinecolor": "#2a3f5f"
            },
            "baxis": {
             "endlinecolor": "#2a3f5f",
             "gridcolor": "white",
             "linecolor": "white",
             "minorgridcolor": "white",
             "startlinecolor": "#2a3f5f"
            },
            "type": "carpet"
           }
          ],
          "choropleth": [
           {
            "colorbar": {
             "outlinewidth": 0,
             "ticks": ""
            },
            "type": "choropleth"
           }
          ],
          "contour": [
           {
            "colorbar": {
             "outlinewidth": 0,
             "ticks": ""
            },
            "colorscale": [
             [
              0,
              "#0d0887"
             ],
             [
              0.1111111111111111,
              "#46039f"
             ],
             [
              0.2222222222222222,
              "#7201a8"
             ],
             [
              0.3333333333333333,
              "#9c179e"
             ],
             [
              0.4444444444444444,
              "#bd3786"
             ],
             [
              0.5555555555555556,
              "#d8576b"
             ],
             [
              0.6666666666666666,
              "#ed7953"
             ],
             [
              0.7777777777777778,
              "#fb9f3a"
             ],
             [
              0.8888888888888888,
              "#fdca26"
             ],
             [
              1,
              "#f0f921"
             ]
            ],
            "type": "contour"
           }
          ],
          "contourcarpet": [
           {
            "colorbar": {
             "outlinewidth": 0,
             "ticks": ""
            },
            "type": "contourcarpet"
           }
          ],
          "heatmap": [
           {
            "colorbar": {
             "outlinewidth": 0,
             "ticks": ""
            },
            "colorscale": [
             [
              0,
              "#0d0887"
             ],
             [
              0.1111111111111111,
              "#46039f"
             ],
             [
              0.2222222222222222,
              "#7201a8"
             ],
             [
              0.3333333333333333,
              "#9c179e"
             ],
             [
              0.4444444444444444,
              "#bd3786"
             ],
             [
              0.5555555555555556,
              "#d8576b"
             ],
             [
              0.6666666666666666,
              "#ed7953"
             ],
             [
              0.7777777777777778,
              "#fb9f3a"
             ],
             [
              0.8888888888888888,
              "#fdca26"
             ],
             [
              1,
              "#f0f921"
             ]
            ],
            "type": "heatmap"
           }
          ],
          "heatmapgl": [
           {
            "colorbar": {
             "outlinewidth": 0,
             "ticks": ""
            },
            "colorscale": [
             [
              0,
              "#0d0887"
             ],
             [
              0.1111111111111111,
              "#46039f"
             ],
             [
              0.2222222222222222,
              "#7201a8"
             ],
             [
              0.3333333333333333,
              "#9c179e"
             ],
             [
              0.4444444444444444,
              "#bd3786"
             ],
             [
              0.5555555555555556,
              "#d8576b"
             ],
             [
              0.6666666666666666,
              "#ed7953"
             ],
             [
              0.7777777777777778,
              "#fb9f3a"
             ],
             [
              0.8888888888888888,
              "#fdca26"
             ],
             [
              1,
              "#f0f921"
             ]
            ],
            "type": "heatmapgl"
           }
          ],
          "histogram": [
           {
            "marker": {
             "pattern": {
              "fillmode": "overlay",
              "size": 10,
              "solidity": 0.2
             }
            },
            "type": "histogram"
           }
          ],
          "histogram2d": [
           {
            "colorbar": {
             "outlinewidth": 0,
             "ticks": ""
            },
            "colorscale": [
             [
              0,
              "#0d0887"
             ],
             [
              0.1111111111111111,
              "#46039f"
             ],
             [
              0.2222222222222222,
              "#7201a8"
             ],
             [
              0.3333333333333333,
              "#9c179e"
             ],
             [
              0.4444444444444444,
              "#bd3786"
             ],
             [
              0.5555555555555556,
              "#d8576b"
             ],
             [
              0.6666666666666666,
              "#ed7953"
             ],
             [
              0.7777777777777778,
              "#fb9f3a"
             ],
             [
              0.8888888888888888,
              "#fdca26"
             ],
             [
              1,
              "#f0f921"
             ]
            ],
            "type": "histogram2d"
           }
          ],
          "histogram2dcontour": [
           {
            "colorbar": {
             "outlinewidth": 0,
             "ticks": ""
            },
            "colorscale": [
             [
              0,
              "#0d0887"
             ],
             [
              0.1111111111111111,
              "#46039f"
             ],
             [
              0.2222222222222222,
              "#7201a8"
             ],
             [
              0.3333333333333333,
              "#9c179e"
             ],
             [
              0.4444444444444444,
              "#bd3786"
             ],
             [
              0.5555555555555556,
              "#d8576b"
             ],
             [
              0.6666666666666666,
              "#ed7953"
             ],
             [
              0.7777777777777778,
              "#fb9f3a"
             ],
             [
              0.8888888888888888,
              "#fdca26"
             ],
             [
              1,
              "#f0f921"
             ]
            ],
            "type": "histogram2dcontour"
           }
          ],
          "mesh3d": [
           {
            "colorbar": {
             "outlinewidth": 0,
             "ticks": ""
            },
            "type": "mesh3d"
           }
          ],
          "parcoords": [
           {
            "line": {
             "colorbar": {
              "outlinewidth": 0,
              "ticks": ""
             }
            },
            "type": "parcoords"
           }
          ],
          "pie": [
           {
            "automargin": true,
            "type": "pie"
           }
          ],
          "scatter": [
           {
            "fillpattern": {
             "fillmode": "overlay",
             "size": 10,
             "solidity": 0.2
            },
            "type": "scatter"
           }
          ],
          "scatter3d": [
           {
            "line": {
             "colorbar": {
              "outlinewidth": 0,
              "ticks": ""
             }
            },
            "marker": {
             "colorbar": {
              "outlinewidth": 0,
              "ticks": ""
             }
            },
            "type": "scatter3d"
           }
          ],
          "scattercarpet": [
           {
            "marker": {
             "colorbar": {
              "outlinewidth": 0,
              "ticks": ""
             }
            },
            "type": "scattercarpet"
           }
          ],
          "scattergeo": [
           {
            "marker": {
             "colorbar": {
              "outlinewidth": 0,
              "ticks": ""
             }
            },
            "type": "scattergeo"
           }
          ],
          "scattergl": [
           {
            "marker": {
             "colorbar": {
              "outlinewidth": 0,
              "ticks": ""
             }
            },
            "type": "scattergl"
           }
          ],
          "scattermapbox": [
           {
            "marker": {
             "colorbar": {
              "outlinewidth": 0,
              "ticks": ""
             }
            },
            "type": "scattermapbox"
           }
          ],
          "scatterpolar": [
           {
            "marker": {
             "colorbar": {
              "outlinewidth": 0,
              "ticks": ""
             }
            },
            "type": "scatterpolar"
           }
          ],
          "scatterpolargl": [
           {
            "marker": {
             "colorbar": {
              "outlinewidth": 0,
              "ticks": ""
             }
            },
            "type": "scatterpolargl"
           }
          ],
          "scatterternary": [
           {
            "marker": {
             "colorbar": {
              "outlinewidth": 0,
              "ticks": ""
             }
            },
            "type": "scatterternary"
           }
          ],
          "surface": [
           {
            "colorbar": {
             "outlinewidth": 0,
             "ticks": ""
            },
            "colorscale": [
             [
              0,
              "#0d0887"
             ],
             [
              0.1111111111111111,
              "#46039f"
             ],
             [
              0.2222222222222222,
              "#7201a8"
             ],
             [
              0.3333333333333333,
              "#9c179e"
             ],
             [
              0.4444444444444444,
              "#bd3786"
             ],
             [
              0.5555555555555556,
              "#d8576b"
             ],
             [
              0.6666666666666666,
              "#ed7953"
             ],
             [
              0.7777777777777778,
              "#fb9f3a"
             ],
             [
              0.8888888888888888,
              "#fdca26"
             ],
             [
              1,
              "#f0f921"
             ]
            ],
            "type": "surface"
           }
          ],
          "table": [
           {
            "cells": {
             "fill": {
              "color": "#EBF0F8"
             },
             "line": {
              "color": "white"
             }
            },
            "header": {
             "fill": {
              "color": "#C8D4E3"
             },
             "line": {
              "color": "white"
             }
            },
            "type": "table"
           }
          ]
         },
         "layout": {
          "annotationdefaults": {
           "arrowcolor": "#2a3f5f",
           "arrowhead": 0,
           "arrowwidth": 1
          },
          "autotypenumbers": "strict",
          "coloraxis": {
           "colorbar": {
            "outlinewidth": 0,
            "ticks": ""
           }
          },
          "colorscale": {
           "diverging": [
            [
             0,
             "#8e0152"
            ],
            [
             0.1,
             "#c51b7d"
            ],
            [
             0.2,
             "#de77ae"
            ],
            [
             0.3,
             "#f1b6da"
            ],
            [
             0.4,
             "#fde0ef"
            ],
            [
             0.5,
             "#f7f7f7"
            ],
            [
             0.6,
             "#e6f5d0"
            ],
            [
             0.7,
             "#b8e186"
            ],
            [
             0.8,
             "#7fbc41"
            ],
            [
             0.9,
             "#4d9221"
            ],
            [
             1,
             "#276419"
            ]
           ],
           "sequential": [
            [
             0,
             "#0d0887"
            ],
            [
             0.1111111111111111,
             "#46039f"
            ],
            [
             0.2222222222222222,
             "#7201a8"
            ],
            [
             0.3333333333333333,
             "#9c179e"
            ],
            [
             0.4444444444444444,
             "#bd3786"
            ],
            [
             0.5555555555555556,
             "#d8576b"
            ],
            [
             0.6666666666666666,
             "#ed7953"
            ],
            [
             0.7777777777777778,
             "#fb9f3a"
            ],
            [
             0.8888888888888888,
             "#fdca26"
            ],
            [
             1,
             "#f0f921"
            ]
           ],
           "sequentialminus": [
            [
             0,
             "#0d0887"
            ],
            [
             0.1111111111111111,
             "#46039f"
            ],
            [
             0.2222222222222222,
             "#7201a8"
            ],
            [
             0.3333333333333333,
             "#9c179e"
            ],
            [
             0.4444444444444444,
             "#bd3786"
            ],
            [
             0.5555555555555556,
             "#d8576b"
            ],
            [
             0.6666666666666666,
             "#ed7953"
            ],
            [
             0.7777777777777778,
             "#fb9f3a"
            ],
            [
             0.8888888888888888,
             "#fdca26"
            ],
            [
             1,
             "#f0f921"
            ]
           ]
          },
          "colorway": [
           "#636efa",
           "#EF553B",
           "#00cc96",
           "#ab63fa",
           "#FFA15A",
           "#19d3f3",
           "#FF6692",
           "#B6E880",
           "#FF97FF",
           "#FECB52"
          ],
          "font": {
           "color": "#2a3f5f"
          },
          "geo": {
           "bgcolor": "white",
           "lakecolor": "white",
           "landcolor": "#E5ECF6",
           "showlakes": true,
           "showland": true,
           "subunitcolor": "white"
          },
          "hoverlabel": {
           "align": "left"
          },
          "hovermode": "closest",
          "mapbox": {
           "style": "light"
          },
          "paper_bgcolor": "white",
          "plot_bgcolor": "#E5ECF6",
          "polar": {
           "angularaxis": {
            "gridcolor": "white",
            "linecolor": "white",
            "ticks": ""
           },
           "bgcolor": "#E5ECF6",
           "radialaxis": {
            "gridcolor": "white",
            "linecolor": "white",
            "ticks": ""
           }
          },
          "scene": {
           "xaxis": {
            "backgroundcolor": "#E5ECF6",
            "gridcolor": "white",
            "gridwidth": 2,
            "linecolor": "white",
            "showbackground": true,
            "ticks": "",
            "zerolinecolor": "white"
           },
           "yaxis": {
            "backgroundcolor": "#E5ECF6",
            "gridcolor": "white",
            "gridwidth": 2,
            "linecolor": "white",
            "showbackground": true,
            "ticks": "",
            "zerolinecolor": "white"
           },
           "zaxis": {
            "backgroundcolor": "#E5ECF6",
            "gridcolor": "white",
            "gridwidth": 2,
            "linecolor": "white",
            "showbackground": true,
            "ticks": "",
            "zerolinecolor": "white"
           }
          },
          "shapedefaults": {
           "line": {
            "color": "#2a3f5f"
           }
          },
          "ternary": {
           "aaxis": {
            "gridcolor": "white",
            "linecolor": "white",
            "ticks": ""
           },
           "baxis": {
            "gridcolor": "white",
            "linecolor": "white",
            "ticks": ""
           },
           "bgcolor": "#E5ECF6",
           "caxis": {
            "gridcolor": "white",
            "linecolor": "white",
            "ticks": ""
           }
          },
          "title": {
           "x": 0.05
          },
          "xaxis": {
           "automargin": true,
           "gridcolor": "white",
           "linecolor": "white",
           "ticks": "",
           "title": {
            "standoff": 15
           },
           "zerolinecolor": "white",
           "zerolinewidth": 2
          },
          "yaxis": {
           "automargin": true,
           "gridcolor": "white",
           "linecolor": "white",
           "ticks": "",
           "title": {
            "standoff": 15
           },
           "zerolinecolor": "white",
           "zerolinewidth": 2
          }
         }
        },
        "xaxis": {
         "anchor": "y",
         "constrain": "domain",
         "domain": [
          0,
          1
         ],
         "scaleanchor": "y"
        },
        "yaxis": {
         "anchor": "x",
         "autorange": "reversed",
         "constrain": "domain",
         "domain": [
          0,
          1
         ]
        }
       }
      }
     },
     "metadata": {},
     "output_type": "display_data"
    }
   ],
   "source": [
    "px.imshow(srp[1].reshape(20,20))"
   ]
  },
  {
   "cell_type": "code",
   "execution_count": null,
   "metadata": {},
   "outputs": [],
   "source": [
    "sin.shape"
   ]
  },
  {
   "cell_type": "code",
   "execution_count": null,
   "metadata": {},
   "outputs": [],
   "source": [
    "Audio(sin, rate=4000)"
   ]
  },
  {
   "cell_type": "code",
   "execution_count": null,
   "metadata": {},
   "outputs": [],
   "source": [
    "a= np.fft.rfft(sin)\n",
    "# a = np.abs(a)\n",
    "b = np.fft.irfft(a)\n"
   ]
  },
  {
   "cell_type": "code",
   "execution_count": null,
   "metadata": {},
   "outputs": [],
   "source": [
    "a"
   ]
  },
  {
   "cell_type": "code",
   "execution_count": null,
   "metadata": {},
   "outputs": [],
   "source": [
    "import plotly.express as px\n",
    "import plotly.graph_objects as go\n"
   ]
  },
  {
   "cell_type": "code",
   "execution_count": null,
   "metadata": {},
   "outputs": [],
   "source": [
    "fig = go.Figure()\n",
    "freqs = np.fft.rfftfreq(len(sin), 1/4000)\n",
    "\n",
    "fig.add_trace(go.Scatter(x=freqs, y=np.abs(a)))\n",
    "fig.add_trace(go.Scatter(x=freqs, y=np.angle(a)))\n",
    "\n",
    "fig.show()"
   ]
  },
  {
   "cell_type": "code",
   "execution_count": null,
   "metadata": {},
   "outputs": [],
   "source": [
    "px.line( y=b)\n"
   ]
  },
  {
   "cell_type": "code",
   "execution_count": null,
   "metadata": {},
   "outputs": [],
   "source": [
    "# Compute the GCC-PHAT between each 2 pairs of channels\n",
    "n_channels = wav.shape[0]\n",
    "# cc = np.zeros((n_channels, n_channels, wav.shape[1]))\n",
    "taus = np.zeros((n_channels, n_channels))\n",
    "for i in range(n_channels):\n",
    "    for j in range(n_channels):\n",
    "        if i == j:\n",
    "            continue\n",
    "        tau, cc = gcc_phat(wav[i], wav[j], fs=sr)\n",
    "        print(i,j,tau)\n",
    "        taus[i, j] = tau\n"
   ]
  },
  {
   "cell_type": "code",
   "execution_count": null,
   "metadata": {},
   "outputs": [],
   "source": [
    "gcc_phat(wav[0], wav[3], fs=sr)"
   ]
  },
  {
   "cell_type": "code",
   "execution_count": null,
   "metadata": {},
   "outputs": [],
   "source": [
    "mic_pos.shape"
   ]
  },
  {
   "cell_type": "code",
   "execution_count": 189,
   "metadata": {},
   "outputs": [],
   "source": [
    "import pyroomacoustics as pra\n",
    "\n",
    "srp_phat = pra.doa.srp.SRP(mic_pos.T, fs=sr, nfft=1024, num_src=1, c=343)\n"
   ]
  },
  {
   "cell_type": "code",
   "execution_count": 190,
   "metadata": {},
   "outputs": [],
   "source": [
    "nfft = 1024\n",
    "X = np.array(\n",
    "    [\n",
    "        pra.transform.stft.analysis(signal, nfft, nfft // 2).T\n",
    "        for signal in wav\n",
    "    ]\n",
    ")\n",
    "srp_phat.locate_sources(X )"
   ]
  },
  {
   "cell_type": "code",
   "execution_count": null,
   "metadata": {},
   "outputs": [],
   "source": [
    "srp_phat.grid"
   ]
  },
  {
   "cell_type": "code",
   "execution_count": null,
   "metadata": {},
   "outputs": [],
   "source": [
    "import matplotlib.pyplot as plt\n",
    "azimuths = np.degrees(srp_phat.grid.azimuth)  # Convert to degrees\n",
    "elevations = np.degrees(srp_phat.grid.colatitude)  # Convert colatitude to elevation\n",
    "srp_response = srp_phat.grid.values  # Steered response power\n",
    "\n",
    "# Create Azimuth-Elevation Heatmap\n",
    "plt.figure(figsize=(10, 6))\n",
    "plt.scatter(azimuths, elevations, c=srp_response, cmap='jet', marker='s')\n",
    "plt.colorbar(label=\"SRP-PHAT Power\")\n",
    "plt.xlabel(\"Azimuth (°)\")\n",
    "plt.ylabel(\"Elevation (°)\")\n",
    "plt.title(\"SRP-PHAT Localization Heatmap\")\n",
    "plt.grid()\n",
    "plt.show()"
   ]
  },
  {
   "cell_type": "code",
   "execution_count": null,
   "metadata": {},
   "outputs": [],
   "source": [
    "srp_phat.grid.plot()"
   ]
  },
  {
   "cell_type": "code",
   "execution_count": null,
   "metadata": {},
   "outputs": [],
   "source": [
    "srp_phat.polar_plt_dirac()"
   ]
  }
 ],
 "metadata": {
  "kernelspec": {
   "display_name": "base",
   "language": "python",
   "name": "python3"
  },
  "language_info": {
   "codemirror_mode": {
    "name": "ipython",
    "version": 3
   },
   "file_extension": ".py",
   "mimetype": "text/x-python",
   "name": "python",
   "nbconvert_exporter": "python",
   "pygments_lexer": "ipython3",
   "version": "3.10.9"
  }
 },
 "nbformat": 4,
 "nbformat_minor": 2
}
