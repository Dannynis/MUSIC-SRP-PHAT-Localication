{
 "cells": [
  {
   "cell_type": "code",
   "execution_count": 1,
   "metadata": {},
   "outputs": [],
   "source": [
    "import numpy as np\n",
    "import librosa\n",
    "from IPython.display import Audio\n",
    "import matplotlib.pyplot as plt\n",
    "import plotly.express as px\n",
    "import plotly.graph_objects as go"
   ]
  },
  {
   "cell_type": "code",
   "execution_count": 2,
   "metadata": {},
   "outputs": [],
   "source": [
    "\n",
    "def gcc_phat(sig, refsig, fs=1, interp=16):\n",
    "    '''\n",
    "    This function computes the offset between the signal sig and the reference signal refsig\n",
    "    using the Generalized Cross Correlation - Phase Transform (GCC-PHAT) method.\n",
    "    '''\n",
    "    # make sure the length for the FFT is larger or equal than len(sig) + len(refsig)\n",
    "    n = sig.shape[0] + refsig.shape[0]\n",
    "\n",
    "    # Generalized Cross Correlation Phase Transform\n",
    "    SIG = np.fft.rfft(sig, n=n)\n",
    "    REFSIG = np.fft.rfft(refsig, n=n)\n",
    "    R = SIG * np.conj(REFSIG)\n",
    "\n",
    "    cc = np.fft.irfft(R / (np.abs(R) + 1e-10), n=interp * n)  \n",
    "    \n",
    "\n",
    "    max_shift = int(interp * n / 2)\n",
    "    # print(np.argmax(np.abs(cc)))\n",
    "\n",
    "    cc = np.concatenate((cc[-max_shift:], cc[:max_shift+1]))\n",
    "\n",
    "    # print(np.argmax(np.abs(cc)))\n",
    "    # # find max cross correlation index\n",
    "    \n",
    "    # shift = np.argmax(np.abs(cc)) - max_shift\n",
    "\n",
    "    # tau = shift / float(interp * fs)\n",
    "    return  cc#,tau\n"
   ]
  },
  {
   "cell_type": "code",
   "execution_count": 3,
   "metadata": {},
   "outputs": [],
   "source": [
    "# (np.argmax(np.abs(cc)) - int(sig_len * 16)) / (16000 * 16)"
   ]
  },
  {
   "cell_type": "code",
   "execution_count": 4,
   "metadata": {},
   "outputs": [],
   "source": [
    "# np.linspace(-sig_len/ fs, sig_len/ fs, 16 * sig_len * 2 +1).astype(np.float32)[np.argmax(np.abs(cc))]"
   ]
  },
  {
   "cell_type": "code",
   "execution_count": 5,
   "metadata": {},
   "outputs": [],
   "source": [
    "# np.argmax(np.abs(cc))"
   ]
  },
  {
   "cell_type": "code",
   "execution_count": 6,
   "metadata": {},
   "outputs": [],
   "source": [
    "# fs = 16000  # Sampling frequency (Hz)\n",
    "# f = 10  # Frequency of sine wave (Hz)\n",
    "# seconds = 1  # Duration of the signal (s)\n",
    "# t = np.arange(0, seconds, 1/fs)\n",
    "\n",
    "# # Generate Sine Waves\n",
    "# sig1 = wav[0]#np.concatenate([np.zeros(1000),np.sin(2 * np.pi * f * t)*3, np.zeros(1000)])  # First sine wave\n",
    "# delay_time = 0.02 # 1/4 second delay\n",
    "# delay_samples = int(delay_time * fs)  # Convert delay to samples\n",
    "# print(delay_samples / fs)\n",
    "# sig2 = np.roll(sig1, delay_samples)  # Second sine wave with delay\n",
    "# sig_len = sig1.shape[0]\n",
    "\n",
    "# delay_axs = np.linspace(-sig_len/ fs, sig_len/ fs,16*sig_len * 2 +1).astype(np.float32)\n",
    "\n",
    "# # Apply GCC-PHAT\n",
    "# cc = gcc_phat(sig1, sig2, fs)\n",
    "\n",
    "# delay_axs[np.argmax(np.abs(cc))]\n",
    "# # (np.argmax(np.abs(cc )) - sig1.shape[0])  / fs\n",
    "# # # Plot the Cross-Correlation\n",
    "# # plt.figure(figsize=(10, 5))\n",
    "# # plt.plot(tau_axis, cc)\n",
    "# # plt.axvline(x=estimated_delay, color='r', linestyle='--', label=f'Estimated Delay = {estimated_delay:.4f} s')\n",
    "# # plt.xlabel(\"Time Shift (s)\")\n",
    "# # plt.ylabel(\"Cross-Correlation\")\n",
    "# # plt.title(\"GCC-PHAT Cross-Correlation\")\n",
    "# # plt.legend()\n",
    "# # plt.grid()\n",
    "# # plt.show()\n",
    "\n",
    "# # # Print the Estimated Delay\n",
    "# # print(f\"Estimated Delay: {estimated_delay:.4f} seconds\")\n",
    "# # print(f\"Expected Delay: {delay_time} seconds\")"
   ]
  },
  {
   "cell_type": "code",
   "execution_count": 7,
   "metadata": {},
   "outputs": [],
   "source": [
    "import itertools\n",
    "def srp_phat(signals, mic_positions, grid, fs, interp = 16):\n",
    "    \"\"\"Perform SRP-PHAT localization.\"\"\"\n",
    "    num_mics = len(mic_positions)\n",
    "    srp_map = np.zeros(grid.shape[0], dtype=np.float32)\n",
    "\n",
    "    sig_len = signals.shape[1]\n",
    "\n",
    "    delay_axs = np.linspace(-sig_len/ fs, sig_len/ fs, interp*sig_len * 2 +1).astype(np.float32) # mapping between index and delay in seconds\n",
    "\n",
    "    n_channels = signals.shape[0]\n",
    "    # taus = np.zeros((n_channels, n_channels))\n",
    "    gccs = {}\n",
    "    for (i, j) in itertools.combinations(range(num_mics), 2):\n",
    "        if i == j:\n",
    "            continue\n",
    "        cc = gcc_phat(signals[i], signals[j], fs=fs, interp=interp)\n",
    "        # print(i,j,tau)\n",
    "        gccs[(i,j)] = cc\n",
    "\n",
    "\n",
    "    for idx,candidate in enumerate(grid):\n",
    "        power = 0\n",
    "        for (i, j) in itertools.combinations(range(num_mics), 2):\n",
    "            if i == j:\n",
    "                continue\n",
    "            dist_i = np.linalg.norm(candidate - mic_positions[i])\n",
    "            dist_j = np.linalg.norm(candidate - mic_positions[j])\n",
    "            tau = (dist_i - dist_j) / 343.0  # Speed of sound (m/s)\n",
    "            \n",
    "            gcc = gccs[(i,j)]\n",
    "            \n",
    "            closest_idx = np.argmin(np.abs(delay_axs - tau))\n",
    "            power += gcc[closest_idx]\n",
    "\n",
    "        srp_map[idx] = power\n",
    "\n",
    "    return srp_map"
   ]
  },
  {
   "cell_type": "code",
   "execution_count": 8,
   "metadata": {},
   "outputs": [],
   "source": [
    "d = 0.2\n",
    "fs = 16000\n",
    "\n",
    "mic_pos = np.array([\n",
    "          [2.6 - d / 2, 3, 1.5], [2.6 + d / 2, 3, 1.5], [2.6, 3-d/2, 1.5], [2.6 , 3+d/2, 1.5]\n",
    "\n",
    "      ])\n",
    "room_dim = [5.2,6.2,3.5]\n"
   ]
  },
  {
   "cell_type": "code",
   "execution_count": 9,
   "metadata": {},
   "outputs": [],
   "source": [
    "from scipy.signal import fftconvolve\n",
    "import rir_generator as rir\n",
    "\n",
    "\n",
    "\n",
    "def rnd_speaker_pos():\n",
    "  x = np.random.uniform(low=1, high=4, size=(1,))[0]\n",
    "  y = np.random.uniform(low=1, high=5, size=(1,))[0]\n",
    "  speaker_pos =  [x, y, 1.5]\n",
    "  return speaker_pos\n",
    "\n",
    "def gen_rir(t60,pos):\n",
    "\n",
    "  h = rir.generate(\n",
    "      c=340,                  # Sound velocity (m/s)\n",
    "      fs=fs,                  # Sample frequency (samples/s)\n",
    "      r=mic_pos,\n",
    "\n",
    "      s=pos,          # Source position [x y z] (m)\n",
    "      L=room_dim,            # Room dimensions [x y z] (m)\n",
    "      reverberation_time=t60, # Reverberation time (s)\n",
    "      nsample=int(t60 * fs),           # Number of output samples\n",
    "  )\n",
    "      # [1.617, 2.45, 1.7]\n",
    "  return h\n",
    "\n",
    "def add_white_noise(signal, snr_db=10):\n",
    "    if len(signal.shape) == 1 :\n",
    "      signal = signal.reshape(1,-1)\n",
    "    signal_power = np.mean(signal**2,axis=1, keepdims=True)\n",
    "    noise_power = signal_power / (10**(snr_db / 10))\n",
    "    noise = np.sqrt(noise_power) * np.random.normal(0, 1, signal.shape) # spectral and spatial white noise - uncorollated sensors\n",
    "    noisy_signal = signal + noise\n",
    "    return noisy_signal, noise\n",
    "\n",
    "\n",
    "def convolve_rir(signal, rirs):\n",
    "     rirs = rirs.T\n",
    "     return np.stack([np.convolve(signal, rir, mode='full') for rir in rirs])\n"
   ]
  },
  {
   "cell_type": "code",
   "execution_count": 10,
   "metadata": {},
   "outputs": [
    {
     "name": "stdout",
     "output_type": "stream",
     "text": [
      "Estimated Source Position: [0.         0.32631579 1.5       ]\n",
      "True Source Position: [2.0949225203200483, 2.4983825404623152, 1.5]\n"
     ]
    },
    {
     "data": {
      "application/vnd.plotly.v1+json": {
       "config": {
        "plotlyServerURL": "https://plot.ly"
       },
       "data": [
        {
         "coloraxis": "coloraxis",
         "hovertemplate": "x: %{x}<br>y: %{y}<br>color: %{z}<extra></extra>",
         "name": "0",
         "type": "heatmap",
         "x": [
          0,
          0.2736842105263158,
          0.5473684210526316,
          0.8210526315789475,
          1.0947368421052632,
          1.368421052631579,
          1.642105263157895,
          1.9157894736842107,
          2.1894736842105265,
          2.463157894736842,
          2.736842105263158,
          3.0105263157894737,
          3.28421052631579,
          3.5578947368421057,
          3.8315789473684214,
          4.105263157894737,
          4.378947368421053,
          4.652631578947369,
          4.926315789473684,
          5.2
         ],
         "xaxis": "x",
         "y": [
          0,
          0.3263157894736842,
          0.6526315789473685,
          0.9789473684210527,
          1.305263157894737,
          1.6315789473684212,
          1.9578947368421054,
          2.2842105263157895,
          2.610526315789474,
          2.936842105263158,
          3.2631578947368425,
          3.5894736842105264,
          3.9157894736842107,
          4.242105263157895,
          4.568421052631579,
          4.894736842105264,
          5.221052631578948,
          5.5473684210526315,
          5.873684210526316,
          6.2
         ],
         "yaxis": "y",
         "z": [
          [
           1.5019214,
           1.3064929,
           1.0209157,
           0.75277823,
           0.6925097,
           0.570172,
           0.5244935,
           0.48778144,
           0.20748098,
           0.19862588,
           0.10840197,
           0.047566205,
           0.01760096,
           -0.0037943465,
           -0.010263772,
           0.06073122,
           0.068519786,
           0.056488223,
           0.20294753,
           0.21758881
          ],
          [
           1.5315114,
           1.5019214,
           1.3064929,
           1.0099908,
           0.75277823,
           0.6925097,
           0.5244935,
           0.50813425,
           0.20748098,
           0.19862588,
           0.10840197,
           0.047566205,
           -0.007748094,
           -0.0037943465,
           0.06073122,
           0.068519786,
           0.06362754,
           0.20294753,
           0.21758881,
           0.21003915
          ],
          [
           1.5199516,
           1.5315114,
           1.5019214,
           1.3064929,
           1.0099908,
           0.6925097,
           0.570172,
           0.5244935,
           0.1923829,
           0.20748098,
           0.047566205,
           0.03734375,
           -0.0037943465,
           -0.010263772,
           0.06073122,
           0.06362754,
           0.20294753,
           0.21758881,
           0.21003915,
           0.19847932
          ],
          [
           1.3354177,
           1.5199516,
           1.5315114,
           1.5019214,
           1.284863,
           0.75277823,
           0.6925097,
           0.5244935,
           0.33343634,
           0.20748098,
           0.047566205,
           0.04426756,
           -0.0037943465,
           0.06073122,
           0.068519786,
           0.1893962,
           0.21758881,
           0.21003915,
           0.19847932,
           0.19214977
          ],
          [
           1.0190287,
           1.0406586,
           1.3354177,
           1.5199516,
           1.5019214,
           1.0209157,
           0.75277823,
           0.54934543,
           0.48778144,
           0.20748098,
           0.047566205,
           0.01760096,
           -0.010383037,
           0.068519786,
           0.056488223,
           0.21758881,
           0.19847932,
           0.19214977,
           0.04536529,
           0.031813964
          ],
          [
           0.6970869,
           0.7612554,
           1.0406586,
           1.3354177,
           1.5199516,
           1.5019214,
           1.0209157,
           0.6925097,
           0.5244935,
           0.20748098,
           0.047566205,
           -0.0037943465,
           0.06073122,
           0.056488223,
           0.21758881,
           0.19847932,
           0.19214977,
           0.04536529,
           0.008918388,
           -0.055250153
          ],
          [
           0.51657355,
           0.6054166,
           0.6970869,
           0.7612554,
           1.0406586,
           1.3354177,
           1.5019214,
           1.0209157,
           0.54934543,
           0.20748098,
           0.047566205,
           -0.010383037,
           0.056488223,
           0.21758881,
           0.19214977,
           0.04536529,
           0.008918388,
           -0.055250153,
           -0.059494868,
           -0.06528404
          ],
          [
           0.51457137,
           0.51657355,
           0.51657355,
           0.5498715,
           0.6970869,
           0.7612554,
           1.3244928,
           1.5019214,
           0.75277823,
           0.3517147,
           0.013376716,
           0.068519786,
           0.21758881,
           0.19928908,
           0.008918388,
           -0.055250153,
           -0.07492989,
           -0.06528404,
           -0.06528404,
           -0.06728622
          ],
          [
           0.19186103,
           0.20305073,
           0.33911744,
           0.35204214,
           0.51457137,
           0.51657355,
           0.5498715,
           0.7612554,
           1.5199516,
           0.4132787,
           -0.01460728,
           0.19847932,
           0.008918388,
           -0.07492989,
           -0.06528404,
           -0.06728622,
           -0.076999284,
           -0.077982455,
           -0.082206696,
           -0.093396395
          ],
          [
           0.19728576,
           0.19728576,
           0.19728576,
           0.19728576,
           0.19728576,
           0.19728576,
           0.1799989,
           0.1799989,
           0.34085244,
           0.5221182,
           -0.06405766,
           -0.08818898,
           -0.08035829,
           -0.08035829,
           -0.06307142,
           -0.06307142,
           -0.06307142,
           -0.06307142,
           -0.06307142,
           -0.06307142
          ],
          [
           0.046373617,
           0.046373617,
           0.046373617,
           0.046373617,
           0.028968856,
           0.0036198036,
           -0.022558019,
           -0.050932653,
           0.053903025,
           -0.06287506,
           0.0621274,
           0.1787704,
           0.014527579,
           -0.008440506,
           -0.022835385,
           -0.043188225,
           -0.03517111,
           -0.03517111,
           -0.03517111,
           -0.03517111
          ],
          [
           0.008332829,
           -0.022558019,
           -0.031982996,
           -0.031982996,
           -0.031982996,
           0.041824173,
           0.04463767,
           0.2238261,
           0.020289032,
           -0.0974697,
           -0.038706146,
           0.32768926,
           0.44040138,
           0.18913169,
           0.05129946,
           -0.017865485,
           -0.017865485,
           -0.017865485,
           -0.008440506,
           -0.02671889
          ],
          [
           -0.031982996,
           -0.031982996,
           -0.049846064,
           0.041824173,
           0.04653363,
           0.20690084,
           0.22776987,
           0.17172757,
           -0.07130761,
           -0.08516086,
           -0.049959473,
           0.015782364,
           0.34808847,
           0.5255688,
           0.32894385,
           0.056008916,
           0.05129946,
           0.04705474,
           -0.017865485,
           -0.017865485
          ],
          [
           0.041824173,
           0.041824173,
           0.04653363,
           0.05090674,
           0.21312858,
           0.21691246,
           0.17172757,
           -0.06910282,
           -0.085669935,
           -0.08987389,
           -0.04607597,
           -0.017982721,
           0.060930975,
           0.34808847,
           0.5147114,
           0.33014026,
           0.30286023,
           0.056008916,
           0.05129946,
           0.05129946
          ],
          [
           0.04653363,
           0.05090674,
           0.21312858,
           0.22776987,
           0.18732247,
           0.18099292,
           0.003984085,
           -0.07130761,
           -0.1020292,
           -0.08987389,
           -0.04607597,
           -0.021936469,
           0.015782364,
           0.19977929,
           0.3377272,
           0.522261,
           0.5255688,
           0.33014026,
           0.30286023,
           0.056008916
          ],
          [
           0.05090674,
           0.21312858,
           0.22776987,
           0.18732247,
           0.18099292,
           0.014061274,
           -0.06910282,
           -0.085669935,
           -0.0974697,
           -0.08987389,
           -0.04607597,
           -0.038706146,
           -0.017982721,
           0.060930975,
           0.32649285,
           0.3377272,
           0.522261,
           0.5255688,
           0.33014026,
           0.30286023
          ],
          [
           0.21312858,
           0.22776987,
           0.18732247,
           0.18099292,
           0.020289032,
           -0.008834303,
           -0.07130761,
           -0.085669935,
           -0.10025895,
           -0.08987389,
           -0.04607597,
           -0.060181927,
           -0.017982721,
           0.015782364,
           0.068719536,
           0.32768926,
           0.3377272,
           0.522261,
           0.5255688,
           0.33014026
          ],
          [
           0.21691246,
           0.18732247,
           0.18099292,
           0.020289032,
           -0.008834303,
           -0.06910282,
           -0.085669935,
           -0.1020292,
           -0.08987389,
           -0.08987389,
           -0.04607597,
           -0.04607597,
           -0.021936469,
           -0.017982721,
           0.060930975,
           0.068719536,
           0.32768926,
           0.3377272,
           0.522261,
           0.5147114
          ],
          [
           0.18732247,
           0.18099292,
           0.020289032,
           0.003984085,
           -0.06910282,
           -0.07130761,
           -0.085669935,
           -0.10301237,
           -0.08987389,
           -0.08818392,
           -0.06328368,
           -0.04607597,
           -0.034861166,
           -0.017982721,
           0.015782364,
           0.060930975,
           0.19977929,
           0.32768926,
           0.3377272,
           0.522261
          ],
          [
           0.18099292,
           0.020289032,
           0.014061274,
           -0.008834303,
           -0.06910282,
           -0.085669935,
           -0.085669935,
           -0.10025895,
           -0.08987389,
           -0.08818392,
           -0.06328368,
           -0.04607597,
           -0.060181927,
           -0.017982721,
           -0.017982721,
           0.060930975,
           0.068719536,
           0.32649285,
           0.32768926,
           0.3377272
          ]
         ]
        },
        {
         "marker": {
          "color": "red",
          "size": 10
         },
         "mode": "markers",
         "type": "scatter",
         "x": [
          2.5,
          2.7,
          2.6,
          2.6
         ],
         "y": [
          3,
          3,
          2.9,
          3.1
         ]
        },
        {
         "marker": {
          "color": "blue",
          "size": 10
         },
         "mode": "markers",
         "type": "scatter",
         "x": [
          0
         ],
         "y": [
          0.3263157894736842
         ]
        },
        {
         "marker": {
          "color": "green",
          "size": 10
         },
         "mode": "markers",
         "type": "scatter",
         "x": [
          2.0949225203200483
         ],
         "y": [
          2.4983825404623152
         ]
        }
       ],
       "layout": {
        "coloraxis": {
         "colorscale": [
          [
           0,
           "#0d0887"
          ],
          [
           0.1111111111111111,
           "#46039f"
          ],
          [
           0.2222222222222222,
           "#7201a8"
          ],
          [
           0.3333333333333333,
           "#9c179e"
          ],
          [
           0.4444444444444444,
           "#bd3786"
          ],
          [
           0.5555555555555556,
           "#d8576b"
          ],
          [
           0.6666666666666666,
           "#ed7953"
          ],
          [
           0.7777777777777778,
           "#fb9f3a"
          ],
          [
           0.8888888888888888,
           "#fdca26"
          ],
          [
           1,
           "#f0f921"
          ]
         ]
        },
        "margin": {
         "t": 60
        },
        "template": {
         "data": {
          "bar": [
           {
            "error_x": {
             "color": "#2a3f5f"
            },
            "error_y": {
             "color": "#2a3f5f"
            },
            "marker": {
             "line": {
              "color": "#E5ECF6",
              "width": 0.5
             },
             "pattern": {
              "fillmode": "overlay",
              "size": 10,
              "solidity": 0.2
             }
            },
            "type": "bar"
           }
          ],
          "barpolar": [
           {
            "marker": {
             "line": {
              "color": "#E5ECF6",
              "width": 0.5
             },
             "pattern": {
              "fillmode": "overlay",
              "size": 10,
              "solidity": 0.2
             }
            },
            "type": "barpolar"
           }
          ],
          "carpet": [
           {
            "aaxis": {
             "endlinecolor": "#2a3f5f",
             "gridcolor": "white",
             "linecolor": "white",
             "minorgridcolor": "white",
             "startlinecolor": "#2a3f5f"
            },
            "baxis": {
             "endlinecolor": "#2a3f5f",
             "gridcolor": "white",
             "linecolor": "white",
             "minorgridcolor": "white",
             "startlinecolor": "#2a3f5f"
            },
            "type": "carpet"
           }
          ],
          "choropleth": [
           {
            "colorbar": {
             "outlinewidth": 0,
             "ticks": ""
            },
            "type": "choropleth"
           }
          ],
          "contour": [
           {
            "colorbar": {
             "outlinewidth": 0,
             "ticks": ""
            },
            "colorscale": [
             [
              0,
              "#0d0887"
             ],
             [
              0.1111111111111111,
              "#46039f"
             ],
             [
              0.2222222222222222,
              "#7201a8"
             ],
             [
              0.3333333333333333,
              "#9c179e"
             ],
             [
              0.4444444444444444,
              "#bd3786"
             ],
             [
              0.5555555555555556,
              "#d8576b"
             ],
             [
              0.6666666666666666,
              "#ed7953"
             ],
             [
              0.7777777777777778,
              "#fb9f3a"
             ],
             [
              0.8888888888888888,
              "#fdca26"
             ],
             [
              1,
              "#f0f921"
             ]
            ],
            "type": "contour"
           }
          ],
          "contourcarpet": [
           {
            "colorbar": {
             "outlinewidth": 0,
             "ticks": ""
            },
            "type": "contourcarpet"
           }
          ],
          "heatmap": [
           {
            "colorbar": {
             "outlinewidth": 0,
             "ticks": ""
            },
            "colorscale": [
             [
              0,
              "#0d0887"
             ],
             [
              0.1111111111111111,
              "#46039f"
             ],
             [
              0.2222222222222222,
              "#7201a8"
             ],
             [
              0.3333333333333333,
              "#9c179e"
             ],
             [
              0.4444444444444444,
              "#bd3786"
             ],
             [
              0.5555555555555556,
              "#d8576b"
             ],
             [
              0.6666666666666666,
              "#ed7953"
             ],
             [
              0.7777777777777778,
              "#fb9f3a"
             ],
             [
              0.8888888888888888,
              "#fdca26"
             ],
             [
              1,
              "#f0f921"
             ]
            ],
            "type": "heatmap"
           }
          ],
          "heatmapgl": [
           {
            "colorbar": {
             "outlinewidth": 0,
             "ticks": ""
            },
            "colorscale": [
             [
              0,
              "#0d0887"
             ],
             [
              0.1111111111111111,
              "#46039f"
             ],
             [
              0.2222222222222222,
              "#7201a8"
             ],
             [
              0.3333333333333333,
              "#9c179e"
             ],
             [
              0.4444444444444444,
              "#bd3786"
             ],
             [
              0.5555555555555556,
              "#d8576b"
             ],
             [
              0.6666666666666666,
              "#ed7953"
             ],
             [
              0.7777777777777778,
              "#fb9f3a"
             ],
             [
              0.8888888888888888,
              "#fdca26"
             ],
             [
              1,
              "#f0f921"
             ]
            ],
            "type": "heatmapgl"
           }
          ],
          "histogram": [
           {
            "marker": {
             "pattern": {
              "fillmode": "overlay",
              "size": 10,
              "solidity": 0.2
             }
            },
            "type": "histogram"
           }
          ],
          "histogram2d": [
           {
            "colorbar": {
             "outlinewidth": 0,
             "ticks": ""
            },
            "colorscale": [
             [
              0,
              "#0d0887"
             ],
             [
              0.1111111111111111,
              "#46039f"
             ],
             [
              0.2222222222222222,
              "#7201a8"
             ],
             [
              0.3333333333333333,
              "#9c179e"
             ],
             [
              0.4444444444444444,
              "#bd3786"
             ],
             [
              0.5555555555555556,
              "#d8576b"
             ],
             [
              0.6666666666666666,
              "#ed7953"
             ],
             [
              0.7777777777777778,
              "#fb9f3a"
             ],
             [
              0.8888888888888888,
              "#fdca26"
             ],
             [
              1,
              "#f0f921"
             ]
            ],
            "type": "histogram2d"
           }
          ],
          "histogram2dcontour": [
           {
            "colorbar": {
             "outlinewidth": 0,
             "ticks": ""
            },
            "colorscale": [
             [
              0,
              "#0d0887"
             ],
             [
              0.1111111111111111,
              "#46039f"
             ],
             [
              0.2222222222222222,
              "#7201a8"
             ],
             [
              0.3333333333333333,
              "#9c179e"
             ],
             [
              0.4444444444444444,
              "#bd3786"
             ],
             [
              0.5555555555555556,
              "#d8576b"
             ],
             [
              0.6666666666666666,
              "#ed7953"
             ],
             [
              0.7777777777777778,
              "#fb9f3a"
             ],
             [
              0.8888888888888888,
              "#fdca26"
             ],
             [
              1,
              "#f0f921"
             ]
            ],
            "type": "histogram2dcontour"
           }
          ],
          "mesh3d": [
           {
            "colorbar": {
             "outlinewidth": 0,
             "ticks": ""
            },
            "type": "mesh3d"
           }
          ],
          "parcoords": [
           {
            "line": {
             "colorbar": {
              "outlinewidth": 0,
              "ticks": ""
             }
            },
            "type": "parcoords"
           }
          ],
          "pie": [
           {
            "automargin": true,
            "type": "pie"
           }
          ],
          "scatter": [
           {
            "fillpattern": {
             "fillmode": "overlay",
             "size": 10,
             "solidity": 0.2
            },
            "type": "scatter"
           }
          ],
          "scatter3d": [
           {
            "line": {
             "colorbar": {
              "outlinewidth": 0,
              "ticks": ""
             }
            },
            "marker": {
             "colorbar": {
              "outlinewidth": 0,
              "ticks": ""
             }
            },
            "type": "scatter3d"
           }
          ],
          "scattercarpet": [
           {
            "marker": {
             "colorbar": {
              "outlinewidth": 0,
              "ticks": ""
             }
            },
            "type": "scattercarpet"
           }
          ],
          "scattergeo": [
           {
            "marker": {
             "colorbar": {
              "outlinewidth": 0,
              "ticks": ""
             }
            },
            "type": "scattergeo"
           }
          ],
          "scattergl": [
           {
            "marker": {
             "colorbar": {
              "outlinewidth": 0,
              "ticks": ""
             }
            },
            "type": "scattergl"
           }
          ],
          "scattermapbox": [
           {
            "marker": {
             "colorbar": {
              "outlinewidth": 0,
              "ticks": ""
             }
            },
            "type": "scattermapbox"
           }
          ],
          "scatterpolar": [
           {
            "marker": {
             "colorbar": {
              "outlinewidth": 0,
              "ticks": ""
             }
            },
            "type": "scatterpolar"
           }
          ],
          "scatterpolargl": [
           {
            "marker": {
             "colorbar": {
              "outlinewidth": 0,
              "ticks": ""
             }
            },
            "type": "scatterpolargl"
           }
          ],
          "scatterternary": [
           {
            "marker": {
             "colorbar": {
              "outlinewidth": 0,
              "ticks": ""
             }
            },
            "type": "scatterternary"
           }
          ],
          "surface": [
           {
            "colorbar": {
             "outlinewidth": 0,
             "ticks": ""
            },
            "colorscale": [
             [
              0,
              "#0d0887"
             ],
             [
              0.1111111111111111,
              "#46039f"
             ],
             [
              0.2222222222222222,
              "#7201a8"
             ],
             [
              0.3333333333333333,
              "#9c179e"
             ],
             [
              0.4444444444444444,
              "#bd3786"
             ],
             [
              0.5555555555555556,
              "#d8576b"
             ],
             [
              0.6666666666666666,
              "#ed7953"
             ],
             [
              0.7777777777777778,
              "#fb9f3a"
             ],
             [
              0.8888888888888888,
              "#fdca26"
             ],
             [
              1,
              "#f0f921"
             ]
            ],
            "type": "surface"
           }
          ],
          "table": [
           {
            "cells": {
             "fill": {
              "color": "#EBF0F8"
             },
             "line": {
              "color": "white"
             }
            },
            "header": {
             "fill": {
              "color": "#C8D4E3"
             },
             "line": {
              "color": "white"
             }
            },
            "type": "table"
           }
          ]
         },
         "layout": {
          "annotationdefaults": {
           "arrowcolor": "#2a3f5f",
           "arrowhead": 0,
           "arrowwidth": 1
          },
          "autotypenumbers": "strict",
          "coloraxis": {
           "colorbar": {
            "outlinewidth": 0,
            "ticks": ""
           }
          },
          "colorscale": {
           "diverging": [
            [
             0,
             "#8e0152"
            ],
            [
             0.1,
             "#c51b7d"
            ],
            [
             0.2,
             "#de77ae"
            ],
            [
             0.3,
             "#f1b6da"
            ],
            [
             0.4,
             "#fde0ef"
            ],
            [
             0.5,
             "#f7f7f7"
            ],
            [
             0.6,
             "#e6f5d0"
            ],
            [
             0.7,
             "#b8e186"
            ],
            [
             0.8,
             "#7fbc41"
            ],
            [
             0.9,
             "#4d9221"
            ],
            [
             1,
             "#276419"
            ]
           ],
           "sequential": [
            [
             0,
             "#0d0887"
            ],
            [
             0.1111111111111111,
             "#46039f"
            ],
            [
             0.2222222222222222,
             "#7201a8"
            ],
            [
             0.3333333333333333,
             "#9c179e"
            ],
            [
             0.4444444444444444,
             "#bd3786"
            ],
            [
             0.5555555555555556,
             "#d8576b"
            ],
            [
             0.6666666666666666,
             "#ed7953"
            ],
            [
             0.7777777777777778,
             "#fb9f3a"
            ],
            [
             0.8888888888888888,
             "#fdca26"
            ],
            [
             1,
             "#f0f921"
            ]
           ],
           "sequentialminus": [
            [
             0,
             "#0d0887"
            ],
            [
             0.1111111111111111,
             "#46039f"
            ],
            [
             0.2222222222222222,
             "#7201a8"
            ],
            [
             0.3333333333333333,
             "#9c179e"
            ],
            [
             0.4444444444444444,
             "#bd3786"
            ],
            [
             0.5555555555555556,
             "#d8576b"
            ],
            [
             0.6666666666666666,
             "#ed7953"
            ],
            [
             0.7777777777777778,
             "#fb9f3a"
            ],
            [
             0.8888888888888888,
             "#fdca26"
            ],
            [
             1,
             "#f0f921"
            ]
           ]
          },
          "colorway": [
           "#636efa",
           "#EF553B",
           "#00cc96",
           "#ab63fa",
           "#FFA15A",
           "#19d3f3",
           "#FF6692",
           "#B6E880",
           "#FF97FF",
           "#FECB52"
          ],
          "font": {
           "color": "#2a3f5f"
          },
          "geo": {
           "bgcolor": "white",
           "lakecolor": "white",
           "landcolor": "#E5ECF6",
           "showlakes": true,
           "showland": true,
           "subunitcolor": "white"
          },
          "hoverlabel": {
           "align": "left"
          },
          "hovermode": "closest",
          "mapbox": {
           "style": "light"
          },
          "paper_bgcolor": "white",
          "plot_bgcolor": "#E5ECF6",
          "polar": {
           "angularaxis": {
            "gridcolor": "white",
            "linecolor": "white",
            "ticks": ""
           },
           "bgcolor": "#E5ECF6",
           "radialaxis": {
            "gridcolor": "white",
            "linecolor": "white",
            "ticks": ""
           }
          },
          "scene": {
           "xaxis": {
            "backgroundcolor": "#E5ECF6",
            "gridcolor": "white",
            "gridwidth": 2,
            "linecolor": "white",
            "showbackground": true,
            "ticks": "",
            "zerolinecolor": "white"
           },
           "yaxis": {
            "backgroundcolor": "#E5ECF6",
            "gridcolor": "white",
            "gridwidth": 2,
            "linecolor": "white",
            "showbackground": true,
            "ticks": "",
            "zerolinecolor": "white"
           },
           "zaxis": {
            "backgroundcolor": "#E5ECF6",
            "gridcolor": "white",
            "gridwidth": 2,
            "linecolor": "white",
            "showbackground": true,
            "ticks": "",
            "zerolinecolor": "white"
           }
          },
          "shapedefaults": {
           "line": {
            "color": "#2a3f5f"
           }
          },
          "ternary": {
           "aaxis": {
            "gridcolor": "white",
            "linecolor": "white",
            "ticks": ""
           },
           "baxis": {
            "gridcolor": "white",
            "linecolor": "white",
            "ticks": ""
           },
           "bgcolor": "#E5ECF6",
           "caxis": {
            "gridcolor": "white",
            "linecolor": "white",
            "ticks": ""
           }
          },
          "title": {
           "x": 0.05
          },
          "xaxis": {
           "automargin": true,
           "gridcolor": "white",
           "linecolor": "white",
           "ticks": "",
           "title": {
            "standoff": 15
           },
           "zerolinecolor": "white",
           "zerolinewidth": 2
          },
          "yaxis": {
           "automargin": true,
           "gridcolor": "white",
           "linecolor": "white",
           "ticks": "",
           "title": {
            "standoff": 15
           },
           "zerolinecolor": "white",
           "zerolinewidth": 2
          }
         }
        },
        "title": {
         "text": "SRP-PHAT Map"
        },
        "xaxis": {
         "anchor": "y",
         "constrain": "domain",
         "domain": [
          0,
          1
         ],
         "scaleanchor": "y",
         "title": {
          "text": "X (m)"
         }
        },
        "yaxis": {
         "anchor": "x",
         "autorange": "reversed",
         "constrain": "domain",
         "domain": [
          0,
          1
         ],
         "title": {
          "text": "Y (m)"
         }
        }
       }
      }
     },
     "metadata": {},
     "output_type": "display_data"
    }
   ],
   "source": [
    "wav, sr = librosa.load('12.wav', sr=None, mono=False)\n",
    "speaker_pos = rnd_speaker_pos()\n",
    "imp03_main = gen_rir(0.3,speaker_pos)\n",
    "\n",
    "main_speaker_room = convolve_rir(wav, imp03_main)\n",
    "\n",
    "main_speaker_room_noisy_white, white_noise = add_white_noise(main_speaker_room, snr_db=15)\n",
    "\n",
    "grid = np.array([[x, y, 1.5] for x in np.linspace(0, room_dim[0], 20) for y in np.linspace(0, room_dim[1], 20)])\n",
    "\n",
    "srp = srp_phat(main_speaker_room_noisy_white, mic_pos, grid, sr, interp=1)\n",
    "best_pos = srp.argmax()\n",
    "\n",
    "\n",
    "srp = srp_phat(main_speaker_room_noisy_white, mic_pos, grid, sr, interp=1)\n",
    "best_pos = srp.argmax()\n",
    "print(f\"Estimated Source Position: {grid[best_pos]}\")\n",
    "print(f\"True Source Position: {speaker_pos}\")\n",
    "\n",
    "\n",
    "srp_map = srp\n",
    "srp_map = srp_map.reshape(20, 20)\n",
    "fig = px.imshow(srp_map.T, x=np.linspace(0, room_dim[0], 20), y=np.linspace(0, room_dim[1], 20))\n",
    "#  add the microphones\n",
    "fig.add_trace(go.Scatter(x=mic_pos[:, 0], y=mic_pos[:, 1], mode='markers', marker=dict(size=10, color='red')))\n",
    "# add the estimated source position\n",
    "fig.add_trace(go.Scatter(x=[grid[best_pos][0]], y=[grid[best_pos][1]], mode='markers', marker=dict(size=10, color='blue')))\n",
    "fig.add_trace(go.Scatter(x=[speaker_pos[0]], y=[speaker_pos[1]], mode='markers', marker=dict(size=10, color='green')))\n",
    "fig.update_layout(title='SRP-PHAT Map',\n",
    "                  xaxis_title='X (m)',\n",
    "                  yaxis_title='Y (m)')\n",
    "fig.show()\n"
   ]
  },
  {
   "cell_type": "code",
   "execution_count": 27,
   "metadata": {},
   "outputs": [
    {
     "name": "stdout",
     "output_type": "stream",
     "text": [
      "Estimated Source Position: [0.54736842 0.97894737 1.5       ]\n"
     ]
    },
    {
     "data": {
      "application/vnd.plotly.v1+json": {
       "config": {
        "plotlyServerURL": "https://plot.ly"
       },
       "data": [
        {
         "coloraxis": "coloraxis",
         "hovertemplate": "x: %{x}<br>y: %{y}<br>color: %{z}<extra></extra>",
         "name": "0",
         "type": "heatmap",
         "x": [
          0,
          0.2736842105263158,
          0.5473684210526316,
          0.8210526315789475,
          1.0947368421052632,
          1.368421052631579,
          1.642105263157895,
          1.9157894736842107,
          2.1894736842105265,
          2.463157894736842,
          2.736842105263158,
          3.0105263157894737,
          3.28421052631579,
          3.5578947368421057,
          3.8315789473684214,
          4.105263157894737,
          4.378947368421053,
          4.652631578947369,
          4.926315789473684,
          5.2
         ],
         "xaxis": "x",
         "y": [
          0,
          0.3263157894736842,
          0.6526315789473685,
          0.9789473684210527,
          1.305263157894737,
          1.6315789473684212,
          1.9578947368421054,
          2.2842105263157895,
          2.610526315789474,
          2.936842105263158,
          3.2631578947368425,
          3.5894736842105264,
          3.9157894736842107,
          4.242105263157895,
          4.568421052631579,
          4.894736842105264,
          5.221052631578948,
          5.5473684210526315,
          5.873684210526316,
          6.2
         ],
         "yaxis": "y",
         "z": [
          [
           0.9754324447323158,
           0.9974504016697885,
           0.9933788762445419,
           0.9492589893179784,
           0.8851644832658102,
           0.8518129210937201,
           0.842659848931716,
           0.8488213852812352,
           0.8507165518998621,
           0.83305833752318,
           0.8164358516117293,
           0.8100799292168052,
           0.802287498367359,
           0.809149569084022,
           0.8180928424085968,
           0.8241396082580061,
           0.8315857492662875,
           0.8385345397118668,
           0.8420615972885825,
           0.8408582630964117
          ],
          [
           0.9414165004765538,
           0.9764699309396789,
           0.9990114956634948,
           0.985496668524275,
           0.9240450804393863,
           0.8630576752688013,
           0.8457001384408326,
           0.8438971205114192,
           0.8529695406109232,
           0.8337538153507297,
           0.8153561240744307,
           0.8084806358877983,
           0.8025284427226393,
           0.8138436119273783,
           0.8212974233651609,
           0.8291106386516652,
           0.8373411459686431,
           0.8419418392375666,
           0.8407504723978024,
           0.8350225420074827
          ],
          [
           0.9003218085600165,
           0.9381293977843496,
           0.9777652114231765,
           1,
           0.9710380518304517,
           0.8926011815409919,
           0.850462205073539,
           0.840437559375461,
           0.854383757595687,
           0.834617261221452,
           0.8141783631887496,
           0.8056487115796088,
           0.8060719337947987,
           0.8179202414083163,
           0.8260012040202475,
           0.8356630749867121,
           0.8417408005339759,
           0.8406091657957873,
           0.8338638554307911,
           0.8260719523884743
          ],
          [
           0.8627121467586952,
           0.891903787529843,
           0.9338691032428065,
           0.9794256901299526,
           0.9993995584119308,
           0.9457276444088452,
           0.8634067693080356,
           0.841663820770901,
           0.8533847573305309,
           0.8357164867521601,
           0.8129431011094903,
           0.8022660058499284,
           0.8121180009479819,
           0.8221974666599744,
           0.8332488032635894,
           0.8413974906062692,
           0.8404167271501393,
           0.832334652300691,
           0.8239655682462229,
           0.8200028329747212
          ],
          [
           0.8428864160466899,
           0.8535667420758142,
           0.8815240946332951,
           0.9281486648281987,
           0.9816251985352287,
           0.9946400454253276,
           0.9061705134673547,
           0.848045370252449,
           0.8477096503551519,
           0.8371601931234357,
           0.8116034566905369,
           0.8018094468749388,
           0.8176008393217563,
           0.8296860931088696,
           0.8407903167559011,
           0.840141257766105,
           0.8302806401320055,
           0.8218370703984533,
           0.820191086518268,
           0.8234339055627593
          ],
          [
           0.8461144557385694,
           0.8419197103651913,
           0.8453520218151032,
           0.8688339901579013,
           0.9201121255458599,
           0.9846586396511878,
           0.9789355246238447,
           0.8640579565955203,
           0.8381508945370739,
           0.839131774939352,
           0.8094748921022689,
           0.8085266323344178,
           0.8243406061273474,
           0.8396548145623907,
           0.8397192811688292,
           0.8275183373210735,
           0.820395028671427,
           0.8225547519572127,
           0.8274242000135256,
           0.8295791949265006
          ],
          [
           0.8520914600557541,
           0.8505542218129458,
           0.8455979730012984,
           0.8410896766099345,
           0.8542236906143077,
           0.9081418798967125,
           0.98903695572438,
           0.9359836429664856,
           0.838977848378474,
           0.8419516289461527,
           0.8040984156230407,
           0.8168396473277864,
           0.8373401242296221,
           0.8390071116223815,
           0.8240492926692613,
           0.821475199277304,
           0.8274872756578808,
           0.8297891121799685,
           0.8265010976824013,
           0.8208743994870696
          ],
          [
           0.850440714980644,
           0.8505247762524871,
           0.8512032724158586,
           0.8505462672850792,
           0.8446446039369482,
           0.8414858824661265,
           0.8889743454092028,
           0.9954498473092429,
           0.8655503039470264,
           0.8460648707257331,
           0.7994986311604425,
           0.8318035785508171,
           0.837613567495979,
           0.8214147149795402,
           0.8275767105976792,
           0.8296610129786531,
           0.8229294908229839,
           0.8155933953992514,
           0.8113362781274701,
           0.8100569188203992
          ],
          [
           0.8544567738760152,
           0.8545732932432225,
           0.8538217655842602,
           0.8522406149824319,
           0.8506416932851381,
           0.8496585359288085,
           0.8423449913510029,
           0.8568578972175077,
           0.9995166330773386,
           0.847952800411612,
           0.8136263808756017,
           0.8341591697383308,
           0.8277222330855771,
           0.8274613575079078,
           0.8153738253364662,
           0.8108065390002924,
           0.8117980906900765,
           0.8144734538258325,
           0.8171159376823948,
           0.8192476332022183
          ],
          [
           0.8386080880667577,
           0.8405612501233293,
           0.8430632515284442,
           0.8463158310850134,
           0.8505516866260828,
           0.8558198197520737,
           0.8608396505395962,
           0.8582791437107548,
           0.8318108174332876,
           0.8322159396991824,
           0.8310664517280029,
           0.8157166827542301,
           0.8173251536551038,
           0.820441691803708,
           0.8217091131531246,
           0.8223212764266685,
           0.8227262702979117,
           0.8230563894994578,
           0.8233499311107937,
           0.8236182578689911
          ],
          [
           0.8213235310019565,
           0.8213009286360312,
           0.8213882520844575,
           0.8216695681229639,
           0.8222727887184312,
           0.8233080246096381,
           0.8243290942815096,
           0.8219476409090497,
           0.8157156136711862,
           0.8275852782908375,
           0.8022584129624184,
           0.8420322018663019,
           0.8413672245017687,
           0.8384215095690747,
           0.8355510378125662,
           0.8335027695647147,
           0.8321134726530239,
           0.831163565869746,
           0.8304991301441,
           0.830022497409467
          ],
          [
           0.8237681533648623,
           0.823064575495399,
           0.8213253641594213,
           0.8182178802070499,
           0.814357684901497,
           0.8124316880369769,
           0.8109222622175737,
           0.8156693899820111,
           0.8388106419863803,
           0.850462970630518,
           0.8035485779869508,
           0.8470596359987608,
           0.8006837038883093,
           0.8309960787124945,
           0.8387555162832664,
           0.8433097640692035,
           0.8463581165954351,
           0.8476336946010085,
           0.847586803472506,
           0.8467740102254151
          ],
          [
           0.8147931219003356,
           0.8126081064992663,
           0.8116954177163872,
           0.8121903163196842,
           0.8114360485269435,
           0.8108101283035262,
           0.8271122850201149,
           0.8332605335744712,
           0.820616354658124,
           0.8505376034489633,
           0.8199793344028767,
           0.892402864898615,
           0.8710657846535381,
           0.7927882574057087,
           0.8008164493144683,
           0.8213784643756492,
           0.8312555217576139,
           0.8363525194496926,
           0.8402244702424808,
           0.8434436148760625
          ],
          [
           0.8117741835775825,
           0.8124054909819619,
           0.8118495900018114,
           0.8109509157746289,
           0.817672486501923,
           0.8299519518051772,
           0.8314848658670038,
           0.8305186835998432,
           0.8330458361359345,
           0.8534749823407533,
           0.8532984724262145,
           0.8013464237889738,
           0.9092396251248097,
           0.8805011593193218,
           0.81171993724107,
           0.7890309889511257,
           0.8008835670725162,
           0.8160873869459399,
           0.8257122908466767,
           0.8312915272972554
          ],
          [
           0.8121280858079725,
           0.8113709918017358,
           0.8139782496547481,
           0.82341371945453,
           0.8306385477937352,
           0.8308575130201316,
           0.8404837481309747,
           0.8184262977161367,
           0.8316770035980835,
           0.8558688154085395,
           0.8631459413071185,
           0.7898561051920032,
           0.8533400423299392,
           0.9123296679540356,
           0.8853525502791513,
           0.8294200208447762,
           0.7941996763032845,
           0.7901775419073344,
           0.8009207895937318,
           0.8128895522133811
          ],
          [
           0.8127646553856194,
           0.8181723287289435,
           0.8269002033467429,
           0.8307805515407032,
           0.8305941000437033,
           0.8407924333990484,
           0.822775374724564,
           0.8298105902265752,
           0.8368524841381625,
           0.8575690580484728,
           0.8655005090363452,
           0.8109077657014528,
           0.8010549174571608,
           0.8836525943884285,
           0.9124261986990316,
           0.8882712727047959,
           0.8426004942081934,
           0.8050463336447382,
           0.7896525691863345,
           0.7916490358477891
          ],
          [
           0.8218964720607154,
           0.8288630635593989,
           0.8307752762971927,
           0.8304706227129686,
           0.8389987446022142,
           0.8336337437072073,
           0.817742602998212,
           0.8318167855022398,
           0.8413067762833143,
           0.858786377497753,
           0.8663956845727263,
           0.8324293732418935,
           0.7869749915429234,
           0.8353484981748657,
           0.898337930334078,
           0.9117557322559879,
           0.8902098584759184,
           0.8522032907417412,
           0.8163154442958228,
           0.7948622645679633
          ],
          [
           0.8299486620181824,
           0.8307328333074444,
           0.8304090306395076,
           0.837199728421261,
           0.8392650370584931,
           0.8197409961211604,
           0.8257769756509352,
           0.8306751947294712,
           0.8435408392840905,
           0.8596845520438293,
           0.8670589645123119,
           0.84762461424558,
           0.7943049883410731,
           0.8009681849723665,
           0.8627889103116079,
           0.9056023569670074,
           0.9109163471853925,
           0.891587194313965,
           0.8593236726599117,
           0.8263512946154564
          ],
          [
           0.8306857972338128,
           0.8303776353253448,
           0.8357660596242746,
           0.8409695474348204,
           0.8278841889299661,
           0.8174142794266288,
           0.8309402552420432,
           0.832005713120655,
           0.8445710200493596,
           0.8603680132618263,
           0.8676335298376329,
           0.8566916602637632,
           0.8084820824648288,
           0.7878520442037407,
           0.8260456727158343,
           0.8808232579300141,
           0.909301706422485,
           0.910089464354387,
           0.8926145573818587,
           0.8647379515266417
          ],
          [
           0.830362037909402,
           0.834681067182697,
           0.8408222862871677,
           0.8345987452840941,
           0.8183565650245468,
           0.8232020909019243,
           0.831316867886037,
           0.8350792569797176,
           0.8451979719173304,
           0.8609025145728595,
           0.8681080277784463,
           0.8616083846564594,
           0.823151507173322,
           0.7888609843122159,
           0.8009327944707006,
           0.8489543299225711,
           0.8922500547260217,
           0.911185696477433,
           0.9093293191070486,
           0.8934095210602018
          ]
         ]
        },
        {
         "marker": {
          "color": "red",
          "size": 10
         },
         "mode": "markers",
         "type": "scatter",
         "x": [
          2.5,
          2.7,
          2.6,
          2.6
         ],
         "y": [
          3,
          3,
          2.9,
          3.1
         ]
        },
        {
         "marker": {
          "color": "blue",
          "size": 10
         },
         "mode": "markers",
         "type": "scatter",
         "x": [
          0.5473684210526316
         ],
         "y": [
          0.9789473684210527
         ]
        },
        {
         "marker": {
          "color": "green",
          "size": 10
         },
         "mode": "markers",
         "type": "scatter",
         "x": [
          2.0949225203200483
         ],
         "y": [
          2.4983825404623152
         ]
        }
       ],
       "layout": {
        "coloraxis": {
         "colorscale": [
          [
           0,
           "#0d0887"
          ],
          [
           0.1111111111111111,
           "#46039f"
          ],
          [
           0.2222222222222222,
           "#7201a8"
          ],
          [
           0.3333333333333333,
           "#9c179e"
          ],
          [
           0.4444444444444444,
           "#bd3786"
          ],
          [
           0.5555555555555556,
           "#d8576b"
          ],
          [
           0.6666666666666666,
           "#ed7953"
          ],
          [
           0.7777777777777778,
           "#fb9f3a"
          ],
          [
           0.8888888888888888,
           "#fdca26"
          ],
          [
           1,
           "#f0f921"
          ]
         ]
        },
        "margin": {
         "t": 60
        },
        "template": {
         "data": {
          "bar": [
           {
            "error_x": {
             "color": "#2a3f5f"
            },
            "error_y": {
             "color": "#2a3f5f"
            },
            "marker": {
             "line": {
              "color": "#E5ECF6",
              "width": 0.5
             },
             "pattern": {
              "fillmode": "overlay",
              "size": 10,
              "solidity": 0.2
             }
            },
            "type": "bar"
           }
          ],
          "barpolar": [
           {
            "marker": {
             "line": {
              "color": "#E5ECF6",
              "width": 0.5
             },
             "pattern": {
              "fillmode": "overlay",
              "size": 10,
              "solidity": 0.2
             }
            },
            "type": "barpolar"
           }
          ],
          "carpet": [
           {
            "aaxis": {
             "endlinecolor": "#2a3f5f",
             "gridcolor": "white",
             "linecolor": "white",
             "minorgridcolor": "white",
             "startlinecolor": "#2a3f5f"
            },
            "baxis": {
             "endlinecolor": "#2a3f5f",
             "gridcolor": "white",
             "linecolor": "white",
             "minorgridcolor": "white",
             "startlinecolor": "#2a3f5f"
            },
            "type": "carpet"
           }
          ],
          "choropleth": [
           {
            "colorbar": {
             "outlinewidth": 0,
             "ticks": ""
            },
            "type": "choropleth"
           }
          ],
          "contour": [
           {
            "colorbar": {
             "outlinewidth": 0,
             "ticks": ""
            },
            "colorscale": [
             [
              0,
              "#0d0887"
             ],
             [
              0.1111111111111111,
              "#46039f"
             ],
             [
              0.2222222222222222,
              "#7201a8"
             ],
             [
              0.3333333333333333,
              "#9c179e"
             ],
             [
              0.4444444444444444,
              "#bd3786"
             ],
             [
              0.5555555555555556,
              "#d8576b"
             ],
             [
              0.6666666666666666,
              "#ed7953"
             ],
             [
              0.7777777777777778,
              "#fb9f3a"
             ],
             [
              0.8888888888888888,
              "#fdca26"
             ],
             [
              1,
              "#f0f921"
             ]
            ],
            "type": "contour"
           }
          ],
          "contourcarpet": [
           {
            "colorbar": {
             "outlinewidth": 0,
             "ticks": ""
            },
            "type": "contourcarpet"
           }
          ],
          "heatmap": [
           {
            "colorbar": {
             "outlinewidth": 0,
             "ticks": ""
            },
            "colorscale": [
             [
              0,
              "#0d0887"
             ],
             [
              0.1111111111111111,
              "#46039f"
             ],
             [
              0.2222222222222222,
              "#7201a8"
             ],
             [
              0.3333333333333333,
              "#9c179e"
             ],
             [
              0.4444444444444444,
              "#bd3786"
             ],
             [
              0.5555555555555556,
              "#d8576b"
             ],
             [
              0.6666666666666666,
              "#ed7953"
             ],
             [
              0.7777777777777778,
              "#fb9f3a"
             ],
             [
              0.8888888888888888,
              "#fdca26"
             ],
             [
              1,
              "#f0f921"
             ]
            ],
            "type": "heatmap"
           }
          ],
          "heatmapgl": [
           {
            "colorbar": {
             "outlinewidth": 0,
             "ticks": ""
            },
            "colorscale": [
             [
              0,
              "#0d0887"
             ],
             [
              0.1111111111111111,
              "#46039f"
             ],
             [
              0.2222222222222222,
              "#7201a8"
             ],
             [
              0.3333333333333333,
              "#9c179e"
             ],
             [
              0.4444444444444444,
              "#bd3786"
             ],
             [
              0.5555555555555556,
              "#d8576b"
             ],
             [
              0.6666666666666666,
              "#ed7953"
             ],
             [
              0.7777777777777778,
              "#fb9f3a"
             ],
             [
              0.8888888888888888,
              "#fdca26"
             ],
             [
              1,
              "#f0f921"
             ]
            ],
            "type": "heatmapgl"
           }
          ],
          "histogram": [
           {
            "marker": {
             "pattern": {
              "fillmode": "overlay",
              "size": 10,
              "solidity": 0.2
             }
            },
            "type": "histogram"
           }
          ],
          "histogram2d": [
           {
            "colorbar": {
             "outlinewidth": 0,
             "ticks": ""
            },
            "colorscale": [
             [
              0,
              "#0d0887"
             ],
             [
              0.1111111111111111,
              "#46039f"
             ],
             [
              0.2222222222222222,
              "#7201a8"
             ],
             [
              0.3333333333333333,
              "#9c179e"
             ],
             [
              0.4444444444444444,
              "#bd3786"
             ],
             [
              0.5555555555555556,
              "#d8576b"
             ],
             [
              0.6666666666666666,
              "#ed7953"
             ],
             [
              0.7777777777777778,
              "#fb9f3a"
             ],
             [
              0.8888888888888888,
              "#fdca26"
             ],
             [
              1,
              "#f0f921"
             ]
            ],
            "type": "histogram2d"
           }
          ],
          "histogram2dcontour": [
           {
            "colorbar": {
             "outlinewidth": 0,
             "ticks": ""
            },
            "colorscale": [
             [
              0,
              "#0d0887"
             ],
             [
              0.1111111111111111,
              "#46039f"
             ],
             [
              0.2222222222222222,
              "#7201a8"
             ],
             [
              0.3333333333333333,
              "#9c179e"
             ],
             [
              0.4444444444444444,
              "#bd3786"
             ],
             [
              0.5555555555555556,
              "#d8576b"
             ],
             [
              0.6666666666666666,
              "#ed7953"
             ],
             [
              0.7777777777777778,
              "#fb9f3a"
             ],
             [
              0.8888888888888888,
              "#fdca26"
             ],
             [
              1,
              "#f0f921"
             ]
            ],
            "type": "histogram2dcontour"
           }
          ],
          "mesh3d": [
           {
            "colorbar": {
             "outlinewidth": 0,
             "ticks": ""
            },
            "type": "mesh3d"
           }
          ],
          "parcoords": [
           {
            "line": {
             "colorbar": {
              "outlinewidth": 0,
              "ticks": ""
             }
            },
            "type": "parcoords"
           }
          ],
          "pie": [
           {
            "automargin": true,
            "type": "pie"
           }
          ],
          "scatter": [
           {
            "fillpattern": {
             "fillmode": "overlay",
             "size": 10,
             "solidity": 0.2
            },
            "type": "scatter"
           }
          ],
          "scatter3d": [
           {
            "line": {
             "colorbar": {
              "outlinewidth": 0,
              "ticks": ""
             }
            },
            "marker": {
             "colorbar": {
              "outlinewidth": 0,
              "ticks": ""
             }
            },
            "type": "scatter3d"
           }
          ],
          "scattercarpet": [
           {
            "marker": {
             "colorbar": {
              "outlinewidth": 0,
              "ticks": ""
             }
            },
            "type": "scattercarpet"
           }
          ],
          "scattergeo": [
           {
            "marker": {
             "colorbar": {
              "outlinewidth": 0,
              "ticks": ""
             }
            },
            "type": "scattergeo"
           }
          ],
          "scattergl": [
           {
            "marker": {
             "colorbar": {
              "outlinewidth": 0,
              "ticks": ""
             }
            },
            "type": "scattergl"
           }
          ],
          "scattermapbox": [
           {
            "marker": {
             "colorbar": {
              "outlinewidth": 0,
              "ticks": ""
             }
            },
            "type": "scattermapbox"
           }
          ],
          "scatterpolar": [
           {
            "marker": {
             "colorbar": {
              "outlinewidth": 0,
              "ticks": ""
             }
            },
            "type": "scatterpolar"
           }
          ],
          "scatterpolargl": [
           {
            "marker": {
             "colorbar": {
              "outlinewidth": 0,
              "ticks": ""
             }
            },
            "type": "scatterpolargl"
           }
          ],
          "scatterternary": [
           {
            "marker": {
             "colorbar": {
              "outlinewidth": 0,
              "ticks": ""
             }
            },
            "type": "scatterternary"
           }
          ],
          "surface": [
           {
            "colorbar": {
             "outlinewidth": 0,
             "ticks": ""
            },
            "colorscale": [
             [
              0,
              "#0d0887"
             ],
             [
              0.1111111111111111,
              "#46039f"
             ],
             [
              0.2222222222222222,
              "#7201a8"
             ],
             [
              0.3333333333333333,
              "#9c179e"
             ],
             [
              0.4444444444444444,
              "#bd3786"
             ],
             [
              0.5555555555555556,
              "#d8576b"
             ],
             [
              0.6666666666666666,
              "#ed7953"
             ],
             [
              0.7777777777777778,
              "#fb9f3a"
             ],
             [
              0.8888888888888888,
              "#fdca26"
             ],
             [
              1,
              "#f0f921"
             ]
            ],
            "type": "surface"
           }
          ],
          "table": [
           {
            "cells": {
             "fill": {
              "color": "#EBF0F8"
             },
             "line": {
              "color": "white"
             }
            },
            "header": {
             "fill": {
              "color": "#C8D4E3"
             },
             "line": {
              "color": "white"
             }
            },
            "type": "table"
           }
          ]
         },
         "layout": {
          "annotationdefaults": {
           "arrowcolor": "#2a3f5f",
           "arrowhead": 0,
           "arrowwidth": 1
          },
          "autotypenumbers": "strict",
          "coloraxis": {
           "colorbar": {
            "outlinewidth": 0,
            "ticks": ""
           }
          },
          "colorscale": {
           "diverging": [
            [
             0,
             "#8e0152"
            ],
            [
             0.1,
             "#c51b7d"
            ],
            [
             0.2,
             "#de77ae"
            ],
            [
             0.3,
             "#f1b6da"
            ],
            [
             0.4,
             "#fde0ef"
            ],
            [
             0.5,
             "#f7f7f7"
            ],
            [
             0.6,
             "#e6f5d0"
            ],
            [
             0.7,
             "#b8e186"
            ],
            [
             0.8,
             "#7fbc41"
            ],
            [
             0.9,
             "#4d9221"
            ],
            [
             1,
             "#276419"
            ]
           ],
           "sequential": [
            [
             0,
             "#0d0887"
            ],
            [
             0.1111111111111111,
             "#46039f"
            ],
            [
             0.2222222222222222,
             "#7201a8"
            ],
            [
             0.3333333333333333,
             "#9c179e"
            ],
            [
             0.4444444444444444,
             "#bd3786"
            ],
            [
             0.5555555555555556,
             "#d8576b"
            ],
            [
             0.6666666666666666,
             "#ed7953"
            ],
            [
             0.7777777777777778,
             "#fb9f3a"
            ],
            [
             0.8888888888888888,
             "#fdca26"
            ],
            [
             1,
             "#f0f921"
            ]
           ],
           "sequentialminus": [
            [
             0,
             "#0d0887"
            ],
            [
             0.1111111111111111,
             "#46039f"
            ],
            [
             0.2222222222222222,
             "#7201a8"
            ],
            [
             0.3333333333333333,
             "#9c179e"
            ],
            [
             0.4444444444444444,
             "#bd3786"
            ],
            [
             0.5555555555555556,
             "#d8576b"
            ],
            [
             0.6666666666666666,
             "#ed7953"
            ],
            [
             0.7777777777777778,
             "#fb9f3a"
            ],
            [
             0.8888888888888888,
             "#fdca26"
            ],
            [
             1,
             "#f0f921"
            ]
           ]
          },
          "colorway": [
           "#636efa",
           "#EF553B",
           "#00cc96",
           "#ab63fa",
           "#FFA15A",
           "#19d3f3",
           "#FF6692",
           "#B6E880",
           "#FF97FF",
           "#FECB52"
          ],
          "font": {
           "color": "#2a3f5f"
          },
          "geo": {
           "bgcolor": "white",
           "lakecolor": "white",
           "landcolor": "#E5ECF6",
           "showlakes": true,
           "showland": true,
           "subunitcolor": "white"
          },
          "hoverlabel": {
           "align": "left"
          },
          "hovermode": "closest",
          "mapbox": {
           "style": "light"
          },
          "paper_bgcolor": "white",
          "plot_bgcolor": "#E5ECF6",
          "polar": {
           "angularaxis": {
            "gridcolor": "white",
            "linecolor": "white",
            "ticks": ""
           },
           "bgcolor": "#E5ECF6",
           "radialaxis": {
            "gridcolor": "white",
            "linecolor": "white",
            "ticks": ""
           }
          },
          "scene": {
           "xaxis": {
            "backgroundcolor": "#E5ECF6",
            "gridcolor": "white",
            "gridwidth": 2,
            "linecolor": "white",
            "showbackground": true,
            "ticks": "",
            "zerolinecolor": "white"
           },
           "yaxis": {
            "backgroundcolor": "#E5ECF6",
            "gridcolor": "white",
            "gridwidth": 2,
            "linecolor": "white",
            "showbackground": true,
            "ticks": "",
            "zerolinecolor": "white"
           },
           "zaxis": {
            "backgroundcolor": "#E5ECF6",
            "gridcolor": "white",
            "gridwidth": 2,
            "linecolor": "white",
            "showbackground": true,
            "ticks": "",
            "zerolinecolor": "white"
           }
          },
          "shapedefaults": {
           "line": {
            "color": "#2a3f5f"
           }
          },
          "ternary": {
           "aaxis": {
            "gridcolor": "white",
            "linecolor": "white",
            "ticks": ""
           },
           "baxis": {
            "gridcolor": "white",
            "linecolor": "white",
            "ticks": ""
           },
           "bgcolor": "#E5ECF6",
           "caxis": {
            "gridcolor": "white",
            "linecolor": "white",
            "ticks": ""
           }
          },
          "title": {
           "x": 0.05
          },
          "xaxis": {
           "automargin": true,
           "gridcolor": "white",
           "linecolor": "white",
           "ticks": "",
           "title": {
            "standoff": 15
           },
           "zerolinecolor": "white",
           "zerolinewidth": 2
          },
          "yaxis": {
           "automargin": true,
           "gridcolor": "white",
           "linecolor": "white",
           "ticks": "",
           "title": {
            "standoff": 15
           },
           "zerolinecolor": "white",
           "zerolinewidth": 2
          }
         }
        },
        "title": {
         "text": "SRP-PHAT Map"
        },
        "xaxis": {
         "anchor": "y",
         "constrain": "domain",
         "domain": [
          0,
          1
         ],
         "scaleanchor": "y",
         "title": {
          "text": "X (m)"
         }
        },
        "yaxis": {
         "anchor": "x",
         "autorange": "reversed",
         "constrain": "domain",
         "domain": [
          0,
          1
         ],
         "title": {
          "text": "Y (m)"
         }
        }
       }
      }
     },
     "metadata": {},
     "output_type": "display_data"
    }
   ],
   "source": [
    "dists_from_mics = np.linalg.norm(grid[:, None] - mic_pos, axis=2)\n",
    "tau = dists_from_mics / 343.0\n",
    "\n",
    "nfft = 512\n",
    "hoplength = 256\n",
    "stft_main_speaker_room_noisy_white = librosa.stft(main_speaker_room_noisy_white, n_fft=nfft, hop_length=hoplength)\n",
    "\n",
    "\n",
    "stft_sig = stft_main_speaker_room_noisy_white\n",
    "H = stft_sig.transpose(1,0,2)  @ stft_sig.transpose(1,2,0).conj() / stft_sig.shape[2]\n",
    "val,vec = np.linalg.eigh(H)\n",
    "noise_space = vec[:,:,1:]\n",
    "omega_f =  fs * np.arange(nfft // 2 + 1) / nfft\n",
    "steering_vec = np.exp(-1j * 2 * np.pi * omega_f * tau[:, :, None])\n",
    "Pmu = []\n",
    "for f in range(nfft // 2 + 1):\n",
    "    Pmu_f = (np.abs(steering_vec[:,:,f].conj() @ noise_space[f])**2).sum(-1)\n",
    "    Pmu.append(Pmu_f)\n",
    "Pmu = np.array(Pmu)\n",
    "\n",
    "spec = Pmu.mean(0)\n",
    "best_pos = spec.argmax()\n",
    "print(f\"Estimated Source Position: {grid[best_pos]}\")\n",
    "spec_map = spec.reshape(20, 20)\n",
    "spec_map = spec_map / spec_map.max()\n",
    "\n",
    "fig = px.imshow(spec_map, x=np.linspace(0, room_dim[0], 20), y=np.linspace(0, room_dim[1], 20))\n",
    "#  add the microphones\n",
    "fig.add_trace(go.Scatter(x=mic_pos[:, 0], y=mic_pos[:, 1], mode='markers', marker=dict(size=10, color='red')))\n",
    "# add the estimated source position\n",
    "fig.add_trace(go.Scatter(x=[grid[best_pos][0]], y=[grid[best_pos][1]], mode='markers', marker=dict(size=10, color='blue')))\n",
    "fig.add_trace(go.Scatter(x=[speaker_pos[0]], y=[speaker_pos[1]], mode='markers', marker=dict(size=10, color='green')))\n",
    "fig.update_layout(title='SRP-PHAT Map',\n",
    "                  xaxis_title='X (m)',\n",
    "                  yaxis_title='Y (m)')\n",
    "fig.show()\n"
   ]
  },
  {
   "cell_type": "code",
   "execution_count": 12,
   "metadata": {},
   "outputs": [],
   "source": [
    "# print(f\"Estimated Source Position: {grid[best_pos]}\")\n",
    "# print(f\"True Source Position: {speaker_pos}\")"
   ]
  },
  {
   "cell_type": "code",
   "execution_count": 13,
   "metadata": {},
   "outputs": [],
   "source": [
    "import scipy.linalg as LA\n",
    "import scipy.signal as ss\n",
    "\n",
    "def array_response_vector(array,theta):\n",
    "    N = array.shape\n",
    "    v = np.exp(1j*2*np.pi*array*np.sin(theta))\n",
    "    return v\n",
    "\n",
    "def music(CovMat,L,N,array,Angles):\n",
    "    # CovMat is the signal covariance matrix, L is the number of sources, N is the number of antennas\n",
    "    # array holds the positions of antenna elements\n",
    "    # Angles are the grid of directions in the azimuth angular domain\n",
    "    _,V = LA.eig(CovMat)\n",
    "    Qn  = V[:,L:N]\n",
    "    numAngles = Angles.size\n",
    "    pspectrum = np.zeros(numAngles)\n",
    "    for i in range(numAngles):\n",
    "        av = array_response_vector(array,Angles[i])\n",
    "        # print(Qn.shape)\n",
    "        # print(av.shape)\n",
    "        pspectrum[i] = 1/LA.norm((Qn.conj().transpose()@av))\n",
    "    print(CovMat.shape)\n",
    "    psindB    = np.log10(10*pspectrum/pspectrum.min())\n",
    "    DoAsMUSIC,_= ss.find_peaks(psindB,height=1.35, distance=1.5)\n",
    "    return DoAsMUSIC,pspectrum"
   ]
  },
  {
   "cell_type": "code",
   "execution_count": 14,
   "metadata": {},
   "outputs": [],
   "source": [
    "Angles = np.linspace(-np.pi/2,np.pi/2,360)"
   ]
  },
  {
   "cell_type": "code",
   "execution_count": 15,
   "metadata": {},
   "outputs": [
    {
     "name": "stdout",
     "output_type": "stream",
     "text": [
      "(4, 4)\n"
     ]
    }
   ],
   "source": [
    "d,p = music(H[11], 1,4, mic_pos, Angles)"
   ]
  },
  {
   "cell_type": "code",
   "execution_count": 16,
   "metadata": {},
   "outputs": [],
   "source": [
    "best_idx = p.argmax()"
   ]
  },
  {
   "cell_type": "code",
   "execution_count": 17,
   "metadata": {},
   "outputs": [
    {
     "data": {
      "text/plain": [
       "100"
      ]
     },
     "execution_count": 17,
     "metadata": {},
     "output_type": "execute_result"
    }
   ],
   "source": [
    "best_idx"
   ]
  },
  {
   "cell_type": "code",
   "execution_count": 18,
   "metadata": {},
   "outputs": [
    {
     "data": {
      "image/png": "[encoded data removed]",
      "text/plain": [
       "<Figure size 640x480 with 1 Axes>"
      ]
     },
     "metadata": {},
     "output_type": "display_data"
    }
   ],
   "source": [
    "angles_deg = np.degrees(Angles)\n",
    "plt.plot(angles_deg, p)\n",
    "plt.plot(angles_deg[d], p[d], \"x\")\n",
    "plt.xlabel('Angle (degrees)')\n",
    "plt.ylabel('Spatial Spectrum')\n",
    "plt.title('MUSIC Spectrum')\n",
    "plt.show()\n"
   ]
  },
  {
   "cell_type": "code",
   "execution_count": 19,
   "metadata": {},
   "outputs": [],
   "source": [
    "# Author: Eric Bezzam\n",
    "# Date: July 15, 2016\n",
    "\n",
    "import numpy as np\n",
    "\n",
    "\n",
    "from pyroomacoustics.doa import DOA\n",
    "\n",
    "class MUSIC(DOA):\n",
    "    \"\"\"\n",
    "    Class to apply MUltiple SIgnal Classication (MUSIC) direction-of-arrival\n",
    "    (DoA) for a particular microphone array.\n",
    "\n",
    "    .. note:: Run locate_source() to apply the MUSIC algorithm.\n",
    "\n",
    "    Parameters\n",
    "    ----------\n",
    "    L: numpy array\n",
    "        Microphone array positions. Each column should correspond to the\n",
    "        cartesian coordinates of a single microphone.\n",
    "    fs: float\n",
    "        Sampling frequency.\n",
    "    nfft: int\n",
    "        FFT length.\n",
    "    c: float\n",
    "        Speed of sound. Default: 343 m/s\n",
    "    num_src: int\n",
    "        Number of sources to detect. Default: 1\n",
    "    mode: str\n",
    "        'far' or 'near' for far-field or near-field detection\n",
    "        respectively. Default: 'far'\n",
    "    r: numpy array\n",
    "        Candidate distances from the origin. Default: np.ones(1)\n",
    "    azimuth: numpy array\n",
    "        Candidate azimuth angles (in radians) with respect to x-axis.\n",
    "        Default: np.linspace(-180.,180.,30)*np.pi/180\n",
    "    colatitude: numpy array\n",
    "        Candidate elevation angles (in radians) with respect to z-axis.\n",
    "        Default is x-y plane search: np.pi/2*np.ones(1)\n",
    "    frequency_normalization: bool\n",
    "        If True, the MUSIC pseudo-spectra are normalized before averaging across the frequency axis, default:False\n",
    "    \"\"\"\n",
    "\n",
    "    def __init__(\n",
    "        self,\n",
    "        L,\n",
    "        fs,\n",
    "        nfft,\n",
    "        c=343.0,\n",
    "        num_src=1,\n",
    "        mode=\"far\",\n",
    "        r=None,\n",
    "        azimuth=None,\n",
    "        colatitude=None,\n",
    "        frequency_normalization=False,\n",
    "        **kwargs\n",
    "    ):\n",
    "        DOA.__init__(\n",
    "            self,\n",
    "            L=L,\n",
    "            fs=fs,\n",
    "            nfft=nfft,\n",
    "            c=c,\n",
    "            num_src=num_src,\n",
    "            mode=mode,\n",
    "            r=r,\n",
    "            azimuth=azimuth,\n",
    "            colatitude=colatitude,\n",
    "            **kwargs\n",
    "        )\n",
    "\n",
    "        self.Pssl = None\n",
    "        self.frequency_normalization = frequency_normalization\n",
    "\n",
    "    def _process(self, X):\n",
    "        \"\"\"\n",
    "        Perform MUSIC for given frame in order to estimate steered response\n",
    "        spectrum.\n",
    "        \"\"\"\n",
    "        # compute steered response\n",
    "        self.Pssl = np.zeros((self.num_freq, self.grid.n_points))\n",
    "        C_hat = self._compute_correlation_matricesvec(X)\n",
    "        # subspace decomposition\n",
    "        Es, En, ws, wn = self._subspace_decomposition(C_hat[None, ...])\n",
    "        # compute spatial spectrum\n",
    "        identity = np.zeros((self.num_freq, self.M, self.M))\n",
    "        identity[:, list(np.arange(self.M)), list(np.arange(self.M))] = 1\n",
    "        cross = identity - np.matmul(Es, np.moveaxis(np.conjugate(Es), -1, -2))\n",
    "        self.Pssl = self._compute_spatial_spectrumvec(cross)\n",
    "        if self.frequency_normalization:\n",
    "            self._apply_frequency_normalization()\n",
    "        self.grid.set_values(np.squeeze(np.sum(self.Pssl, axis=1) / self.num_freq))\n",
    "\n",
    "    def _apply_frequency_normalization(self):\n",
    "        \"\"\"\n",
    "        Normalize the MUSIC pseudo-spectrum per frequency bin\n",
    "        \"\"\"\n",
    "        self.Pssl = self.Pssl / np.max(self.Pssl, axis=0, keepdims=True)\n",
    "\n",
    "    def plot_individual_spectrum(self):\n",
    "        \"\"\"\n",
    "        Plot the steered response for each frequency.\n",
    "        \"\"\"\n",
    "\n",
    "        # check if matplotlib imported\n",
    "        try:\n",
    "            import matplotlib.pyplot as plt\n",
    "        except ImportError:\n",
    "            import warnings\n",
    "\n",
    "            warnings.warn(\"Matplotlib is required for plotting\")\n",
    "            return\n",
    "\n",
    "        # only for 2D\n",
    "        if self.grid.dim == 3:\n",
    "            pass\n",
    "        else:\n",
    "            import warnings\n",
    "\n",
    "            warnings.warn(\"Only for 2D.\")\n",
    "            return\n",
    "\n",
    "        # plot\n",
    "        for k in range(self.num_freq):\n",
    "            freq = float(self.freq_bins[k]) / self.nfft * self.fs\n",
    "            azimuth = self.grid.azimuth * 180 / np.pi\n",
    "\n",
    "            plt.plot(azimuth, self.Pssl[k, 0 : len(azimuth)])\n",
    "\n",
    "            plt.ylabel(\"Magnitude\")\n",
    "            plt.xlabel(\"Azimuth [degrees]\")\n",
    "            plt.xlim(min(azimuth), max(azimuth))\n",
    "            plt.title(\"Steering Response Spectrum - \" + str(freq) + \" Hz\")\n",
    "            plt.grid(True)\n",
    "\n",
    "    def _compute_spatial_spectrumvec(self, cross):\n",
    "        mod_vec = np.transpose(\n",
    "            np.array(self.mode_vec[self.freq_bins, :, :]), axes=[2, 0, 1]\n",
    "        )\n",
    "        # timeframe, frequ, no idea\n",
    "        denom = np.matmul(\n",
    "            np.conjugate(mod_vec[..., None, :]), np.matmul(cross, mod_vec[..., None])\n",
    "        )\n",
    "        return 1.0 / abs(denom[..., 0, 0])\n",
    "\n",
    "    def _compute_spatial_spectrum(self, cross, k):\n",
    "        P = np.zeros(self.grid.n_points)\n",
    "\n",
    "        for n in range(self.grid.n_points):\n",
    "            Dc = np.array(self.mode_vec[k, :, n], ndmin=2).T\n",
    "            Dc_H = np.conjugate(np.array(self.mode_vec[k, :, n], ndmin=2))\n",
    "            denom = np.linalg.multi_dot([Dc_H, cross, Dc])\n",
    "            P[n] = 1 / abs(denom[0, 0])\n",
    "\n",
    "        return P\n",
    "\n",
    "    # non-vectorized version\n",
    "    def _compute_correlation_matrices(self, X):\n",
    "        C_hat = np.zeros([self.num_freq, self.M, self.M], dtype=complex)\n",
    "        for i in range(self.num_freq):\n",
    "            k = self.freq_bins[i]\n",
    "            for s in range(self.num_snap):\n",
    "                C_hat[i, :, :] = C_hat[i, :, :] + np.outer(\n",
    "                    X[:, k, s], np.conjugate(X[:, k, s])\n",
    "                )\n",
    "        return C_hat / self.num_snap\n",
    "\n",
    "    # vectorized version\n",
    "    def _compute_correlation_matricesvec(self, X):\n",
    "        # change X such that time frames, frequency microphones is the result\n",
    "        X = np.transpose(X, axes=[2, 1, 0])\n",
    "        # select frequency bins\n",
    "        X = X[..., list(self.freq_bins), :]\n",
    "        # Compute PSD and average over time frame\n",
    "        C_hat = np.matmul(X[..., None], np.conjugate(X[..., None, :]))\n",
    "        # Average over time-frames\n",
    "        C_hat = np.mean(C_hat, axis=0)\n",
    "        return C_hat\n",
    "\n",
    "    # vectorized versino\n",
    "    def _subspace_decomposition(self, R):\n",
    "        # eigenvalue decomposition!\n",
    "        # This method is specialized for Hermitian symmetric matrices,\n",
    "        # which is the case since R is a covariance matrix\n",
    "        w, v = np.linalg.eigh(R)\n",
    "\n",
    "        # This method (numpy.linalg.eigh) returns the eigenvalues (and\n",
    "        # eigenvectors) in ascending order, so there is no need to sort Signal\n",
    "        # comprises the leading eigenvalues Noise takes the rest\n",
    "\n",
    "        Es = v[..., -self.num_src :]\n",
    "        ws = w[..., -self.num_src :]\n",
    "        En = v[..., : -self.num_src]\n",
    "        wn = w[..., : -self.num_src]\n",
    "\n",
    "        return (Es, En, ws, wn)"
   ]
  },
  {
   "cell_type": "code",
   "execution_count": 20,
   "metadata": {},
   "outputs": [],
   "source": [
    "import pyroomacoustics"
   ]
  },
  {
   "cell_type": "code",
   "execution_count": 21,
   "metadata": {},
   "outputs": [
    {
     "ename": "AttributeError",
     "evalue": "'function' object has no attribute 'MUSIC'",
     "output_type": "error",
     "traceback": [
      "\u001b[1;31m---------------------------------------------------------------------------\u001b[0m",
      "\u001b[1;31mAttributeError\u001b[0m                            Traceback (most recent call last)",
      "Cell \u001b[1;32mIn[21], line 1\u001b[0m\n\u001b[1;32m----> 1\u001b[0m m \u001b[38;5;241m=\u001b[39m  \u001b[43mmusic\u001b[49m\u001b[38;5;241;43m.\u001b[39;49m\u001b[43mMUSIC\u001b[49m(mic_pos\u001b[38;5;241m.\u001b[39mT, fs, \u001b[38;5;241m512\u001b[39m, num_src\u001b[38;5;241m=\u001b[39m\u001b[38;5;241m1\u001b[39m, mode\u001b[38;5;241m=\u001b[39m\u001b[38;5;124m\"\u001b[39m\u001b[38;5;124mfar\u001b[39m\u001b[38;5;124m\"\u001b[39m, r\u001b[38;5;241m=\u001b[39m\u001b[38;5;28;01mNone\u001b[39;00m, azimuth\u001b[38;5;241m=\u001b[39m\u001b[38;5;28;01mNone\u001b[39;00m, colatitude\u001b[38;5;241m=\u001b[39m\u001b[38;5;28;01mNone\u001b[39;00m, frequency_normalization\u001b[38;5;241m=\u001b[39m\u001b[38;5;28;01mFalse\u001b[39;00m)\n",
      "\u001b[1;31mAttributeError\u001b[0m: 'function' object has no attribute 'MUSIC'"
     ]
    }
   ],
   "source": [
    "m =  music.MUSIC(mic_pos.T, fs, 512, num_src=1, mode=\"far\", r=None, azimuth=None, colatitude=None, frequency_normalization=False)"
   ]
  },
  {
   "cell_type": "code",
   "execution_count": 209,
   "metadata": {},
   "outputs": [],
   "source": [
    "self.colatitude_recon"
   ]
  },
  {
   "cell_type": "code",
   "execution_count": 179,
   "metadata": {},
   "outputs": [
    {
     "ename": "AttributeError",
     "evalue": "'MUSIC' object has no attribute 'locate_source'",
     "output_type": "error",
     "traceback": [
      "\u001b[1;31m---------------------------------------------------------------------------\u001b[0m",
      "\u001b[1;31mAttributeError\u001b[0m                            Traceback (most recent call last)",
      "Cell \u001b[1;32mIn[179], line 1\u001b[0m\n\u001b[1;32m----> 1\u001b[0m \u001b[43mm\u001b[49m\u001b[38;5;241;43m.\u001b[39;49m\u001b[43mlocate_source\u001b[49m(stft_sig)\n",
      "\u001b[1;31mAttributeError\u001b[0m: 'MUSIC' object has no attribute 'locate_source'"
     ]
    }
   ],
   "source": [
    "m.locate_source(stft_sig)"
   ]
  },
  {
   "cell_type": "code",
   "execution_count": 166,
   "metadata": {},
   "outputs": [
    {
     "data": {
      "text/plain": [
       "4"
      ]
     },
     "execution_count": 166,
     "metadata": {},
     "output_type": "execute_result"
    }
   ],
   "source": [
    "m.M"
   ]
  },
  {
   "cell_type": "code",
   "execution_count": 38,
   "metadata": {},
   "outputs": [
    {
     "data": {
      "text/plain": [
       "(4, 257, 150)"
      ]
     },
     "execution_count": 38,
     "metadata": {},
     "output_type": "execute_result"
    }
   ],
   "source": [
    "stft_sig.shape"
   ]
  },
  {
   "cell_type": "code",
   "execution_count": 173,
   "metadata": {},
   "outputs": [
    {
     "ename": "TypeError",
     "evalue": "'NoneType' object is not iterable",
     "output_type": "error",
     "traceback": [
      "\u001b[1;31m---------------------------------------------------------------------------\u001b[0m",
      "\u001b[1;31mTypeError\u001b[0m                                 Traceback (most recent call last)",
      "Cell \u001b[1;32mIn[173], line 1\u001b[0m\n\u001b[1;32m----> 1\u001b[0m C_hat \u001b[38;5;241m=\u001b[39m \u001b[43mm\u001b[49m\u001b[38;5;241;43m.\u001b[39;49m\u001b[43m_compute_correlation_matricesvec\u001b[49m\u001b[43m(\u001b[49m\u001b[43mstft_sig\u001b[49m\u001b[43m)\u001b[49m\n",
      "File \u001b[1;32m~\\AppData\\Roaming\\Python\\Python310\\site-packages\\pyroomacoustics\\doa\\music.py:173\u001b[0m, in \u001b[0;36mMUSIC._compute_correlation_matricesvec\u001b[1;34m(self, X)\u001b[0m\n\u001b[0;32m    171\u001b[0m X \u001b[38;5;241m=\u001b[39m np\u001b[38;5;241m.\u001b[39mtranspose(X, axes\u001b[38;5;241m=\u001b[39m[\u001b[38;5;241m2\u001b[39m, \u001b[38;5;241m1\u001b[39m, \u001b[38;5;241m0\u001b[39m])\n\u001b[0;32m    172\u001b[0m \u001b[38;5;66;03m# select frequency bins\u001b[39;00m\n\u001b[1;32m--> 173\u001b[0m X \u001b[38;5;241m=\u001b[39m X[\u001b[38;5;241m.\u001b[39m\u001b[38;5;241m.\u001b[39m\u001b[38;5;241m.\u001b[39m, \u001b[38;5;28;43mlist\u001b[39;49m\u001b[43m(\u001b[49m\u001b[38;5;28;43mself\u001b[39;49m\u001b[38;5;241;43m.\u001b[39;49m\u001b[43mfreq_bins\u001b[49m\u001b[43m)\u001b[49m, :]\n\u001b[0;32m    174\u001b[0m \u001b[38;5;66;03m# Compute PSD and average over time frame\u001b[39;00m\n\u001b[0;32m    175\u001b[0m C_hat \u001b[38;5;241m=\u001b[39m np\u001b[38;5;241m.\u001b[39mmatmul(X[\u001b[38;5;241m.\u001b[39m\u001b[38;5;241m.\u001b[39m\u001b[38;5;241m.\u001b[39m, \u001b[38;5;28;01mNone\u001b[39;00m], np\u001b[38;5;241m.\u001b[39mconjugate(X[\u001b[38;5;241m.\u001b[39m\u001b[38;5;241m.\u001b[39m\u001b[38;5;241m.\u001b[39m, \u001b[38;5;28;01mNone\u001b[39;00m, :]))\n",
      "\u001b[1;31mTypeError\u001b[0m: 'NoneType' object is not iterable"
     ]
    }
   ],
   "source": [
    "C_hat = m._compute_correlation_matricesvec(stft_sig)"
   ]
  },
  {
   "cell_type": "code",
   "execution_count": 189,
   "metadata": {},
   "outputs": [],
   "source": []
  },
  {
   "cell_type": "code",
   "execution_count": 39,
   "metadata": {},
   "outputs": [],
   "source": [
    "from pyroomacoustics.doa import music, srp"
   ]
  },
  {
   "cell_type": "code",
   "execution_count": 40,
   "metadata": {},
   "outputs": [],
   "source": [
    "pm = music.MUSIC(mic_pos.T, fs, 512, num_src=1, mode=\"far\", r=None, azimuth=None, colatitude=None, frequency_normalization=False)"
   ]
  },
  {
   "cell_type": "code",
   "execution_count": null,
   "metadata": {},
   "outputs": [
    {
     "data": {
      "text/plain": [
       "(112, 4, 4)"
      ]
     },
     "execution_count": 48,
     "metadata": {},
     "output_type": "execute_result"
    }
   ],
   "source": [
    "pm._compute_correlation_matrices(stft_sig).shape"
   ]
  },
  {
   "cell_type": "code",
   "execution_count": null,
   "metadata": {},
   "outputs": [],
   "source": [
    "pm.mode_vec.mode_vec"
   ]
  },
  {
   "cell_type": "code",
   "execution_count": 42,
   "metadata": {},
   "outputs": [
    {
     "data": {
      "text/plain": [
       "(4, 257, 150)"
      ]
     },
     "execution_count": 42,
     "metadata": {},
     "output_type": "execute_result"
    }
   ],
   "source": [
    "stft_sig.shape"
   ]
  },
  {
   "cell_type": "code",
   "execution_count": 43,
   "metadata": {},
   "outputs": [],
   "source": [
    "pm.locate_sources(stft_sig)"
   ]
  },
  {
   "cell_type": "code",
   "execution_count": 225,
   "metadata": {},
   "outputs": [],
   "source": [
    "pm.colatitude_recon"
   ]
  },
  {
   "cell_type": "code",
   "execution_count": 192,
   "metadata": {},
   "outputs": [],
   "source": [
    "self = pm\n",
    "C_hat = pm._compute_correlation_matricesvec(stft_sig)\n",
    "Es, En, ws, wn = m._subspace_decomposition(C_hat[None, ...])\n",
    "\n",
    "# self.num_freq = 257"
   ]
  },
  {
   "cell_type": "code",
   "execution_count": 193,
   "metadata": {},
   "outputs": [],
   "source": [
    "identity = np.zeros((self.num_freq, self.M, self.M))\n",
    "identity[:, list(np.arange(self.M)), list(np.arange(self.M))] = 1\n",
    "cross = identity - np.matmul(Es, np.moveaxis(np.conjugate(Es), -1, -2))\n",
    "self.Pssl = self._compute_spatial_spectrumvec(cross)\n",
    "if self.frequency_normalization:\n",
    "    self._apply_frequency_normalization()\n",
    "self.grid.set_values(np.squeeze(np.sum(self.Pssl, axis=1) / self.num_freq))"
   ]
  },
  {
   "cell_type": "code",
   "execution_count": 199,
   "metadata": {},
   "outputs": [
    {
     "data": {
      "text/plain": [
       "(360, 112)"
      ]
     },
     "execution_count": 199,
     "metadata": {},
     "output_type": "execute_result"
    }
   ],
   "source": [
    "self.Pssl.shape"
   ]
  },
  {
   "cell_type": "code",
   "execution_count": 203,
   "metadata": {},
   "outputs": [
    {
     "data": {
      "text/plain": [
       "(360,)"
      ]
     },
     "execution_count": 203,
     "metadata": {},
     "output_type": "execute_result"
    }
   ],
   "source": [
    "np.squeeze(np.sum(self.Pssl, axis=1) / self.num_freq).shape"
   ]
  },
  {
   "cell_type": "code",
   "execution_count": 197,
   "metadata": {},
   "outputs": [
    {
     "data": {
      "text/plain": [
       "(1, 112, 4, 4)"
      ]
     },
     "execution_count": 197,
     "metadata": {},
     "output_type": "execute_result"
    }
   ],
   "source": [
    "cross.shape"
   ]
  },
  {
   "cell_type": "code",
   "execution_count": 136,
   "metadata": {},
   "outputs": [
    {
     "data": {
      "text/plain": [
       "3"
      ]
     },
     "execution_count": 136,
     "metadata": {},
     "output_type": "execute_result"
    }
   ],
   "source": [
    "self.M"
   ]
  },
  {
   "cell_type": "code",
   "execution_count": 195,
   "metadata": {},
   "outputs": [
    {
     "data": {
      "text/plain": [
       "112"
      ]
     },
     "execution_count": 195,
     "metadata": {},
     "output_type": "execute_result"
    }
   ],
   "source": [
    "self.num_freq"
   ]
  }
 ],
 "metadata": {
  "kernelspec": {
   "display_name": "base",
   "language": "python",
   "name": "python3"
  },
  "language_info": {
   "codemirror_mode": {
    "name": "ipython",
    "version": 3
   },
   "file_extension": ".py",
   "mimetype": "text/x-python",
   "name": "python",
   "nbconvert_exporter": "python",
   "pygments_lexer": "ipython3",
   "version": "3.10.9"
  }
 },
 "nbformat": 4,
 "nbformat_minor": 2
}
