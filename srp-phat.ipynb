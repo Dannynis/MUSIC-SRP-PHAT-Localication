{
 "cells": [
  {
   "cell_type": "code",
   "execution_count": 1,
   "metadata": {},
   "outputs": [],
   "source": [
    "import numpy as np\n",
    "import librosa\n",
    "from IPython.display import Audio\n",
    "import matplotlib.pyplot as plt\n",
    "import plotly.express as px\n",
    "import plotly.graph_objects as go\n",
    "\n",
    "from scipy.signal import fftconvolve\n",
    "import rir_generator as rir"
   ]
  },
  {
   "cell_type": "code",
   "execution_count": 2,
   "metadata": {},
   "outputs": [],
   "source": [
    "\n",
    "def gcc_phat(sig, refsig, fs=1, interp=16):\n",
    "    '''\n",
    "    This function computes the offset between the signal sig and the reference signal refsig\n",
    "    using the Generalized Cross Correlation - Phase Transform (GCC-PHAT) method.\n",
    "    '''\n",
    "    # make sure the length for the FFT is larger or equal than len(sig) + len(refsig)\n",
    "    n = sig.shape[0] + refsig.shape[0]\n",
    "\n",
    "    # Generalized Cross Correlation Phase Transform\n",
    "    SIG = np.fft.rfft(sig, n=n)\n",
    "    REFSIG = np.fft.rfft(refsig, n=n)\n",
    "    R = SIG * np.conj(REFSIG)\n",
    "\n",
    "    cc = np.fft.irfft(R / (np.abs(R) + 1e-10), n=interp * n)  \n",
    "    \n",
    "\n",
    "    max_shift = int(interp * n / 2)\n",
    "\n",
    "    cc = np.concatenate((cc[-max_shift:], cc[:max_shift+1]))\n",
    "    # # find max cross correlation index\n",
    "    \n",
    "    # shift = np.argmax(np.abs(cc)) - max_shift\n",
    "\n",
    "    # tau = shift / float(interp * fs)\n",
    "    return  cc\n"
   ]
  },
  {
   "cell_type": "code",
   "execution_count": 3,
   "metadata": {},
   "outputs": [],
   "source": [
    "import itertools\n",
    "def srp_phat(signals, mic_positions, grid, fs, interp = 16):\n",
    "    \"\"\"Perform SRP-PHAT localization.\"\"\"\n",
    "    num_mics = len(mic_positions)\n",
    "    srp_map = np.zeros(grid.shape[0], dtype=np.float32)\n",
    "\n",
    "    sig_len = signals.shape[1]\n",
    "\n",
    "    delay_axs = np.linspace(-sig_len/ fs, sig_len/ fs, interp*sig_len * 2 +1).astype(np.float32) # mapping between index and delay in seconds\n",
    "\n",
    "    n_channels = signals.shape[0]\n",
    "    # taus = np.zeros((n_channels, n_channels))\n",
    "    gccs = {}\n",
    "    for (i, j) in itertools.combinations(range(num_mics), 2):\n",
    "        if i == j:\n",
    "            continue\n",
    "        cc = gcc_phat(signals[i], signals[j], fs=fs, interp=interp)\n",
    "        # print(i,j,tau)\n",
    "        gccs[(i,j)] = cc\n",
    "\n",
    "\n",
    "    for idx,candidate in enumerate(grid):\n",
    "        power = 0\n",
    "        for (i, j) in itertools.combinations(range(num_mics), 2):\n",
    "            if i == j:\n",
    "                continue\n",
    "            dist_i = np.linalg.norm(candidate - mic_positions[i])\n",
    "            dist_j = np.linalg.norm(candidate - mic_positions[j])\n",
    "            tau = (dist_i - dist_j) / 343.0  # Speed of sound (m/s)\n",
    "            \n",
    "            gcc = gccs[(i,j)]\n",
    "            \n",
    "            closest_idx = np.argmin(np.abs(delay_axs - tau))\n",
    "            power += gcc[closest_idx]\n",
    "\n",
    "        srp_map[idx] = power\n",
    "\n",
    "    return srp_map\n",
    "\n",
    "def MUSIC(signals, mic_positions, grid, fs):\n",
    "    dists_from_mics = np.linalg.norm(grid[:, None] - mic_positions, axis=2)\n",
    "    tau = dists_from_mics / 343.0\n",
    "\n",
    "    nfft = 512\n",
    "    hoplength = 256\n",
    "    stft_signals = librosa.stft(signals, n_fft=nfft, hop_length=hoplength)\n",
    "\n",
    "\n",
    "    stft_sig = stft_signals\n",
    "    H = stft_sig.transpose(1,0,2)  @ stft_sig.transpose(1,2,0).conj() / stft_sig.shape[2]\n",
    "    val,vec = np.linalg.eigh(H)\n",
    "    noise_space = vec[:,:,1:]\n",
    "    omega_f =  fs * np.arange(nfft // 2 + 1) / nfft\n",
    "    steering_vec = np.exp(-1j * 2 * np.pi * omega_f * tau[:, :, None])\n",
    "    Pmu = []\n",
    "    for f in range(nfft // 2 + 1):\n",
    "        Pmu_f = (np.abs(steering_vec[:,:,f].conj() @ noise_space[f])**2).sum(-1)\n",
    "        Pmu.append(Pmu_f)\n",
    "    Pmu = np.array(Pmu)\n",
    "    spec = Pmu.mean(0)\n",
    "    return spec\n"
   ]
  },
  {
   "cell_type": "code",
   "execution_count": 4,
   "metadata": {},
   "outputs": [],
   "source": [
    "d = 0.2\n",
    "fs = 16000\n",
    "\n",
    "mic_pos = np.array([\n",
    "          [2.6 - d / 2, 3, 1.5], [2.6 + d / 2, 3, 1.5], [2.6, 3-d/2, 1.5], [2.6 , 3+d/2, 1.5]\n",
    "\n",
    "      ])\n",
    "room_dim = [5.2,6.2,3.5]\n"
   ]
  },
  {
   "cell_type": "code",
   "execution_count": 5,
   "metadata": {},
   "outputs": [],
   "source": [
    "\n",
    "\n",
    "\n",
    "def rnd_speaker_pos():\n",
    "  x = np.random.uniform(low=1, high=4, size=(1,))[0]\n",
    "  y = np.random.uniform(low=1, high=5, size=(1,))[0]\n",
    "  speaker_pos =  [x, y, 1.5]\n",
    "  return speaker_pos\n",
    "\n",
    "def gen_rir(t60,pos):\n",
    "\n",
    "  h = rir.generate(\n",
    "      c=340,                  # Sound velocity (m/s)\n",
    "      fs=fs,                  # Sample frequency (samples/s)\n",
    "      r=mic_pos,\n",
    "\n",
    "      s=pos,          # Source position [x y z] (m)\n",
    "      L=room_dim,            # Room dimensions [x y z] (m)\n",
    "      reverberation_time=t60, # Reverberation time (s)\n",
    "      nsample=int(t60 * fs),           # Number of output samples\n",
    "  )\n",
    "      # [1.617, 2.45, 1.7]\n",
    "  return h\n",
    "\n",
    "def add_white_noise(signal, snr_db=10):\n",
    "    if len(signal.shape) == 1 :\n",
    "      signal = signal.reshape(1,-1)\n",
    "    signal_power = np.mean(signal**2,axis=1, keepdims=True)\n",
    "    noise_power = signal_power / (10**(snr_db / 10))\n",
    "    noise = np.sqrt(noise_power) * np.random.normal(0, 1, signal.shape) # spectral and spatial white noise - uncorollated sensors\n",
    "    noisy_signal = signal + noise\n",
    "    return noisy_signal, noise\n",
    "\n",
    "\n",
    "def convolve_rir(signal, rirs):\n",
    "     rirs = rirs.T\n",
    "     return np.stack([np.convolve(signal, rir, mode='full') for rir in rirs])\n"
   ]
  },
  {
   "cell_type": "code",
   "execution_count": 6,
   "metadata": {},
   "outputs": [],
   "source": [
    "def plot_map(srp_map, grid, mic_pos, room_dim, best_pos, speaker_pos, title):\n",
    "\n",
    "    fig = px.imshow(srp_map, x=np.linspace(0, room_dim[0], 20), y=np.linspace(0, room_dim[1], 20))\n",
    "    #  add the microphones\n",
    "    fig.add_trace(go.Scatter(x=mic_pos[:, 0], y=mic_pos[:, 1], mode='markers', marker=dict(size=10, color='red')))\n",
    "    # add the estimated source position\n",
    "    fig.add_trace(go.Scatter(x=[grid[best_pos][0]], y=[grid[best_pos][1]], mode='markers', marker=dict(size=10, color='blue')))\n",
    "    fig.add_trace(go.Scatter(x=[speaker_pos[0]], y=[speaker_pos[1]], mode='markers', marker=dict(size=10, color='green')))\n",
    "    fig.update_layout(title=title,\n",
    "                    xaxis_title='X (m)',\n",
    "                    yaxis_title='Y (m)')\n",
    "    # add names to traces\n",
    "    fig.data[1].name = 'Microphones'\n",
    "    fig.data[2].name = 'Estimated Source Position'\n",
    "    fig.data[3].name = 'True Source Position'\n",
    "    # place colorbar to the left\n",
    "    fig.update_layout(coloraxis_colorbar=dict(\n",
    "        title='Likehood',\n",
    "        tickvals=[srp_map.min(), srp_map.max()],\n",
    "        ticktext=['Low', 'High'],\n",
    "        orientation = 'h',\n",
    "        \n",
    "    ))\n",
    "    \n",
    "    fig.show()"
   ]
  },
  {
   "cell_type": "code",
   "execution_count": 7,
   "metadata": {},
   "outputs": [],
   "source": [
    "wav, sr = librosa.load('12.wav', sr=None, mono=False)\n",
    "speaker_pos = rnd_speaker_pos()\n",
    "imp03_main = gen_rir(0.3,speaker_pos)\n",
    "\n",
    "main_speaker_room = convolve_rir(wav, imp03_main)\n",
    "\n",
    "main_speaker_room_noisy_white, white_noise = add_white_noise(main_speaker_room, snr_db=15)\n",
    "\n",
    "grid = np.array([[x, y, 1.5] for x in np.linspace(0, room_dim[0], 20) for y in np.linspace(0, room_dim[1], 20)])\n",
    "\n",
    "srp = srp_phat(main_speaker_room_noisy_white, mic_pos, grid, sr, interp=1)\n",
    "best_pos = srp.argmax()"
   ]
  },
  {
   "cell_type": "code",
   "execution_count": 8,
   "metadata": {},
   "outputs": [
    {
     "name": "stdout",
     "output_type": "stream",
     "text": [
      "Estimated Source Position: [3.55789474 2.28421053 1.5       ]\n",
      "True Source Position: [3.08116711940001, 2.6293023658996235, 1.5]\n"
     ]
    },
    {
     "data": {
      "application/vnd.plotly.v1+json": {
       "config": {
        "plotlyServerURL": "https://plot.ly"
       },
       "data": [
        {
         "coloraxis": "coloraxis",
         "hovertemplate": "x: %{x}<br>y: %{y}<br>color: %{z}<extra></extra>",
         "name": "0",
         "type": "heatmap",
         "x": [
          0,
          0.2736842105263158,
          0.5473684210526316,
          0.8210526315789475,
          1.0947368421052632,
          1.368421052631579,
          1.642105263157895,
          1.9157894736842107,
          2.1894736842105265,
          2.463157894736842,
          2.736842105263158,
          3.0105263157894737,
          3.28421052631579,
          3.5578947368421057,
          3.8315789473684214,
          4.105263157894737,
          4.378947368421053,
          4.652631578947369,
          4.926315789473684,
          5.2
         ],
         "xaxis": "x",
         "y": [
          0,
          0.3263157894736842,
          0.6526315789473685,
          0.9789473684210527,
          1.305263157894737,
          1.6315789473684212,
          1.9578947368421054,
          2.2842105263157895,
          2.610526315789474,
          2.936842105263158,
          3.2631578947368425,
          3.5894736842105264,
          3.9157894736842107,
          4.242105263157895,
          4.568421052631579,
          4.894736842105264,
          5.221052631578948,
          5.5473684210526315,
          5.873684210526316,
          6.2
         ],
         "yaxis": "y",
         "z": [
          [
           0.10356701,
           0.09975184,
           -0.008622477,
           -0.005116685,
           -0.0024153462,
           -0.021496477,
           -0.02084071,
           0.0150846215,
           0.0213891,
           0.120080926,
           0.17569509,
           0.16524181,
           0.43552524,
           0.4390473,
           0.49092197,
           0.5388503,
           0.54730076,
           0.64215136,
           0.8821719,
           1.1547887
          ],
          [
           0.10254889,
           0.10356701,
           0.09975184,
           0.00079191546,
           -0.005116685,
           -0.0024153462,
           -0.02084071,
           -0.013800234,
           0.0213891,
           0.120080926,
           0.17569509,
           0.16524181,
           0.44408292,
           0.4390473,
           0.5388503,
           0.54730076,
           0.6442764,
           0.8821719,
           1.1547887,
           1.2872655
          ],
          [
           0.21663731,
           0.10254889,
           0.10356701,
           0.09975184,
           0.00079191546,
           -0.0024153462,
           -0.021496477,
           -0.02084071,
           0.018714003,
           0.0213891,
           0.16524181,
           0.15257692,
           0.4390473,
           0.49092197,
           0.5388503,
           0.6442764,
           0.8821719,
           1.1547887,
           1.2872655,
           1.4013541
          ],
          [
           0.20717978,
           0.21663731,
           0.10254889,
           0.10356701,
           0.1059715,
           -0.005116685,
           -0.0024153462,
           -0.02084071,
           0.01651952,
           0.0213891,
           0.16524181,
           0.27605453,
           0.4390473,
           0.5388503,
           0.54730076,
           0.84205747,
           1.1547887,
           1.2872655,
           1.4013541,
           1.5246272
          ],
          [
           0.16297224,
           0.15675259,
           0.20717978,
           0.21663731,
           0.10356701,
           -0.008622477,
           -0.005116685,
           -0.04137408,
           0.0150846215,
           0.0213891,
           0.16524181,
           0.43552524,
           0.4590266,
           0.54730076,
           0.64215136,
           1.1547887,
           1.4013541,
           1.5246272,
           1.4721036,
           1.4319892
          ],
          [
           -0.0002743336,
           0.14266431,
           0.15675259,
           0.20717978,
           0.21663731,
           0.10356701,
           -0.008622477,
           -0.0024153462,
           -0.02084071,
           0.0213891,
           0.16524181,
           0.4390473,
           0.5388503,
           0.64215136,
           1.1547887,
           1.4013541,
           1.5246272,
           1.4721036,
           1.2307479,
           1.0878092
          ],
          [
           -0.07642645,
           -0.004322671,
           -0.0002743336,
           0.14266431,
           0.15675259,
           0.20717978,
           0.10356701,
           -0.008622477,
           -0.04137408,
           0.0213891,
           0.16524181,
           0.4590266,
           0.64215136,
           1.1547887,
           1.5246272,
           1.4721036,
           1.2307479,
           1.0878092,
           0.9596751,
           0.6493508
          ],
          [
           -0.07479882,
           -0.07642645,
           -0.07642645,
           -0.07745428,
           -0.0002743336,
           0.14266431,
           0.21659417,
           0.10356701,
           -0.005116685,
           0.013647208,
           0.29716814,
           0.54730076,
           1.1547887,
           1.5267522,
           1.2307479,
           1.0878092,
           0.7501074,
           0.6493508,
           0.6493508,
           0.65097845
          ],
          [
           -0.08822998,
           -0.072133355,
           -0.070695944,
           -0.06300264,
           -0.07479882,
           -0.07642645,
           -0.07745428,
           0.14266431,
           0.21663731,
           -0.04281149,
           0.3206695,
           1.4013541,
           1.2307479,
           0.7501074,
           0.6493508,
           0.65097845,
           0.5031998,
           0.47784954,
           0.33949244,
           0.32339582
          ],
          [
           -0.077636145,
           -0.077636145,
           -0.077636145,
           -0.077636145,
           -0.077636145,
           -0.077636145,
           -0.08559557,
           -0.08559557,
           -0.07909926,
           -0.07743112,
           0.79487836,
           0.4871032,
           0.2946763,
           0.2946763,
           0.30263573,
           0.30263573,
           0.30263573,
           0.30263573,
           0.30263573,
           0.30263573
          ],
          [
           -0.09607039,
           -0.09607039,
           -0.09607039,
           -0.09607039,
           -0.10580482,
           -0.09724714,
           -0.06606786,
           -0.06986225,
           0.030943364,
           0.29725128,
           -0.055771876,
           0.17511518,
           0.03318063,
           0.06582222,
           0.072411515,
           0.10129637,
           0.12587377,
           0.12587377,
           0.12587377,
           0.12587377
          ],
          [
           -0.08718144,
           -0.06606786,
           -0.0907603,
           -0.0907603,
           -0.0907603,
           -0.031609345,
           0.022056747,
           0.23109253,
           0.4957912,
           0.007438014,
           -0.09606612,
           -0.027013507,
           0.19300714,
           0.1661626,
           0.15500668,
           0.04112978,
           0.04112978,
           0.04112978,
           0.06582222,
           0.06869453
          ],
          [
           -0.0907603,
           -0.0907603,
           -0.03565768,
           -0.031609345,
           -0.02404848,
           0.103133775,
           0.36827758,
           0.48897222,
           0.1853061,
           -0.014187914,
           -0.07379954,
           -0.07311141,
           0.051479634,
           0.19707672,
           0.19355579,
           0.16256754,
           0.15500668,
           0.026872538,
           0.04112978,
           0.04112978
          ],
          [
           -0.031609345,
           -0.031609345,
           -0.02404848,
           0.08181378,
           0.09566081,
           0.3735675,
           0.48897222,
           0.30472425,
           0.025335882,
           -0.02425361,
           -0.07008255,
           -0.108663306,
           -0.05547765,
           0.051479634,
           0.20236662,
           0.19326156,
           0.17742874,
           0.16256754,
           0.15500668,
           0.15500668
          ],
          [
           -0.02404848,
           0.08181378,
           0.09566081,
           0.36827758,
           0.37458563,
           0.49785882,
           0.3979656,
           0.1853061,
           0.032376356,
           -0.02425361,
           -0.07008255,
           -0.1036277,
           -0.07311141,
           -0.036643352,
           0.060432225,
           0.069889754,
           0.19707672,
           0.19326156,
           0.17742874,
           0.16256754
          ],
          [
           0.08181378,
           0.09566081,
           0.36827758,
           0.37458563,
           0.49785882,
           0.5032642,
           0.30472425,
           0.025335882,
           0.007438014,
           -0.02425361,
           -0.07008255,
           -0.09606612,
           -0.108663306,
           -0.05547765,
           -0.02671928,
           0.060432225,
           0.069889754,
           0.19707672,
           0.19326156,
           0.17742874
          ],
          [
           0.09566081,
           0.36827758,
           0.37458563,
           0.49785882,
           0.4957912,
           0.3020229,
           0.1853061,
           0.025335882,
           -0.016863013,
           -0.02425361,
           -0.07008255,
           -0.08646442,
           -0.108663306,
           -0.07311141,
           -0.047027208,
           -0.027013507,
           0.060432225,
           0.069889754,
           0.19707672,
           0.19326156
          ],
          [
           0.3735675,
           0.37458563,
           0.49785882,
           0.4957912,
           0.3020229,
           0.30472425,
           0.025335882,
           0.032376356,
           -0.02425361,
           -0.02425361,
           -0.07008255,
           -0.07008255,
           -0.1036277,
           -0.108663306,
           -0.05547765,
           -0.047027208,
           -0.027013507,
           0.060432225,
           0.069889754,
           0.20236662
          ],
          [
           0.37458563,
           0.49785882,
           0.4957912,
           0.3979656,
           0.30472425,
           0.1853061,
           0.025335882,
           0.0070260963,
           -0.02425361,
           -0.028152402,
           -0.05950633,
           -0.07008255,
           -0.111321,
           -0.108663306,
           -0.07311141,
           -0.05547765,
           -0.036643352,
           -0.027013507,
           0.060432225,
           0.069889754
          ],
          [
           0.49785882,
           0.4957912,
           0.5032642,
           0.3020229,
           0.30472425,
           0.025335882,
           0.025335882,
           -0.016863013,
           -0.02425361,
           -0.028152402,
           -0.05950633,
           -0.07008255,
           -0.08646442,
           -0.108663306,
           -0.108663306,
           -0.05547765,
           -0.047027208,
           -0.02671928,
           -0.027013507,
           0.060432225
          ]
         ]
        },
        {
         "marker": {
          "color": "red",
          "size": 10
         },
         "mode": "markers",
         "name": "Microphones",
         "type": "scatter",
         "x": [
          2.5,
          2.7,
          2.6,
          2.6
         ],
         "y": [
          3,
          3,
          2.9,
          3.1
         ]
        },
        {
         "marker": {
          "color": "blue",
          "size": 10
         },
         "mode": "markers",
         "name": "Estimated Source Position",
         "type": "scatter",
         "x": [
          3.5578947368421057
         ],
         "y": [
          2.2842105263157895
         ]
        },
        {
         "marker": {
          "color": "green",
          "size": 10
         },
         "mode": "markers",
         "name": "True Source Position",
         "type": "scatter",
         "x": [
          3.08116711940001
         ],
         "y": [
          2.6293023658996235
         ]
        }
       ],
       "layout": {
        "coloraxis": {
         "colorbar": {
          "orientation": "h",
          "ticktext": [
           "Low",
           "High"
          ],
          "tickvals": [
           -0.11132100224494934,
           1.526752233505249
          ],
          "title": {
           "text": "Likehood"
          }
         },
         "colorscale": [
          [
           0,
           "#0d0887"
          ],
          [
           0.1111111111111111,
           "#46039f"
          ],
          [
           0.2222222222222222,
           "#7201a8"
          ],
          [
           0.3333333333333333,
           "#9c179e"
          ],
          [
           0.4444444444444444,
           "#bd3786"
          ],
          [
           0.5555555555555556,
           "#d8576b"
          ],
          [
           0.6666666666666666,
           "#ed7953"
          ],
          [
           0.7777777777777778,
           "#fb9f3a"
          ],
          [
           0.8888888888888888,
           "#fdca26"
          ],
          [
           1,
           "#f0f921"
          ]
         ]
        },
        "margin": {
         "t": 60
        },
        "template": {
         "data": {
          "bar": [
           {
            "error_x": {
             "color": "#2a3f5f"
            },
            "error_y": {
             "color": "#2a3f5f"
            },
            "marker": {
             "line": {
              "color": "#E5ECF6",
              "width": 0.5
             },
             "pattern": {
              "fillmode": "overlay",
              "size": 10,
              "solidity": 0.2
             }
            },
            "type": "bar"
           }
          ],
          "barpolar": [
           {
            "marker": {
             "line": {
              "color": "#E5ECF6",
              "width": 0.5
             },
             "pattern": {
              "fillmode": "overlay",
              "size": 10,
              "solidity": 0.2
             }
            },
            "type": "barpolar"
           }
          ],
          "carpet": [
           {
            "aaxis": {
             "endlinecolor": "#2a3f5f",
             "gridcolor": "white",
             "linecolor": "white",
             "minorgridcolor": "white",
             "startlinecolor": "#2a3f5f"
            },
            "baxis": {
             "endlinecolor": "#2a3f5f",
             "gridcolor": "white",
             "linecolor": "white",
             "minorgridcolor": "white",
             "startlinecolor": "#2a3f5f"
            },
            "type": "carpet"
           }
          ],
          "choropleth": [
           {
            "colorbar": {
             "outlinewidth": 0,
             "ticks": ""
            },
            "type": "choropleth"
           }
          ],
          "contour": [
           {
            "colorbar": {
             "outlinewidth": 0,
             "ticks": ""
            },
            "colorscale": [
             [
              0,
              "#0d0887"
             ],
             [
              0.1111111111111111,
              "#46039f"
             ],
             [
              0.2222222222222222,
              "#7201a8"
             ],
             [
              0.3333333333333333,
              "#9c179e"
             ],
             [
              0.4444444444444444,
              "#bd3786"
             ],
             [
              0.5555555555555556,
              "#d8576b"
             ],
             [
              0.6666666666666666,
              "#ed7953"
             ],
             [
              0.7777777777777778,
              "#fb9f3a"
             ],
             [
              0.8888888888888888,
              "#fdca26"
             ],
             [
              1,
              "#f0f921"
             ]
            ],
            "type": "contour"
           }
          ],
          "contourcarpet": [
           {
            "colorbar": {
             "outlinewidth": 0,
             "ticks": ""
            },
            "type": "contourcarpet"
           }
          ],
          "heatmap": [
           {
            "colorbar": {
             "outlinewidth": 0,
             "ticks": ""
            },
            "colorscale": [
             [
              0,
              "#0d0887"
             ],
             [
              0.1111111111111111,
              "#46039f"
             ],
             [
              0.2222222222222222,
              "#7201a8"
             ],
             [
              0.3333333333333333,
              "#9c179e"
             ],
             [
              0.4444444444444444,
              "#bd3786"
             ],
             [
              0.5555555555555556,
              "#d8576b"
             ],
             [
              0.6666666666666666,
              "#ed7953"
             ],
             [
              0.7777777777777778,
              "#fb9f3a"
             ],
             [
              0.8888888888888888,
              "#fdca26"
             ],
             [
              1,
              "#f0f921"
             ]
            ],
            "type": "heatmap"
           }
          ],
          "heatmapgl": [
           {
            "colorbar": {
             "outlinewidth": 0,
             "ticks": ""
            },
            "colorscale": [
             [
              0,
              "#0d0887"
             ],
             [
              0.1111111111111111,
              "#46039f"
             ],
             [
              0.2222222222222222,
              "#7201a8"
             ],
             [
              0.3333333333333333,
              "#9c179e"
             ],
             [
              0.4444444444444444,
              "#bd3786"
             ],
             [
              0.5555555555555556,
              "#d8576b"
             ],
             [
              0.6666666666666666,
              "#ed7953"
             ],
             [
              0.7777777777777778,
              "#fb9f3a"
             ],
             [
              0.8888888888888888,
              "#fdca26"
             ],
             [
              1,
              "#f0f921"
             ]
            ],
            "type": "heatmapgl"
           }
          ],
          "histogram": [
           {
            "marker": {
             "pattern": {
              "fillmode": "overlay",
              "size": 10,
              "solidity": 0.2
             }
            },
            "type": "histogram"
           }
          ],
          "histogram2d": [
           {
            "colorbar": {
             "outlinewidth": 0,
             "ticks": ""
            },
            "colorscale": [
             [
              0,
              "#0d0887"
             ],
             [
              0.1111111111111111,
              "#46039f"
             ],
             [
              0.2222222222222222,
              "#7201a8"
             ],
             [
              0.3333333333333333,
              "#9c179e"
             ],
             [
              0.4444444444444444,
              "#bd3786"
             ],
             [
              0.5555555555555556,
              "#d8576b"
             ],
             [
              0.6666666666666666,
              "#ed7953"
             ],
             [
              0.7777777777777778,
              "#fb9f3a"
             ],
             [
              0.8888888888888888,
              "#fdca26"
             ],
             [
              1,
              "#f0f921"
             ]
            ],
            "type": "histogram2d"
           }
          ],
          "histogram2dcontour": [
           {
            "colorbar": {
             "outlinewidth": 0,
             "ticks": ""
            },
            "colorscale": [
             [
              0,
              "#0d0887"
             ],
             [
              0.1111111111111111,
              "#46039f"
             ],
             [
              0.2222222222222222,
              "#7201a8"
             ],
             [
              0.3333333333333333,
              "#9c179e"
             ],
             [
              0.4444444444444444,
              "#bd3786"
             ],
             [
              0.5555555555555556,
              "#d8576b"
             ],
             [
              0.6666666666666666,
              "#ed7953"
             ],
             [
              0.7777777777777778,
              "#fb9f3a"
             ],
             [
              0.8888888888888888,
              "#fdca26"
             ],
             [
              1,
              "#f0f921"
             ]
            ],
            "type": "histogram2dcontour"
           }
          ],
          "mesh3d": [
           {
            "colorbar": {
             "outlinewidth": 0,
             "ticks": ""
            },
            "type": "mesh3d"
           }
          ],
          "parcoords": [
           {
            "line": {
             "colorbar": {
              "outlinewidth": 0,
              "ticks": ""
             }
            },
            "type": "parcoords"
           }
          ],
          "pie": [
           {
            "automargin": true,
            "type": "pie"
           }
          ],
          "scatter": [
           {
            "fillpattern": {
             "fillmode": "overlay",
             "size": 10,
             "solidity": 0.2
            },
            "type": "scatter"
           }
          ],
          "scatter3d": [
           {
            "line": {
             "colorbar": {
              "outlinewidth": 0,
              "ticks": ""
             }
            },
            "marker": {
             "colorbar": {
              "outlinewidth": 0,
              "ticks": ""
             }
            },
            "type": "scatter3d"
           }
          ],
          "scattercarpet": [
           {
            "marker": {
             "colorbar": {
              "outlinewidth": 0,
              "ticks": ""
             }
            },
            "type": "scattercarpet"
           }
          ],
          "scattergeo": [
           {
            "marker": {
             "colorbar": {
              "outlinewidth": 0,
              "ticks": ""
             }
            },
            "type": "scattergeo"
           }
          ],
          "scattergl": [
           {
            "marker": {
             "colorbar": {
              "outlinewidth": 0,
              "ticks": ""
             }
            },
            "type": "scattergl"
           }
          ],
          "scattermapbox": [
           {
            "marker": {
             "colorbar": {
              "outlinewidth": 0,
              "ticks": ""
             }
            },
            "type": "scattermapbox"
           }
          ],
          "scatterpolar": [
           {
            "marker": {
             "colorbar": {
              "outlinewidth": 0,
              "ticks": ""
             }
            },
            "type": "scatterpolar"
           }
          ],
          "scatterpolargl": [
           {
            "marker": {
             "colorbar": {
              "outlinewidth": 0,
              "ticks": ""
             }
            },
            "type": "scatterpolargl"
           }
          ],
          "scatterternary": [
           {
            "marker": {
             "colorbar": {
              "outlinewidth": 0,
              "ticks": ""
             }
            },
            "type": "scatterternary"
           }
          ],
          "surface": [
           {
            "colorbar": {
             "outlinewidth": 0,
             "ticks": ""
            },
            "colorscale": [
             [
              0,
              "#0d0887"
             ],
             [
              0.1111111111111111,
              "#46039f"
             ],
             [
              0.2222222222222222,
              "#7201a8"
             ],
             [
              0.3333333333333333,
              "#9c179e"
             ],
             [
              0.4444444444444444,
              "#bd3786"
             ],
             [
              0.5555555555555556,
              "#d8576b"
             ],
             [
              0.6666666666666666,
              "#ed7953"
             ],
             [
              0.7777777777777778,
              "#fb9f3a"
             ],
             [
              0.8888888888888888,
              "#fdca26"
             ],
             [
              1,
              "#f0f921"
             ]
            ],
            "type": "surface"
           }
          ],
          "table": [
           {
            "cells": {
             "fill": {
              "color": "#EBF0F8"
             },
             "line": {
              "color": "white"
             }
            },
            "header": {
             "fill": {
              "color": "#C8D4E3"
             },
             "line": {
              "color": "white"
             }
            },
            "type": "table"
           }
          ]
         },
         "layout": {
          "annotationdefaults": {
           "arrowcolor": "#2a3f5f",
           "arrowhead": 0,
           "arrowwidth": 1
          },
          "autotypenumbers": "strict",
          "coloraxis": {
           "colorbar": {
            "outlinewidth": 0,
            "ticks": ""
           }
          },
          "colorscale": {
           "diverging": [
            [
             0,
             "#8e0152"
            ],
            [
             0.1,
             "#c51b7d"
            ],
            [
             0.2,
             "#de77ae"
            ],
            [
             0.3,
             "#f1b6da"
            ],
            [
             0.4,
             "#fde0ef"
            ],
            [
             0.5,
             "#f7f7f7"
            ],
            [
             0.6,
             "#e6f5d0"
            ],
            [
             0.7,
             "#b8e186"
            ],
            [
             0.8,
             "#7fbc41"
            ],
            [
             0.9,
             "#4d9221"
            ],
            [
             1,
             "#276419"
            ]
           ],
           "sequential": [
            [
             0,
             "#0d0887"
            ],
            [
             0.1111111111111111,
             "#46039f"
            ],
            [
             0.2222222222222222,
             "#7201a8"
            ],
            [
             0.3333333333333333,
             "#9c179e"
            ],
            [
             0.4444444444444444,
             "#bd3786"
            ],
            [
             0.5555555555555556,
             "#d8576b"
            ],
            [
             0.6666666666666666,
             "#ed7953"
            ],
            [
             0.7777777777777778,
             "#fb9f3a"
            ],
            [
             0.8888888888888888,
             "#fdca26"
            ],
            [
             1,
             "#f0f921"
            ]
           ],
           "sequentialminus": [
            [
             0,
             "#0d0887"
            ],
            [
             0.1111111111111111,
             "#46039f"
            ],
            [
             0.2222222222222222,
             "#7201a8"
            ],
            [
             0.3333333333333333,
             "#9c179e"
            ],
            [
             0.4444444444444444,
             "#bd3786"
            ],
            [
             0.5555555555555556,
             "#d8576b"
            ],
            [
             0.6666666666666666,
             "#ed7953"
            ],
            [
             0.7777777777777778,
             "#fb9f3a"
            ],
            [
             0.8888888888888888,
             "#fdca26"
            ],
            [
             1,
             "#f0f921"
            ]
           ]
          },
          "colorway": [
           "#636efa",
           "#EF553B",
           "#00cc96",
           "#ab63fa",
           "#FFA15A",
           "#19d3f3",
           "#FF6692",
           "#B6E880",
           "#FF97FF",
           "#FECB52"
          ],
          "font": {
           "color": "#2a3f5f"
          },
          "geo": {
           "bgcolor": "white",
           "lakecolor": "white",
           "landcolor": "#E5ECF6",
           "showlakes": true,
           "showland": true,
           "subunitcolor": "white"
          },
          "hoverlabel": {
           "align": "left"
          },
          "hovermode": "closest",
          "mapbox": {
           "style": "light"
          },
          "paper_bgcolor": "white",
          "plot_bgcolor": "#E5ECF6",
          "polar": {
           "angularaxis": {
            "gridcolor": "white",
            "linecolor": "white",
            "ticks": ""
           },
           "bgcolor": "#E5ECF6",
           "radialaxis": {
            "gridcolor": "white",
            "linecolor": "white",
            "ticks": ""
           }
          },
          "scene": {
           "xaxis": {
            "backgroundcolor": "#E5ECF6",
            "gridcolor": "white",
            "gridwidth": 2,
            "linecolor": "white",
            "showbackground": true,
            "ticks": "",
            "zerolinecolor": "white"
           },
           "yaxis": {
            "backgroundcolor": "#E5ECF6",
            "gridcolor": "white",
            "gridwidth": 2,
            "linecolor": "white",
            "showbackground": true,
            "ticks": "",
            "zerolinecolor": "white"
           },
           "zaxis": {
            "backgroundcolor": "#E5ECF6",
            "gridcolor": "white",
            "gridwidth": 2,
            "linecolor": "white",
            "showbackground": true,
            "ticks": "",
            "zerolinecolor": "white"
           }
          },
          "shapedefaults": {
           "line": {
            "color": "#2a3f5f"
           }
          },
          "ternary": {
           "aaxis": {
            "gridcolor": "white",
            "linecolor": "white",
            "ticks": ""
           },
           "baxis": {
            "gridcolor": "white",
            "linecolor": "white",
            "ticks": ""
           },
           "bgcolor": "#E5ECF6",
           "caxis": {
            "gridcolor": "white",
            "linecolor": "white",
            "ticks": ""
           }
          },
          "title": {
           "x": 0.05
          },
          "xaxis": {
           "automargin": true,
           "gridcolor": "white",
           "linecolor": "white",
           "ticks": "",
           "title": {
            "standoff": 15
           },
           "zerolinecolor": "white",
           "zerolinewidth": 2
          },
          "yaxis": {
           "automargin": true,
           "gridcolor": "white",
           "linecolor": "white",
           "ticks": "",
           "title": {
            "standoff": 15
           },
           "zerolinecolor": "white",
           "zerolinewidth": 2
          }
         }
        },
        "title": {
         "text": "SRP-PHAT Map"
        },
        "xaxis": {
         "anchor": "y",
         "constrain": "domain",
         "domain": [
          0,
          1
         ],
         "scaleanchor": "y",
         "title": {
          "text": "X (m)"
         }
        },
        "yaxis": {
         "anchor": "x",
         "autorange": "reversed",
         "constrain": "domain",
         "domain": [
          0,
          1
         ],
         "title": {
          "text": "Y (m)"
         }
        }
       }
      }
     },
     "metadata": {},
     "output_type": "display_data"
    }
   ],
   "source": [
    "srp = srp_phat(main_speaker_room_noisy_white, mic_pos, grid, sr, interp=1)\n",
    "best_pos = srp.argmax()\n",
    "print(f\"Estimated Source Position: {grid[best_pos]}\")\n",
    "print(f\"True Source Position: {speaker_pos}\")\n",
    "srp_map = srp\n",
    "srp_map = srp_map.reshape(20, 20)\n",
    "\n",
    "plot_map(srp_map.T, grid, mic_pos, room_dim, best_pos, speaker_pos, title='SRP-PHAT Map')\n"
   ]
  },
  {
   "cell_type": "code",
   "execution_count": 9,
   "metadata": {},
   "outputs": [
    {
     "name": "stdout",
     "output_type": "stream",
     "text": [
      "Estimated Source Position: [4.37894737 1.63157895 1.5       ]\n",
      "True Source Position: [3.08116711940001, 2.6293023658996235, 1.5]\n"
     ]
    },
    {
     "data": {
      "application/vnd.plotly.v1+json": {
       "config": {
        "plotlyServerURL": "https://plot.ly"
       },
       "data": [
        {
         "coloraxis": "coloraxis",
         "hovertemplate": "x: %{x}<br>y: %{y}<br>color: %{z}<extra></extra>",
         "name": "0",
         "type": "heatmap",
         "x": [
          0,
          0.2736842105263158,
          0.5473684210526316,
          0.8210526315789475,
          1.0947368421052632,
          1.368421052631579,
          1.642105263157895,
          1.9157894736842107,
          2.1894736842105265,
          2.463157894736842,
          2.736842105263158,
          3.0105263157894737,
          3.28421052631579,
          3.5578947368421057,
          3.8315789473684214,
          4.105263157894737,
          4.378947368421053,
          4.652631578947369,
          4.926315789473684,
          5.2
         ],
         "xaxis": "x",
         "y": [
          0,
          0.3263157894736842,
          0.6526315789473685,
          0.9789473684210527,
          1.305263157894737,
          1.6315789473684212,
          1.9578947368421054,
          2.2842105263157895,
          2.610526315789474,
          2.936842105263158,
          3.2631578947368425,
          3.5894736842105264,
          3.9157894736842107,
          4.242105263157895,
          4.568421052631579,
          4.894736842105264,
          5.221052631578948,
          5.5473684210526315,
          5.873684210526316,
          6.2
         ],
         "yaxis": "y",
         "z": [
          [
           0.8380823085668073,
           0.8288963004183884,
           0.8137706440725171,
           0.8057299723701655,
           0.812813174107625,
           0.8238784150580933,
           0.8322407465986708,
           0.8409069628122977,
           0.8442351997384719,
           0.8521239068860745,
           0.8524971868889814,
           0.83222671803395,
           0.8235263912164629,
           0.8446627850419196,
           0.8696339905307633,
           0.867800397924661,
           0.8471390803086085,
           0.8371111010023865,
           0.8539461710991049,
           0.8917199860654049
          ],
          [
           0.8394615129822544,
           0.8382478252904374,
           0.8277190512327266,
           0.810994468194457,
           0.8065658220760424,
           0.8182144875204712,
           0.8287968343239103,
           0.8390458417739471,
           0.8438524983053638,
           0.8512375049352419,
           0.8512876308810138,
           0.8286265827308138,
           0.8275784851014836,
           0.8574397613648583,
           0.8721763713264337,
           0.8538489283015863,
           0.8370153976081235,
           0.851546859626517,
           0.893382532776501,
           0.9405076023976001
          ],
          [
           0.840295955265202,
           0.8393117083938838,
           0.8384427288255998,
           0.8261464904167399,
           0.8081287068540728,
           0.8099176521714038,
           0.8243195513814183,
           0.8358807556943916,
           0.8437017485915603,
           0.8501371573441163,
           0.84963475378593,
           0.8252966839973772,
           0.8366836563073309,
           0.8691888574140727,
           0.8625064344545185,
           0.8384697265187021,
           0.8486986120615648,
           0.8955098164414241,
           0.9480960463841079,
           0.9837114081648153
          ],
          [
           0.8512791046086615,
           0.8421317061445367,
           0.839163165432279,
           0.8386729604647009,
           0.8239703134504867,
           0.8059086363246628,
           0.8164602825720524,
           0.8313656214373848,
           0.8435068963828303,
           0.8487781501660966,
           0.8473041577952545,
           0.8236394983261075,
           0.8519363140899033,
           0.8704825690509655,
           0.8427295786796019,
           0.8453244717394177,
           0.898324691176501,
           0.9573676471916797,
           0.9914580856112264,
           0.9998255437936056
          ],
          [
           0.8601853636788056,
           0.8569120324187788,
           0.8458326143278061,
           0.8392134949425952,
           0.8389427584681044,
           0.8208401072019615,
           0.8062728972657924,
           0.8251688476383218,
           0.8421490644462237,
           0.8471667803990874,
           0.8439159182455842,
           0.8269998286776817,
           0.8683986429681676,
           0.8515614647609107,
           0.8414277572236468,
           0.9022160471330438,
           0.9686513097740015,
           0.9978871767305437,
           0.99612048649774,
           0.9767564902667557
          ],
          [
           0.8348932954266768,
           0.8522019814029839,
           0.8604384631827223,
           0.8523314107690774,
           0.8401406996189559,
           0.8392460728262922,
           0.8162007894252908,
           0.8129163677747443,
           0.8373380458131677,
           0.8455576977428788,
           0.8389210492678946,
           0.841621536557837,
           0.8649904959051503,
           0.837389242662502,
           0.9079231269242333,
           0.9819130574022681,
           1,
           0.982333960515543,
           0.9475758774030403,
           0.9077615157926636
          ],
          [
           0.8104804450740912,
           0.8128338300529773,
           0.8286669821659096,
           0.8515281075705007,
           0.8597724591016859,
           0.8440496946680444,
           0.8395350260974073,
           0.8096490706933447,
           0.8273747320900999,
           0.8451622611758357,
           0.8321281620894665,
           0.8666367954614604,
           0.8351931786027232,
           0.9170195401527919,
           0.9953980380618043,
           0.9902253468748239,
           0.9469731292383359,
           0.8952422014651022,
           0.855179078135118,
           0.8335898031807375
          ],
          [
           0.8505091405165737,
           0.8380259445763645,
           0.8218364511724139,
           0.8100777758662207,
           0.8186667456244846,
           0.8501770256749548,
           0.8551202549763182,
           0.8396219908445175,
           0.8061168317732648,
           0.849104572892897,
           0.8290463548521957,
           0.8433743732212298,
           0.9333895363822543,
           0.9999526791904602,
           0.9456948146393706,
           0.8737200590626105,
           0.8346509556762878,
           0.8273645110606352,
           0.8340190414281229,
           0.8429266144178131
          ],
          [
           0.854687209657499,
           0.857074885113718,
           0.8596594551005444,
           0.8604810876835514,
           0.8543883191781663,
           0.8336424980283581,
           0.8094912960634749,
           0.8462056204850016,
           0.8400196896977085,
           0.8390939220455436,
           0.8604773842937805,
           0.967892492115552,
           0.9414288384766927,
           0.837824179438271,
           0.8318677514669971,
           0.8461557029784944,
           0.8535419010453318,
           0.8552117744075681,
           0.8545420406115972,
           0.8532675013728155
          ],
          [
           0.8601886912850237,
           0.8599344609482268,
           0.8595602698718796,
           0.8589913419719363,
           0.8580913120257929,
           0.8566001076471123,
           0.8540191257508191,
           0.8496230354790096,
           0.845302911505068,
           0.8224608287548292,
           0.8899797274159479,
           0.8427746791313879,
           0.8479081589091381,
           0.8500408021164624,
           0.8501347408941485,
           0.8496304784800492,
           0.8490011098611775,
           0.848391472704717,
           0.8478415479351037,
           0.8473571492561189
          ],
          [
           0.8425106813547927,
           0.8390435815378061,
           0.834949377669422,
           0.8303850166136756,
           0.8258990066342224,
           0.8225522595384622,
           0.8215469733845592,
           0.8335440259904107,
           0.8234586270285781,
           0.8503800795173762,
           0.8759629591290706,
           0.8751229449727477,
           0.8336825455395793,
           0.8155889931201095,
           0.8062492445715952,
           0.8027961267156555,
           0.803626297603496,
           0.8064053200637887,
           0.8097439640147303,
           0.81301287522289
          ],
          [
           0.8230334173309382,
           0.8235248673372897,
           0.8250459374190426,
           0.8289011706711689,
           0.8383409316071567,
           0.8494782591555062,
           0.82240903985939,
           0.8416105340733457,
           0.8922463765736443,
           0.8549178524859032,
           0.8498391654505953,
           0.8626083201095257,
           0.8723033241064059,
           0.8727635481630627,
           0.8573566096497482,
           0.8416348641789716,
           0.8322304071852492,
           0.8253166528720962,
           0.8190061064681586,
           0.813568794566375
          ],
          [
           0.832854240479249,
           0.8394784701727943,
           0.8469352069385985,
           0.8458641444349686,
           0.8222505292357902,
           0.8053315454787019,
           0.8843085757312802,
           0.9075562050904937,
           0.8434812817181435,
           0.8613456514759905,
           0.8409129318327702,
           0.8714188241470308,
           0.8580173714270724,
           0.863307386914002,
           0.8771091873709612,
           0.8717215226819842,
           0.8627584228734985,
           0.8521742036450352,
           0.843487781140027,
           0.8373771605518731
          ],
          [
           0.847961537503973,
           0.8416316573990555,
           0.8222009722587786,
           0.8035557874509072,
           0.8280551703978454,
           0.9028405268027601,
           0.9136857852524864,
           0.8635728754846461,
           0.8335063126702978,
           0.8607501149170131,
           0.839434368082892,
           0.8593339627198561,
           0.8719600788816647,
           0.8561003206202966,
           0.8584132368462624,
           0.8750701398923019,
           0.8760380841282538,
           0.8711961590821907,
           0.8648843146947102,
           0.8573956225907611
          ],
          [
           0.8221797769370052,
           0.8056109998851385,
           0.809303628873399,
           0.8525327423099698,
           0.9115736271447725,
           0.9167051774762942,
           0.8753348845827038,
           0.8421007073910228,
           0.8462558885062444,
           0.8598014656295561,
           0.8401185087305296,
           0.847256438178937,
           0.8695920949847928,
           0.8699524746522633,
           0.8551347456444622,
           0.8558917031255096,
           0.8708727384243057,
           0.8769576026723246,
           0.8749656972561988,
           0.8708825899223585
          ],
          [
           0.8040219349241552,
           0.8245464282125945,
           0.871058077558893,
           0.9161768898332459,
           0.9184250187904534,
           0.8843883552811695,
           0.8565710331778447,
           0.8319250399623919,
           0.85668847620062,
           0.8589955885226467,
           0.8412522049070663,
           0.8398081116740896,
           0.8623322103836383,
           0.8716756879189593,
           0.8674470987933044,
           0.854575948076602,
           0.8545140338287978,
           0.8668687913395495,
           0.8755824364596527,
           0.8766951545926782
          ],
          [
           0.8407742167544243,
           0.8842040861522292,
           0.9188259773545071,
           0.9195073627719917,
           0.891452712032052,
           0.8657574123225179,
           0.8415359351026607,
           0.8352859028168098,
           0.8617350515074618,
           0.8583313316081085,
           0.8423647626291785,
           0.8359827311776473,
           0.8539568343843982,
           0.868680325186657,
           0.8716894173612184,
           0.8651591414667542,
           0.8542197161258119,
           0.8537142660340482,
           0.8636462020757618,
           0.873132909659533
          ],
          [
           0.8935128415746061,
           0.9204549947179903,
           0.9202389745125317,
           0.8968975607050977,
           0.8725607848245861,
           0.8527364277426382,
           0.8327990888007941,
           0.8435600437870883,
           0.8636555783581825,
           0.857778345680596,
           0.8433450272931167,
           0.8343706743904802,
           0.8467842460703514,
           0.86352371195139,
           0.8709126068423213,
           0.8708324666223839,
           0.8632652306491824,
           0.8539762398436194,
           0.8532265832644994,
           0.8611806351591251
          ],
          [
           0.9215087362490181,
           0.9207606141259616,
           0.9011004167725057,
           0.8782969835518786,
           0.8607575315162066,
           0.8412315618802082,
           0.8320695403600276,
           0.851210629923967,
           0.8641200770616427,
           0.8573121647218575,
           0.844182995389234,
           0.8340001957362206,
           0.8414347271201,
           0.857477366600203,
           0.868139493520548,
           0.8716155774212214,
           0.8695683932821092,
           0.8617439258108377,
           0.8538009367867713,
           0.852917818153702
          ],
          [
           0.9211481881799841,
           0.9043771833147708,
           0.8832975876004834,
           0.8666408003879186,
           0.8503005308833964,
           0.8337822559795108,
           0.8363562495181266,
           0.8567241904593542,
           0.8639593761404367,
           0.856914636996207,
           0.8448950208288482,
           0.8342898627687944,
           0.8377507485667013,
           0.8516309302005561,
           0.8641453820360093,
           0.8702566962688636,
           0.8715718035641551,
           0.8681753860484023,
           0.8605272972434624,
           0.853669542528185
          ]
         ]
        },
        {
         "marker": {
          "color": "red",
          "size": 10
         },
         "mode": "markers",
         "name": "Microphones",
         "type": "scatter",
         "x": [
          2.5,
          2.7,
          2.6,
          2.6
         ],
         "y": [
          3,
          3,
          2.9,
          3.1
         ]
        },
        {
         "marker": {
          "color": "blue",
          "size": 10
         },
         "mode": "markers",
         "name": "Estimated Source Position",
         "type": "scatter",
         "x": [
          4.378947368421053
         ],
         "y": [
          1.6315789473684212
         ]
        },
        {
         "marker": {
          "color": "green",
          "size": 10
         },
         "mode": "markers",
         "name": "True Source Position",
         "type": "scatter",
         "x": [
          3.08116711940001
         ],
         "y": [
          2.6293023658996235
         ]
        }
       ],
       "layout": {
        "coloraxis": {
         "colorbar": {
          "orientation": "h",
          "ticktext": [
           "Low",
           "High"
          ],
          "tickvals": [
           0.8027961267156555,
           1
          ],
          "title": {
           "text": "Likehood"
          }
         },
         "colorscale": [
          [
           0,
           "#0d0887"
          ],
          [
           0.1111111111111111,
           "#46039f"
          ],
          [
           0.2222222222222222,
           "#7201a8"
          ],
          [
           0.3333333333333333,
           "#9c179e"
          ],
          [
           0.4444444444444444,
           "#bd3786"
          ],
          [
           0.5555555555555556,
           "#d8576b"
          ],
          [
           0.6666666666666666,
           "#ed7953"
          ],
          [
           0.7777777777777778,
           "#fb9f3a"
          ],
          [
           0.8888888888888888,
           "#fdca26"
          ],
          [
           1,
           "#f0f921"
          ]
         ]
        },
        "margin": {
         "t": 60
        },
        "template": {
         "data": {
          "bar": [
           {
            "error_x": {
             "color": "#2a3f5f"
            },
            "error_y": {
             "color": "#2a3f5f"
            },
            "marker": {
             "line": {
              "color": "#E5ECF6",
              "width": 0.5
             },
             "pattern": {
              "fillmode": "overlay",
              "size": 10,
              "solidity": 0.2
             }
            },
            "type": "bar"
           }
          ],
          "barpolar": [
           {
            "marker": {
             "line": {
              "color": "#E5ECF6",
              "width": 0.5
             },
             "pattern": {
              "fillmode": "overlay",
              "size": 10,
              "solidity": 0.2
             }
            },
            "type": "barpolar"
           }
          ],
          "carpet": [
           {
            "aaxis": {
             "endlinecolor": "#2a3f5f",
             "gridcolor": "white",
             "linecolor": "white",
             "minorgridcolor": "white",
             "startlinecolor": "#2a3f5f"
            },
            "baxis": {
             "endlinecolor": "#2a3f5f",
             "gridcolor": "white",
             "linecolor": "white",
             "minorgridcolor": "white",
             "startlinecolor": "#2a3f5f"
            },
            "type": "carpet"
           }
          ],
          "choropleth": [
           {
            "colorbar": {
             "outlinewidth": 0,
             "ticks": ""
            },
            "type": "choropleth"
           }
          ],
          "contour": [
           {
            "colorbar": {
             "outlinewidth": 0,
             "ticks": ""
            },
            "colorscale": [
             [
              0,
              "#0d0887"
             ],
             [
              0.1111111111111111,
              "#46039f"
             ],
             [
              0.2222222222222222,
              "#7201a8"
             ],
             [
              0.3333333333333333,
              "#9c179e"
             ],
             [
              0.4444444444444444,
              "#bd3786"
             ],
             [
              0.5555555555555556,
              "#d8576b"
             ],
             [
              0.6666666666666666,
              "#ed7953"
             ],
             [
              0.7777777777777778,
              "#fb9f3a"
             ],
             [
              0.8888888888888888,
              "#fdca26"
             ],
             [
              1,
              "#f0f921"
             ]
            ],
            "type": "contour"
           }
          ],
          "contourcarpet": [
           {
            "colorbar": {
             "outlinewidth": 0,
             "ticks": ""
            },
            "type": "contourcarpet"
           }
          ],
          "heatmap": [
           {
            "colorbar": {
             "outlinewidth": 0,
             "ticks": ""
            },
            "colorscale": [
             [
              0,
              "#0d0887"
             ],
             [
              0.1111111111111111,
              "#46039f"
             ],
             [
              0.2222222222222222,
              "#7201a8"
             ],
             [
              0.3333333333333333,
              "#9c179e"
             ],
             [
              0.4444444444444444,
              "#bd3786"
             ],
             [
              0.5555555555555556,
              "#d8576b"
             ],
             [
              0.6666666666666666,
              "#ed7953"
             ],
             [
              0.7777777777777778,
              "#fb9f3a"
             ],
             [
              0.8888888888888888,
              "#fdca26"
             ],
             [
              1,
              "#f0f921"
             ]
            ],
            "type": "heatmap"
           }
          ],
          "heatmapgl": [
           {
            "colorbar": {
             "outlinewidth": 0,
             "ticks": ""
            },
            "colorscale": [
             [
              0,
              "#0d0887"
             ],
             [
              0.1111111111111111,
              "#46039f"
             ],
             [
              0.2222222222222222,
              "#7201a8"
             ],
             [
              0.3333333333333333,
              "#9c179e"
             ],
             [
              0.4444444444444444,
              "#bd3786"
             ],
             [
              0.5555555555555556,
              "#d8576b"
             ],
             [
              0.6666666666666666,
              "#ed7953"
             ],
             [
              0.7777777777777778,
              "#fb9f3a"
             ],
             [
              0.8888888888888888,
              "#fdca26"
             ],
             [
              1,
              "#f0f921"
             ]
            ],
            "type": "heatmapgl"
           }
          ],
          "histogram": [
           {
            "marker": {
             "pattern": {
              "fillmode": "overlay",
              "size": 10,
              "solidity": 0.2
             }
            },
            "type": "histogram"
           }
          ],
          "histogram2d": [
           {
            "colorbar": {
             "outlinewidth": 0,
             "ticks": ""
            },
            "colorscale": [
             [
              0,
              "#0d0887"
             ],
             [
              0.1111111111111111,
              "#46039f"
             ],
             [
              0.2222222222222222,
              "#7201a8"
             ],
             [
              0.3333333333333333,
              "#9c179e"
             ],
             [
              0.4444444444444444,
              "#bd3786"
             ],
             [
              0.5555555555555556,
              "#d8576b"
             ],
             [
              0.6666666666666666,
              "#ed7953"
             ],
             [
              0.7777777777777778,
              "#fb9f3a"
             ],
             [
              0.8888888888888888,
              "#fdca26"
             ],
             [
              1,
              "#f0f921"
             ]
            ],
            "type": "histogram2d"
           }
          ],
          "histogram2dcontour": [
           {
            "colorbar": {
             "outlinewidth": 0,
             "ticks": ""
            },
            "colorscale": [
             [
              0,
              "#0d0887"
             ],
             [
              0.1111111111111111,
              "#46039f"
             ],
             [
              0.2222222222222222,
              "#7201a8"
             ],
             [
              0.3333333333333333,
              "#9c179e"
             ],
             [
              0.4444444444444444,
              "#bd3786"
             ],
             [
              0.5555555555555556,
              "#d8576b"
             ],
             [
              0.6666666666666666,
              "#ed7953"
             ],
             [
              0.7777777777777778,
              "#fb9f3a"
             ],
             [
              0.8888888888888888,
              "#fdca26"
             ],
             [
              1,
              "#f0f921"
             ]
            ],
            "type": "histogram2dcontour"
           }
          ],
          "mesh3d": [
           {
            "colorbar": {
             "outlinewidth": 0,
             "ticks": ""
            },
            "type": "mesh3d"
           }
          ],
          "parcoords": [
           {
            "line": {
             "colorbar": {
              "outlinewidth": 0,
              "ticks": ""
             }
            },
            "type": "parcoords"
           }
          ],
          "pie": [
           {
            "automargin": true,
            "type": "pie"
           }
          ],
          "scatter": [
           {
            "fillpattern": {
             "fillmode": "overlay",
             "size": 10,
             "solidity": 0.2
            },
            "type": "scatter"
           }
          ],
          "scatter3d": [
           {
            "line": {
             "colorbar": {
              "outlinewidth": 0,
              "ticks": ""
             }
            },
            "marker": {
             "colorbar": {
              "outlinewidth": 0,
              "ticks": ""
             }
            },
            "type": "scatter3d"
           }
          ],
          "scattercarpet": [
           {
            "marker": {
             "colorbar": {
              "outlinewidth": 0,
              "ticks": ""
             }
            },
            "type": "scattercarpet"
           }
          ],
          "scattergeo": [
           {
            "marker": {
             "colorbar": {
              "outlinewidth": 0,
              "ticks": ""
             }
            },
            "type": "scattergeo"
           }
          ],
          "scattergl": [
           {
            "marker": {
             "colorbar": {
              "outlinewidth": 0,
              "ticks": ""
             }
            },
            "type": "scattergl"
           }
          ],
          "scattermapbox": [
           {
            "marker": {
             "colorbar": {
              "outlinewidth": 0,
              "ticks": ""
             }
            },
            "type": "scattermapbox"
           }
          ],
          "scatterpolar": [
           {
            "marker": {
             "colorbar": {
              "outlinewidth": 0,
              "ticks": ""
             }
            },
            "type": "scatterpolar"
           }
          ],
          "scatterpolargl": [
           {
            "marker": {
             "colorbar": {
              "outlinewidth": 0,
              "ticks": ""
             }
            },
            "type": "scatterpolargl"
           }
          ],
          "scatterternary": [
           {
            "marker": {
             "colorbar": {
              "outlinewidth": 0,
              "ticks": ""
             }
            },
            "type": "scatterternary"
           }
          ],
          "surface": [
           {
            "colorbar": {
             "outlinewidth": 0,
             "ticks": ""
            },
            "colorscale": [
             [
              0,
              "#0d0887"
             ],
             [
              0.1111111111111111,
              "#46039f"
             ],
             [
              0.2222222222222222,
              "#7201a8"
             ],
             [
              0.3333333333333333,
              "#9c179e"
             ],
             [
              0.4444444444444444,
              "#bd3786"
             ],
             [
              0.5555555555555556,
              "#d8576b"
             ],
             [
              0.6666666666666666,
              "#ed7953"
             ],
             [
              0.7777777777777778,
              "#fb9f3a"
             ],
             [
              0.8888888888888888,
              "#fdca26"
             ],
             [
              1,
              "#f0f921"
             ]
            ],
            "type": "surface"
           }
          ],
          "table": [
           {
            "cells": {
             "fill": {
              "color": "#EBF0F8"
             },
             "line": {
              "color": "white"
             }
            },
            "header": {
             "fill": {
              "color": "#C8D4E3"
             },
             "line": {
              "color": "white"
             }
            },
            "type": "table"
           }
          ]
         },
         "layout": {
          "annotationdefaults": {
           "arrowcolor": "#2a3f5f",
           "arrowhead": 0,
           "arrowwidth": 1
          },
          "autotypenumbers": "strict",
          "coloraxis": {
           "colorbar": {
            "outlinewidth": 0,
            "ticks": ""
           }
          },
          "colorscale": {
           "diverging": [
            [
             0,
             "#8e0152"
            ],
            [
             0.1,
             "#c51b7d"
            ],
            [
             0.2,
             "#de77ae"
            ],
            [
             0.3,
             "#f1b6da"
            ],
            [
             0.4,
             "#fde0ef"
            ],
            [
             0.5,
             "#f7f7f7"
            ],
            [
             0.6,
             "#e6f5d0"
            ],
            [
             0.7,
             "#b8e186"
            ],
            [
             0.8,
             "#7fbc41"
            ],
            [
             0.9,
             "#4d9221"
            ],
            [
             1,
             "#276419"
            ]
           ],
           "sequential": [
            [
             0,
             "#0d0887"
            ],
            [
             0.1111111111111111,
             "#46039f"
            ],
            [
             0.2222222222222222,
             "#7201a8"
            ],
            [
             0.3333333333333333,
             "#9c179e"
            ],
            [
             0.4444444444444444,
             "#bd3786"
            ],
            [
             0.5555555555555556,
             "#d8576b"
            ],
            [
             0.6666666666666666,
             "#ed7953"
            ],
            [
             0.7777777777777778,
             "#fb9f3a"
            ],
            [
             0.8888888888888888,
             "#fdca26"
            ],
            [
             1,
             "#f0f921"
            ]
           ],
           "sequentialminus": [
            [
             0,
             "#0d0887"
            ],
            [
             0.1111111111111111,
             "#46039f"
            ],
            [
             0.2222222222222222,
             "#7201a8"
            ],
            [
             0.3333333333333333,
             "#9c179e"
            ],
            [
             0.4444444444444444,
             "#bd3786"
            ],
            [
             0.5555555555555556,
             "#d8576b"
            ],
            [
             0.6666666666666666,
             "#ed7953"
            ],
            [
             0.7777777777777778,
             "#fb9f3a"
            ],
            [
             0.8888888888888888,
             "#fdca26"
            ],
            [
             1,
             "#f0f921"
            ]
           ]
          },
          "colorway": [
           "#636efa",
           "#EF553B",
           "#00cc96",
           "#ab63fa",
           "#FFA15A",
           "#19d3f3",
           "#FF6692",
           "#B6E880",
           "#FF97FF",
           "#FECB52"
          ],
          "font": {
           "color": "#2a3f5f"
          },
          "geo": {
           "bgcolor": "white",
           "lakecolor": "white",
           "landcolor": "#E5ECF6",
           "showlakes": true,
           "showland": true,
           "subunitcolor": "white"
          },
          "hoverlabel": {
           "align": "left"
          },
          "hovermode": "closest",
          "mapbox": {
           "style": "light"
          },
          "paper_bgcolor": "white",
          "plot_bgcolor": "#E5ECF6",
          "polar": {
           "angularaxis": {
            "gridcolor": "white",
            "linecolor": "white",
            "ticks": ""
           },
           "bgcolor": "#E5ECF6",
           "radialaxis": {
            "gridcolor": "white",
            "linecolor": "white",
            "ticks": ""
           }
          },
          "scene": {
           "xaxis": {
            "backgroundcolor": "#E5ECF6",
            "gridcolor": "white",
            "gridwidth": 2,
            "linecolor": "white",
            "showbackground": true,
            "ticks": "",
            "zerolinecolor": "white"
           },
           "yaxis": {
            "backgroundcolor": "#E5ECF6",
            "gridcolor": "white",
            "gridwidth": 2,
            "linecolor": "white",
            "showbackground": true,
            "ticks": "",
            "zerolinecolor": "white"
           },
           "zaxis": {
            "backgroundcolor": "#E5ECF6",
            "gridcolor": "white",
            "gridwidth": 2,
            "linecolor": "white",
            "showbackground": true,
            "ticks": "",
            "zerolinecolor": "white"
           }
          },
          "shapedefaults": {
           "line": {
            "color": "#2a3f5f"
           }
          },
          "ternary": {
           "aaxis": {
            "gridcolor": "white",
            "linecolor": "white",
            "ticks": ""
           },
           "baxis": {
            "gridcolor": "white",
            "linecolor": "white",
            "ticks": ""
           },
           "bgcolor": "#E5ECF6",
           "caxis": {
            "gridcolor": "white",
            "linecolor": "white",
            "ticks": ""
           }
          },
          "title": {
           "x": 0.05
          },
          "xaxis": {
           "automargin": true,
           "gridcolor": "white",
           "linecolor": "white",
           "ticks": "",
           "title": {
            "standoff": 15
           },
           "zerolinecolor": "white",
           "zerolinewidth": 2
          },
          "yaxis": {
           "automargin": true,
           "gridcolor": "white",
           "linecolor": "white",
           "ticks": "",
           "title": {
            "standoff": 15
           },
           "zerolinecolor": "white",
           "zerolinewidth": 2
          }
         }
        },
        "title": {
         "text": "MUSIC Map"
        },
        "xaxis": {
         "anchor": "y",
         "constrain": "domain",
         "domain": [
          0,
          1
         ],
         "scaleanchor": "y",
         "title": {
          "text": "X (m)"
         }
        },
        "yaxis": {
         "anchor": "x",
         "autorange": "reversed",
         "constrain": "domain",
         "domain": [
          0,
          1
         ],
         "title": {
          "text": "Y (m)"
         }
        }
       }
      }
     },
     "metadata": {},
     "output_type": "display_data"
    }
   ],
   "source": [
    "\n",
    "spec = MUSIC(main_speaker_room_noisy_white, mic_pos, grid, sr)\n",
    "\n",
    "spec = spec / spec.max()\n",
    "\n",
    "music_map = spec.reshape(20, 20)\n",
    "\n",
    "best_pos = spec.argmax()\n",
    "\n",
    "print(f\"Estimated Source Position: {grid[best_pos]}\")\n",
    "print(f\"True Source Position: {speaker_pos}\")\n",
    "\n",
    "plot_map(music_map.T, grid, mic_pos, room_dim, best_pos, speaker_pos, title='MUSIC Map')\n",
    "\n"
   ]
  }
 ],
 "metadata": {
  "kernelspec": {
   "display_name": "base",
   "language": "python",
   "name": "python3"
  },
  "language_info": {
   "codemirror_mode": {
    "name": "ipython",
    "version": 3
   },
   "file_extension": ".py",
   "mimetype": "text/x-python",
   "name": "python",
   "nbconvert_exporter": "python",
   "pygments_lexer": "ipython3",
   "version": "3.10.9"
  }
 },
 "nbformat": 4,
 "nbformat_minor": 2
}
